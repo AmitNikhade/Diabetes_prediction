{
 "cells": [
  {
   "cell_type": "markdown",
   "id": "1d427410",
   "metadata": {},
   "source": [
    "Import packages"
   ]
  },
  {
   "cell_type": "code",
   "execution_count": 24,
   "id": "4a86cf68",
   "metadata": {},
   "outputs": [],
   "source": [
    "using PyCall\n",
    "using Pkg\n",
    "using Distributions, Plots\n",
    "using DataFrames\n",
    "using CSV"
   ]
  },
  {
   "cell_type": "markdown",
   "id": "f87a36ff",
   "metadata": {},
   "source": [
    "Load dataset"
   ]
  },
  {
   "cell_type": "code",
   "execution_count": 25,
   "id": "3bc4bab2",
   "metadata": {},
   "outputs": [
    {
     "data": {
      "text/html": [
       "<table class=\"data-frame\"><thead><tr><th></th><th>Pregnancies</th><th>Glucose</th><th>BloodPressure</th><th>SkinThickness</th><th>Insulin</th><th>BMI</th><th>DiabetesPedigreeFunction</th></tr><tr><th></th><th>Int64</th><th>Int64</th><th>Int64</th><th>Int64</th><th>Int64</th><th>Float64</th><th>Float64</th></tr></thead><tbody><p>768 rows × 9 columns (omitted printing of 2 columns)</p><tr><th>1</th><td>6</td><td>148</td><td>72</td><td>35</td><td>0</td><td>33.6</td><td>0.627</td></tr><tr><th>2</th><td>1</td><td>85</td><td>66</td><td>29</td><td>0</td><td>26.6</td><td>0.351</td></tr><tr><th>3</th><td>8</td><td>183</td><td>64</td><td>0</td><td>0</td><td>23.3</td><td>0.672</td></tr><tr><th>4</th><td>1</td><td>89</td><td>66</td><td>23</td><td>94</td><td>28.1</td><td>0.167</td></tr><tr><th>5</th><td>0</td><td>137</td><td>40</td><td>35</td><td>168</td><td>43.1</td><td>2.288</td></tr><tr><th>6</th><td>5</td><td>116</td><td>74</td><td>0</td><td>0</td><td>25.6</td><td>0.201</td></tr><tr><th>7</th><td>3</td><td>78</td><td>50</td><td>32</td><td>88</td><td>31.0</td><td>0.248</td></tr><tr><th>8</th><td>10</td><td>115</td><td>0</td><td>0</td><td>0</td><td>35.3</td><td>0.134</td></tr><tr><th>9</th><td>2</td><td>197</td><td>70</td><td>45</td><td>543</td><td>30.5</td><td>0.158</td></tr><tr><th>10</th><td>8</td><td>125</td><td>96</td><td>0</td><td>0</td><td>0.0</td><td>0.232</td></tr><tr><th>11</th><td>4</td><td>110</td><td>92</td><td>0</td><td>0</td><td>37.6</td><td>0.191</td></tr><tr><th>12</th><td>10</td><td>168</td><td>74</td><td>0</td><td>0</td><td>38.0</td><td>0.537</td></tr><tr><th>13</th><td>10</td><td>139</td><td>80</td><td>0</td><td>0</td><td>27.1</td><td>1.441</td></tr><tr><th>14</th><td>1</td><td>189</td><td>60</td><td>23</td><td>846</td><td>30.1</td><td>0.398</td></tr><tr><th>15</th><td>5</td><td>166</td><td>72</td><td>19</td><td>175</td><td>25.8</td><td>0.587</td></tr><tr><th>16</th><td>7</td><td>100</td><td>0</td><td>0</td><td>0</td><td>30.0</td><td>0.484</td></tr><tr><th>17</th><td>0</td><td>118</td><td>84</td><td>47</td><td>230</td><td>45.8</td><td>0.551</td></tr><tr><th>18</th><td>7</td><td>107</td><td>74</td><td>0</td><td>0</td><td>29.6</td><td>0.254</td></tr><tr><th>19</th><td>1</td><td>103</td><td>30</td><td>38</td><td>83</td><td>43.3</td><td>0.183</td></tr><tr><th>20</th><td>1</td><td>115</td><td>70</td><td>30</td><td>96</td><td>34.6</td><td>0.529</td></tr><tr><th>21</th><td>3</td><td>126</td><td>88</td><td>41</td><td>235</td><td>39.3</td><td>0.704</td></tr><tr><th>22</th><td>8</td><td>99</td><td>84</td><td>0</td><td>0</td><td>35.4</td><td>0.388</td></tr><tr><th>23</th><td>7</td><td>196</td><td>90</td><td>0</td><td>0</td><td>39.8</td><td>0.451</td></tr><tr><th>24</th><td>9</td><td>119</td><td>80</td><td>35</td><td>0</td><td>29.0</td><td>0.263</td></tr><tr><th>25</th><td>11</td><td>143</td><td>94</td><td>33</td><td>146</td><td>36.6</td><td>0.254</td></tr><tr><th>26</th><td>10</td><td>125</td><td>70</td><td>26</td><td>115</td><td>31.1</td><td>0.205</td></tr><tr><th>27</th><td>7</td><td>147</td><td>76</td><td>0</td><td>0</td><td>39.4</td><td>0.257</td></tr><tr><th>28</th><td>1</td><td>97</td><td>66</td><td>15</td><td>140</td><td>23.2</td><td>0.487</td></tr><tr><th>29</th><td>13</td><td>145</td><td>82</td><td>19</td><td>110</td><td>22.2</td><td>0.245</td></tr><tr><th>30</th><td>5</td><td>117</td><td>92</td><td>0</td><td>0</td><td>34.1</td><td>0.337</td></tr><tr><th>&vellip;</th><td>&vellip;</td><td>&vellip;</td><td>&vellip;</td><td>&vellip;</td><td>&vellip;</td><td>&vellip;</td><td>&vellip;</td></tr></tbody></table>"
      ],
      "text/latex": [
       "\\begin{tabular}{r|cccccccc}\n",
       "\t& Pregnancies & Glucose & BloodPressure & SkinThickness & Insulin & BMI & DiabetesPedigreeFunction & \\\\\n",
       "\t\\hline\n",
       "\t& Int64 & Int64 & Int64 & Int64 & Int64 & Float64 & Float64 & \\\\\n",
       "\t\\hline\n",
       "\t1 & 6 & 148 & 72 & 35 & 0 & 33.6 & 0.627 & $\\dots$ \\\\\n",
       "\t2 & 1 & 85 & 66 & 29 & 0 & 26.6 & 0.351 & $\\dots$ \\\\\n",
       "\t3 & 8 & 183 & 64 & 0 & 0 & 23.3 & 0.672 & $\\dots$ \\\\\n",
       "\t4 & 1 & 89 & 66 & 23 & 94 & 28.1 & 0.167 & $\\dots$ \\\\\n",
       "\t5 & 0 & 137 & 40 & 35 & 168 & 43.1 & 2.288 & $\\dots$ \\\\\n",
       "\t6 & 5 & 116 & 74 & 0 & 0 & 25.6 & 0.201 & $\\dots$ \\\\\n",
       "\t7 & 3 & 78 & 50 & 32 & 88 & 31.0 & 0.248 & $\\dots$ \\\\\n",
       "\t8 & 10 & 115 & 0 & 0 & 0 & 35.3 & 0.134 & $\\dots$ \\\\\n",
       "\t9 & 2 & 197 & 70 & 45 & 543 & 30.5 & 0.158 & $\\dots$ \\\\\n",
       "\t10 & 8 & 125 & 96 & 0 & 0 & 0.0 & 0.232 & $\\dots$ \\\\\n",
       "\t11 & 4 & 110 & 92 & 0 & 0 & 37.6 & 0.191 & $\\dots$ \\\\\n",
       "\t12 & 10 & 168 & 74 & 0 & 0 & 38.0 & 0.537 & $\\dots$ \\\\\n",
       "\t13 & 10 & 139 & 80 & 0 & 0 & 27.1 & 1.441 & $\\dots$ \\\\\n",
       "\t14 & 1 & 189 & 60 & 23 & 846 & 30.1 & 0.398 & $\\dots$ \\\\\n",
       "\t15 & 5 & 166 & 72 & 19 & 175 & 25.8 & 0.587 & $\\dots$ \\\\\n",
       "\t16 & 7 & 100 & 0 & 0 & 0 & 30.0 & 0.484 & $\\dots$ \\\\\n",
       "\t17 & 0 & 118 & 84 & 47 & 230 & 45.8 & 0.551 & $\\dots$ \\\\\n",
       "\t18 & 7 & 107 & 74 & 0 & 0 & 29.6 & 0.254 & $\\dots$ \\\\\n",
       "\t19 & 1 & 103 & 30 & 38 & 83 & 43.3 & 0.183 & $\\dots$ \\\\\n",
       "\t20 & 1 & 115 & 70 & 30 & 96 & 34.6 & 0.529 & $\\dots$ \\\\\n",
       "\t21 & 3 & 126 & 88 & 41 & 235 & 39.3 & 0.704 & $\\dots$ \\\\\n",
       "\t22 & 8 & 99 & 84 & 0 & 0 & 35.4 & 0.388 & $\\dots$ \\\\\n",
       "\t23 & 7 & 196 & 90 & 0 & 0 & 39.8 & 0.451 & $\\dots$ \\\\\n",
       "\t24 & 9 & 119 & 80 & 35 & 0 & 29.0 & 0.263 & $\\dots$ \\\\\n",
       "\t25 & 11 & 143 & 94 & 33 & 146 & 36.6 & 0.254 & $\\dots$ \\\\\n",
       "\t26 & 10 & 125 & 70 & 26 & 115 & 31.1 & 0.205 & $\\dots$ \\\\\n",
       "\t27 & 7 & 147 & 76 & 0 & 0 & 39.4 & 0.257 & $\\dots$ \\\\\n",
       "\t28 & 1 & 97 & 66 & 15 & 140 & 23.2 & 0.487 & $\\dots$ \\\\\n",
       "\t29 & 13 & 145 & 82 & 19 & 110 & 22.2 & 0.245 & $\\dots$ \\\\\n",
       "\t30 & 5 & 117 & 92 & 0 & 0 & 34.1 & 0.337 & $\\dots$ \\\\\n",
       "\t$\\dots$ & $\\dots$ & $\\dots$ & $\\dots$ & $\\dots$ & $\\dots$ & $\\dots$ & $\\dots$ &  \\\\\n",
       "\\end{tabular}\n"
      ],
      "text/plain": [
       "\u001b[1m768×9 DataFrame\u001b[0m\n",
       "\u001b[1m Row \u001b[0m│\u001b[1m Pregnancies \u001b[0m\u001b[1m Glucose \u001b[0m\u001b[1m BloodPressure \u001b[0m\u001b[1m SkinThickness \u001b[0m\u001b[1m Insulin \u001b[0m\u001b[1m BMI     \u001b[0m\u001b[1m D\u001b[0m ⋯\n",
       "\u001b[1m     \u001b[0m│\u001b[90m Int64       \u001b[0m\u001b[90m Int64   \u001b[0m\u001b[90m Int64         \u001b[0m\u001b[90m Int64         \u001b[0m\u001b[90m Int64   \u001b[0m\u001b[90m Float64 \u001b[0m\u001b[90m F\u001b[0m ⋯\n",
       "─────┼──────────────────────────────────────────────────────────────────────────\n",
       "   1 │           6      148             72             35        0     33.6    ⋯\n",
       "   2 │           1       85             66             29        0     26.6\n",
       "   3 │           8      183             64              0        0     23.3\n",
       "   4 │           1       89             66             23       94     28.1\n",
       "   5 │           0      137             40             35      168     43.1    ⋯\n",
       "   6 │           5      116             74              0        0     25.6\n",
       "   7 │           3       78             50             32       88     31.0\n",
       "   8 │          10      115              0              0        0     35.3\n",
       "   9 │           2      197             70             45      543     30.5    ⋯\n",
       "  10 │           8      125             96              0        0      0.0\n",
       "  11 │           4      110             92              0        0     37.6\n",
       "  ⋮  │      ⋮          ⋮           ⋮              ⋮           ⋮        ⋮       ⋱\n",
       " 759 │           1      106             76              0        0     37.5\n",
       " 760 │           6      190             92              0        0     35.5    ⋯\n",
       " 761 │           2       88             58             26       16     28.4\n",
       " 762 │           9      170             74             31        0     44.0\n",
       " 763 │           9       89             62              0        0     22.5\n",
       " 764 │          10      101             76             48      180     32.9    ⋯\n",
       " 765 │           2      122             70             27        0     36.8\n",
       " 766 │           5      121             72             23      112     26.2\n",
       " 767 │           1      126             60              0        0     30.1\n",
       " 768 │           1       93             70             31        0     30.4    ⋯\n",
       "\u001b[36m                                                  3 columns and 747 rows omitted\u001b[0m"
      ]
     },
     "execution_count": 25,
     "metadata": {},
     "output_type": "execute_result"
    }
   ],
   "source": [
    "df1 = CSV.read(\"/home/lucifer/Downloads/archive (4)/diabetes.csv\", DataFrame)"
   ]
  },
  {
   "cell_type": "markdown",
   "id": "bd22419c",
   "metadata": {},
   "source": [
    "create a copy of dataframe"
   ]
  },
  {
   "cell_type": "code",
   "execution_count": 26,
   "id": "18f3f93b",
   "metadata": {},
   "outputs": [
    {
     "data": {
      "text/html": [
       "<table class=\"data-frame\"><thead><tr><th></th><th>Pregnancies</th><th>Glucose</th><th>BloodPressure</th><th>SkinThickness</th><th>Insulin</th><th>BMI</th><th>DiabetesPedigreeFunction</th></tr><tr><th></th><th>Int64</th><th>Int64</th><th>Int64</th><th>Int64</th><th>Int64</th><th>Float64</th><th>Float64</th></tr></thead><tbody><p>768 rows × 9 columns (omitted printing of 2 columns)</p><tr><th>1</th><td>6</td><td>148</td><td>72</td><td>35</td><td>0</td><td>33.6</td><td>0.627</td></tr><tr><th>2</th><td>1</td><td>85</td><td>66</td><td>29</td><td>0</td><td>26.6</td><td>0.351</td></tr><tr><th>3</th><td>8</td><td>183</td><td>64</td><td>0</td><td>0</td><td>23.3</td><td>0.672</td></tr><tr><th>4</th><td>1</td><td>89</td><td>66</td><td>23</td><td>94</td><td>28.1</td><td>0.167</td></tr><tr><th>5</th><td>0</td><td>137</td><td>40</td><td>35</td><td>168</td><td>43.1</td><td>2.288</td></tr><tr><th>6</th><td>5</td><td>116</td><td>74</td><td>0</td><td>0</td><td>25.6</td><td>0.201</td></tr><tr><th>7</th><td>3</td><td>78</td><td>50</td><td>32</td><td>88</td><td>31.0</td><td>0.248</td></tr><tr><th>8</th><td>10</td><td>115</td><td>0</td><td>0</td><td>0</td><td>35.3</td><td>0.134</td></tr><tr><th>9</th><td>2</td><td>197</td><td>70</td><td>45</td><td>543</td><td>30.5</td><td>0.158</td></tr><tr><th>10</th><td>8</td><td>125</td><td>96</td><td>0</td><td>0</td><td>0.0</td><td>0.232</td></tr><tr><th>11</th><td>4</td><td>110</td><td>92</td><td>0</td><td>0</td><td>37.6</td><td>0.191</td></tr><tr><th>12</th><td>10</td><td>168</td><td>74</td><td>0</td><td>0</td><td>38.0</td><td>0.537</td></tr><tr><th>13</th><td>10</td><td>139</td><td>80</td><td>0</td><td>0</td><td>27.1</td><td>1.441</td></tr><tr><th>14</th><td>1</td><td>189</td><td>60</td><td>23</td><td>846</td><td>30.1</td><td>0.398</td></tr><tr><th>15</th><td>5</td><td>166</td><td>72</td><td>19</td><td>175</td><td>25.8</td><td>0.587</td></tr><tr><th>16</th><td>7</td><td>100</td><td>0</td><td>0</td><td>0</td><td>30.0</td><td>0.484</td></tr><tr><th>17</th><td>0</td><td>118</td><td>84</td><td>47</td><td>230</td><td>45.8</td><td>0.551</td></tr><tr><th>18</th><td>7</td><td>107</td><td>74</td><td>0</td><td>0</td><td>29.6</td><td>0.254</td></tr><tr><th>19</th><td>1</td><td>103</td><td>30</td><td>38</td><td>83</td><td>43.3</td><td>0.183</td></tr><tr><th>20</th><td>1</td><td>115</td><td>70</td><td>30</td><td>96</td><td>34.6</td><td>0.529</td></tr><tr><th>21</th><td>3</td><td>126</td><td>88</td><td>41</td><td>235</td><td>39.3</td><td>0.704</td></tr><tr><th>22</th><td>8</td><td>99</td><td>84</td><td>0</td><td>0</td><td>35.4</td><td>0.388</td></tr><tr><th>23</th><td>7</td><td>196</td><td>90</td><td>0</td><td>0</td><td>39.8</td><td>0.451</td></tr><tr><th>24</th><td>9</td><td>119</td><td>80</td><td>35</td><td>0</td><td>29.0</td><td>0.263</td></tr><tr><th>25</th><td>11</td><td>143</td><td>94</td><td>33</td><td>146</td><td>36.6</td><td>0.254</td></tr><tr><th>26</th><td>10</td><td>125</td><td>70</td><td>26</td><td>115</td><td>31.1</td><td>0.205</td></tr><tr><th>27</th><td>7</td><td>147</td><td>76</td><td>0</td><td>0</td><td>39.4</td><td>0.257</td></tr><tr><th>28</th><td>1</td><td>97</td><td>66</td><td>15</td><td>140</td><td>23.2</td><td>0.487</td></tr><tr><th>29</th><td>13</td><td>145</td><td>82</td><td>19</td><td>110</td><td>22.2</td><td>0.245</td></tr><tr><th>30</th><td>5</td><td>117</td><td>92</td><td>0</td><td>0</td><td>34.1</td><td>0.337</td></tr><tr><th>&vellip;</th><td>&vellip;</td><td>&vellip;</td><td>&vellip;</td><td>&vellip;</td><td>&vellip;</td><td>&vellip;</td><td>&vellip;</td></tr></tbody></table>"
      ],
      "text/latex": [
       "\\begin{tabular}{r|cccccccc}\n",
       "\t& Pregnancies & Glucose & BloodPressure & SkinThickness & Insulin & BMI & DiabetesPedigreeFunction & \\\\\n",
       "\t\\hline\n",
       "\t& Int64 & Int64 & Int64 & Int64 & Int64 & Float64 & Float64 & \\\\\n",
       "\t\\hline\n",
       "\t1 & 6 & 148 & 72 & 35 & 0 & 33.6 & 0.627 & $\\dots$ \\\\\n",
       "\t2 & 1 & 85 & 66 & 29 & 0 & 26.6 & 0.351 & $\\dots$ \\\\\n",
       "\t3 & 8 & 183 & 64 & 0 & 0 & 23.3 & 0.672 & $\\dots$ \\\\\n",
       "\t4 & 1 & 89 & 66 & 23 & 94 & 28.1 & 0.167 & $\\dots$ \\\\\n",
       "\t5 & 0 & 137 & 40 & 35 & 168 & 43.1 & 2.288 & $\\dots$ \\\\\n",
       "\t6 & 5 & 116 & 74 & 0 & 0 & 25.6 & 0.201 & $\\dots$ \\\\\n",
       "\t7 & 3 & 78 & 50 & 32 & 88 & 31.0 & 0.248 & $\\dots$ \\\\\n",
       "\t8 & 10 & 115 & 0 & 0 & 0 & 35.3 & 0.134 & $\\dots$ \\\\\n",
       "\t9 & 2 & 197 & 70 & 45 & 543 & 30.5 & 0.158 & $\\dots$ \\\\\n",
       "\t10 & 8 & 125 & 96 & 0 & 0 & 0.0 & 0.232 & $\\dots$ \\\\\n",
       "\t11 & 4 & 110 & 92 & 0 & 0 & 37.6 & 0.191 & $\\dots$ \\\\\n",
       "\t12 & 10 & 168 & 74 & 0 & 0 & 38.0 & 0.537 & $\\dots$ \\\\\n",
       "\t13 & 10 & 139 & 80 & 0 & 0 & 27.1 & 1.441 & $\\dots$ \\\\\n",
       "\t14 & 1 & 189 & 60 & 23 & 846 & 30.1 & 0.398 & $\\dots$ \\\\\n",
       "\t15 & 5 & 166 & 72 & 19 & 175 & 25.8 & 0.587 & $\\dots$ \\\\\n",
       "\t16 & 7 & 100 & 0 & 0 & 0 & 30.0 & 0.484 & $\\dots$ \\\\\n",
       "\t17 & 0 & 118 & 84 & 47 & 230 & 45.8 & 0.551 & $\\dots$ \\\\\n",
       "\t18 & 7 & 107 & 74 & 0 & 0 & 29.6 & 0.254 & $\\dots$ \\\\\n",
       "\t19 & 1 & 103 & 30 & 38 & 83 & 43.3 & 0.183 & $\\dots$ \\\\\n",
       "\t20 & 1 & 115 & 70 & 30 & 96 & 34.6 & 0.529 & $\\dots$ \\\\\n",
       "\t21 & 3 & 126 & 88 & 41 & 235 & 39.3 & 0.704 & $\\dots$ \\\\\n",
       "\t22 & 8 & 99 & 84 & 0 & 0 & 35.4 & 0.388 & $\\dots$ \\\\\n",
       "\t23 & 7 & 196 & 90 & 0 & 0 & 39.8 & 0.451 & $\\dots$ \\\\\n",
       "\t24 & 9 & 119 & 80 & 35 & 0 & 29.0 & 0.263 & $\\dots$ \\\\\n",
       "\t25 & 11 & 143 & 94 & 33 & 146 & 36.6 & 0.254 & $\\dots$ \\\\\n",
       "\t26 & 10 & 125 & 70 & 26 & 115 & 31.1 & 0.205 & $\\dots$ \\\\\n",
       "\t27 & 7 & 147 & 76 & 0 & 0 & 39.4 & 0.257 & $\\dots$ \\\\\n",
       "\t28 & 1 & 97 & 66 & 15 & 140 & 23.2 & 0.487 & $\\dots$ \\\\\n",
       "\t29 & 13 & 145 & 82 & 19 & 110 & 22.2 & 0.245 & $\\dots$ \\\\\n",
       "\t30 & 5 & 117 & 92 & 0 & 0 & 34.1 & 0.337 & $\\dots$ \\\\\n",
       "\t$\\dots$ & $\\dots$ & $\\dots$ & $\\dots$ & $\\dots$ & $\\dots$ & $\\dots$ & $\\dots$ &  \\\\\n",
       "\\end{tabular}\n"
      ],
      "text/plain": [
       "\u001b[1m768×9 DataFrame\u001b[0m\n",
       "\u001b[1m Row \u001b[0m│\u001b[1m Pregnancies \u001b[0m\u001b[1m Glucose \u001b[0m\u001b[1m BloodPressure \u001b[0m\u001b[1m SkinThickness \u001b[0m\u001b[1m Insulin \u001b[0m\u001b[1m BMI     \u001b[0m\u001b[1m D\u001b[0m ⋯\n",
       "\u001b[1m     \u001b[0m│\u001b[90m Int64       \u001b[0m\u001b[90m Int64   \u001b[0m\u001b[90m Int64         \u001b[0m\u001b[90m Int64         \u001b[0m\u001b[90m Int64   \u001b[0m\u001b[90m Float64 \u001b[0m\u001b[90m F\u001b[0m ⋯\n",
       "─────┼──────────────────────────────────────────────────────────────────────────\n",
       "   1 │           6      148             72             35        0     33.6    ⋯\n",
       "   2 │           1       85             66             29        0     26.6\n",
       "   3 │           8      183             64              0        0     23.3\n",
       "   4 │           1       89             66             23       94     28.1\n",
       "   5 │           0      137             40             35      168     43.1    ⋯\n",
       "   6 │           5      116             74              0        0     25.6\n",
       "   7 │           3       78             50             32       88     31.0\n",
       "   8 │          10      115              0              0        0     35.3\n",
       "   9 │           2      197             70             45      543     30.5    ⋯\n",
       "  10 │           8      125             96              0        0      0.0\n",
       "  11 │           4      110             92              0        0     37.6\n",
       "  ⋮  │      ⋮          ⋮           ⋮              ⋮           ⋮        ⋮       ⋱\n",
       " 759 │           1      106             76              0        0     37.5\n",
       " 760 │           6      190             92              0        0     35.5    ⋯\n",
       " 761 │           2       88             58             26       16     28.4\n",
       " 762 │           9      170             74             31        0     44.0\n",
       " 763 │           9       89             62              0        0     22.5\n",
       " 764 │          10      101             76             48      180     32.9    ⋯\n",
       " 765 │           2      122             70             27        0     36.8\n",
       " 766 │           5      121             72             23      112     26.2\n",
       " 767 │           1      126             60              0        0     30.1\n",
       " 768 │           1       93             70             31        0     30.4    ⋯\n",
       "\u001b[36m                                                  3 columns and 747 rows omitted\u001b[0m"
      ]
     },
     "execution_count": 26,
     "metadata": {},
     "output_type": "execute_result"
    }
   ],
   "source": [
    "df = copy(df1)"
   ]
  },
  {
   "cell_type": "markdown",
   "id": "f623e190",
   "metadata": {},
   "source": [
    "display first 5 rows"
   ]
  },
  {
   "cell_type": "code",
   "execution_count": 27,
   "id": "22ca9309",
   "metadata": {},
   "outputs": [
    {
     "data": {
      "text/html": [
       "<table class=\"data-frame\"><thead><tr><th></th><th>Pregnancies</th><th>Glucose</th><th>BloodPressure</th><th>SkinThickness</th><th>Insulin</th><th>BMI</th><th>DiabetesPedigreeFunction</th></tr><tr><th></th><th>Int64</th><th>Int64</th><th>Int64</th><th>Int64</th><th>Int64</th><th>Float64</th><th>Float64</th></tr></thead><tbody><p>5 rows × 9 columns (omitted printing of 2 columns)</p><tr><th>1</th><td>6</td><td>148</td><td>72</td><td>35</td><td>0</td><td>33.6</td><td>0.627</td></tr><tr><th>2</th><td>1</td><td>85</td><td>66</td><td>29</td><td>0</td><td>26.6</td><td>0.351</td></tr><tr><th>3</th><td>8</td><td>183</td><td>64</td><td>0</td><td>0</td><td>23.3</td><td>0.672</td></tr><tr><th>4</th><td>1</td><td>89</td><td>66</td><td>23</td><td>94</td><td>28.1</td><td>0.167</td></tr><tr><th>5</th><td>0</td><td>137</td><td>40</td><td>35</td><td>168</td><td>43.1</td><td>2.288</td></tr></tbody></table>"
      ],
      "text/latex": [
       "\\begin{tabular}{r|cccccccc}\n",
       "\t& Pregnancies & Glucose & BloodPressure & SkinThickness & Insulin & BMI & DiabetesPedigreeFunction & \\\\\n",
       "\t\\hline\n",
       "\t& Int64 & Int64 & Int64 & Int64 & Int64 & Float64 & Float64 & \\\\\n",
       "\t\\hline\n",
       "\t1 & 6 & 148 & 72 & 35 & 0 & 33.6 & 0.627 & $\\dots$ \\\\\n",
       "\t2 & 1 & 85 & 66 & 29 & 0 & 26.6 & 0.351 & $\\dots$ \\\\\n",
       "\t3 & 8 & 183 & 64 & 0 & 0 & 23.3 & 0.672 & $\\dots$ \\\\\n",
       "\t4 & 1 & 89 & 66 & 23 & 94 & 28.1 & 0.167 & $\\dots$ \\\\\n",
       "\t5 & 0 & 137 & 40 & 35 & 168 & 43.1 & 2.288 & $\\dots$ \\\\\n",
       "\\end{tabular}\n"
      ],
      "text/plain": [
       "\u001b[1m5×9 DataFrame\u001b[0m\n",
       "\u001b[1m Row \u001b[0m│\u001b[1m Pregnancies \u001b[0m\u001b[1m Glucose \u001b[0m\u001b[1m BloodPressure \u001b[0m\u001b[1m SkinThickness \u001b[0m\u001b[1m Insulin \u001b[0m\u001b[1m BMI     \u001b[0m\u001b[1m D\u001b[0m ⋯\n",
       "\u001b[1m     \u001b[0m│\u001b[90m Int64       \u001b[0m\u001b[90m Int64   \u001b[0m\u001b[90m Int64         \u001b[0m\u001b[90m Int64         \u001b[0m\u001b[90m Int64   \u001b[0m\u001b[90m Float64 \u001b[0m\u001b[90m F\u001b[0m ⋯\n",
       "─────┼──────────────────────────────────────────────────────────────────────────\n",
       "   1 │           6      148             72             35        0     33.6    ⋯\n",
       "   2 │           1       85             66             29        0     26.6\n",
       "   3 │           8      183             64              0        0     23.3\n",
       "   4 │           1       89             66             23       94     28.1\n",
       "   5 │           0      137             40             35      168     43.1    ⋯\n",
       "\u001b[36m                                                               3 columns omitted\u001b[0m"
      ]
     },
     "execution_count": 27,
     "metadata": {},
     "output_type": "execute_result"
    }
   ],
   "source": [
    "first(df,5)"
   ]
  },
  {
   "cell_type": "markdown",
   "id": "3c69b977",
   "metadata": {},
   "source": [
    "display number of rows"
   ]
  },
  {
   "cell_type": "code",
   "execution_count": 28,
   "id": "7256a321",
   "metadata": {},
   "outputs": [
    {
     "data": {
      "text/plain": [
       "768"
      ]
     },
     "execution_count": 28,
     "metadata": {},
     "output_type": "execute_result"
    }
   ],
   "source": [
    "nrow(df)"
   ]
  },
  {
   "cell_type": "markdown",
   "id": "8cf4a1b5",
   "metadata": {},
   "source": [
    "display number of columns"
   ]
  },
  {
   "cell_type": "code",
   "execution_count": 29,
   "id": "fdc23edc",
   "metadata": {},
   "outputs": [
    {
     "data": {
      "text/plain": [
       "9"
      ]
     },
     "execution_count": 29,
     "metadata": {},
     "output_type": "execute_result"
    }
   ],
   "source": [
    "ncol(df)"
   ]
  },
  {
   "cell_type": "markdown",
   "id": "aee79222",
   "metadata": {},
   "source": [
    "display name of columns in dataframe"
   ]
  },
  {
   "cell_type": "code",
   "execution_count": 30,
   "id": "f8138db6",
   "metadata": {},
   "outputs": [
    {
     "data": {
      "text/plain": [
       "9-element Vector{String}:\n",
       " \"Pregnancies\"\n",
       " \"Glucose\"\n",
       " \"BloodPressure\"\n",
       " \"SkinThickness\"\n",
       " \"Insulin\"\n",
       " \"BMI\"\n",
       " \"DiabetesPedigreeFunction\"\n",
       " \"Age\"\n",
       " \"Outcome\""
      ]
     },
     "execution_count": 30,
     "metadata": {},
     "output_type": "execute_result"
    }
   ],
   "source": [
    "names(df)"
   ]
  },
  {
   "cell_type": "markdown",
   "id": "94c10d84",
   "metadata": {},
   "source": [
    "Finding missing values"
   ]
  },
  {
   "cell_type": "code",
   "execution_count": 31,
   "id": "293b9719",
   "metadata": {},
   "outputs": [
    {
     "data": {
      "text/plain": [
       "false"
      ]
     },
     "execution_count": 31,
     "metadata": {},
     "output_type": "execute_result"
    }
   ],
   "source": [
    "ismissing(df)"
   ]
  },
  {
   "cell_type": "markdown",
   "id": "f499e8a8",
   "metadata": {},
   "source": [
    "Analyze the data"
   ]
  },
  {
   "cell_type": "code",
   "execution_count": 32,
   "id": "eccaa500",
   "metadata": {},
   "outputs": [
    {
     "data": {
      "text/html": [
       "<table class=\"data-frame\"><thead><tr><th></th><th>variable</th><th>mean</th><th>min</th><th>median</th><th>max</th><th>nmissing</th><th>eltype</th></tr><tr><th></th><th>Symbol</th><th>Float64</th><th>Real</th><th>Float64</th><th>Real</th><th>Int64</th><th>DataType</th></tr></thead><tbody><p>9 rows × 7 columns</p><tr><th>1</th><td>Pregnancies</td><td>3.84505</td><td>0</td><td>3.0</td><td>17</td><td>0</td><td>Int64</td></tr><tr><th>2</th><td>Glucose</td><td>120.895</td><td>0</td><td>117.0</td><td>199</td><td>0</td><td>Int64</td></tr><tr><th>3</th><td>BloodPressure</td><td>69.1055</td><td>0</td><td>72.0</td><td>122</td><td>0</td><td>Int64</td></tr><tr><th>4</th><td>SkinThickness</td><td>20.5365</td><td>0</td><td>23.0</td><td>99</td><td>0</td><td>Int64</td></tr><tr><th>5</th><td>Insulin</td><td>79.7995</td><td>0</td><td>30.5</td><td>846</td><td>0</td><td>Int64</td></tr><tr><th>6</th><td>BMI</td><td>31.9926</td><td>0.0</td><td>32.0</td><td>67.1</td><td>0</td><td>Float64</td></tr><tr><th>7</th><td>DiabetesPedigreeFunction</td><td>0.471876</td><td>0.078</td><td>0.3725</td><td>2.42</td><td>0</td><td>Float64</td></tr><tr><th>8</th><td>Age</td><td>33.2409</td><td>21</td><td>29.0</td><td>81</td><td>0</td><td>Int64</td></tr><tr><th>9</th><td>Outcome</td><td>0.348958</td><td>0</td><td>0.0</td><td>1</td><td>0</td><td>Int64</td></tr></tbody></table>"
      ],
      "text/latex": [
       "\\begin{tabular}{r|ccccccc}\n",
       "\t& variable & mean & min & median & max & nmissing & eltype\\\\\n",
       "\t\\hline\n",
       "\t& Symbol & Float64 & Real & Float64 & Real & Int64 & DataType\\\\\n",
       "\t\\hline\n",
       "\t1 & Pregnancies & 3.84505 & 0 & 3.0 & 17 & 0 & Int64 \\\\\n",
       "\t2 & Glucose & 120.895 & 0 & 117.0 & 199 & 0 & Int64 \\\\\n",
       "\t3 & BloodPressure & 69.1055 & 0 & 72.0 & 122 & 0 & Int64 \\\\\n",
       "\t4 & SkinThickness & 20.5365 & 0 & 23.0 & 99 & 0 & Int64 \\\\\n",
       "\t5 & Insulin & 79.7995 & 0 & 30.5 & 846 & 0 & Int64 \\\\\n",
       "\t6 & BMI & 31.9926 & 0.0 & 32.0 & 67.1 & 0 & Float64 \\\\\n",
       "\t7 & DiabetesPedigreeFunction & 0.471876 & 0.078 & 0.3725 & 2.42 & 0 & Float64 \\\\\n",
       "\t8 & Age & 33.2409 & 21 & 29.0 & 81 & 0 & Int64 \\\\\n",
       "\t9 & Outcome & 0.348958 & 0 & 0.0 & 1 & 0 & Int64 \\\\\n",
       "\\end{tabular}\n"
      ],
      "text/plain": [
       "\u001b[1m9×7 DataFrame\u001b[0m\n",
       "\u001b[1m Row \u001b[0m│\u001b[1m variable                 \u001b[0m\u001b[1m mean       \u001b[0m\u001b[1m min    \u001b[0m\u001b[1m median   \u001b[0m\u001b[1m max    \u001b[0m\u001b[1m nmissin\u001b[0m ⋯\n",
       "\u001b[1m     \u001b[0m│\u001b[90m Symbol                   \u001b[0m\u001b[90m Float64    \u001b[0m\u001b[90m Real   \u001b[0m\u001b[90m Float64  \u001b[0m\u001b[90m Real   \u001b[0m\u001b[90m Int64  \u001b[0m ⋯\n",
       "─────┼──────────────────────────────────────────────────────────────────────────\n",
       "   1 │ Pregnancies                 3.84505    0        3.0      17             ⋯\n",
       "   2 │ Glucose                   120.895      0      117.0     199\n",
       "   3 │ BloodPressure              69.1055     0       72.0     122\n",
       "   4 │ SkinThickness              20.5365     0       23.0      99\n",
       "   5 │ Insulin                    79.7995     0       30.5     846             ⋯\n",
       "   6 │ BMI                        31.9926     0.0     32.0      67.1\n",
       "   7 │ DiabetesPedigreeFunction    0.471876   0.078    0.3725    2.42\n",
       "   8 │ Age                        33.2409    21       29.0      81\n",
       "   9 │ Outcome                     0.348958   0        0.0       1             ⋯\n",
       "\u001b[36m                                                               2 columns omitted\u001b[0m"
      ]
     },
     "execution_count": 32,
     "metadata": {},
     "output_type": "execute_result"
    }
   ],
   "source": [
    "describe(df)"
   ]
  },
  {
   "cell_type": "markdown",
   "id": "875c8fe0",
   "metadata": {},
   "source": [
    "Remove Outliers"
   ]
  },
  {
   "cell_type": "code",
   "execution_count": 33,
   "id": "adef7d8f",
   "metadata": {},
   "outputs": [
    {
     "data": {
      "text/html": [
       "<table class=\"data-frame\"><thead><tr><th></th><th>Pregnancies</th><th>Glucose</th><th>BloodPressure</th><th>SkinThickness</th><th>Insulin</th><th>BMI</th><th>DiabetesPedigreeFunction</th></tr><tr><th></th><th>Int64</th><th>Int64</th><th>Int64</th><th>Int64</th><th>Int64</th><th>Float64</th><th>Float64</th></tr></thead><tbody><p>743 rows × 9 columns (omitted printing of 2 columns)</p><tr><th>1</th><td>6</td><td>148</td><td>72</td><td>35</td><td>0</td><td>33.6</td><td>0.627</td></tr><tr><th>2</th><td>1</td><td>85</td><td>66</td><td>29</td><td>0</td><td>26.6</td><td>0.351</td></tr><tr><th>3</th><td>8</td><td>183</td><td>64</td><td>0</td><td>0</td><td>23.3</td><td>0.672</td></tr><tr><th>4</th><td>1</td><td>89</td><td>66</td><td>23</td><td>94</td><td>28.1</td><td>0.167</td></tr><tr><th>5</th><td>5</td><td>116</td><td>74</td><td>0</td><td>0</td><td>25.6</td><td>0.201</td></tr><tr><th>6</th><td>3</td><td>78</td><td>50</td><td>32</td><td>88</td><td>31.0</td><td>0.248</td></tr><tr><th>7</th><td>10</td><td>115</td><td>0</td><td>0</td><td>0</td><td>35.3</td><td>0.134</td></tr><tr><th>8</th><td>2</td><td>197</td><td>70</td><td>45</td><td>543</td><td>30.5</td><td>0.158</td></tr><tr><th>9</th><td>8</td><td>125</td><td>96</td><td>0</td><td>0</td><td>0.0</td><td>0.232</td></tr><tr><th>10</th><td>4</td><td>110</td><td>92</td><td>0</td><td>0</td><td>37.6</td><td>0.191</td></tr><tr><th>11</th><td>10</td><td>168</td><td>74</td><td>0</td><td>0</td><td>38.0</td><td>0.537</td></tr><tr><th>12</th><td>10</td><td>139</td><td>80</td><td>0</td><td>0</td><td>27.1</td><td>1.441</td></tr><tr><th>13</th><td>5</td><td>166</td><td>72</td><td>19</td><td>175</td><td>25.8</td><td>0.587</td></tr><tr><th>14</th><td>7</td><td>100</td><td>0</td><td>0</td><td>0</td><td>30.0</td><td>0.484</td></tr><tr><th>15</th><td>0</td><td>118</td><td>84</td><td>47</td><td>230</td><td>45.8</td><td>0.551</td></tr><tr><th>16</th><td>7</td><td>107</td><td>74</td><td>0</td><td>0</td><td>29.6</td><td>0.254</td></tr><tr><th>17</th><td>1</td><td>103</td><td>30</td><td>38</td><td>83</td><td>43.3</td><td>0.183</td></tr><tr><th>18</th><td>1</td><td>115</td><td>70</td><td>30</td><td>96</td><td>34.6</td><td>0.529</td></tr><tr><th>19</th><td>3</td><td>126</td><td>88</td><td>41</td><td>235</td><td>39.3</td><td>0.704</td></tr><tr><th>20</th><td>8</td><td>99</td><td>84</td><td>0</td><td>0</td><td>35.4</td><td>0.388</td></tr><tr><th>21</th><td>7</td><td>196</td><td>90</td><td>0</td><td>0</td><td>39.8</td><td>0.451</td></tr><tr><th>22</th><td>9</td><td>119</td><td>80</td><td>35</td><td>0</td><td>29.0</td><td>0.263</td></tr><tr><th>23</th><td>11</td><td>143</td><td>94</td><td>33</td><td>146</td><td>36.6</td><td>0.254</td></tr><tr><th>24</th><td>10</td><td>125</td><td>70</td><td>26</td><td>115</td><td>31.1</td><td>0.205</td></tr><tr><th>25</th><td>7</td><td>147</td><td>76</td><td>0</td><td>0</td><td>39.4</td><td>0.257</td></tr><tr><th>26</th><td>1</td><td>97</td><td>66</td><td>15</td><td>140</td><td>23.2</td><td>0.487</td></tr><tr><th>27</th><td>13</td><td>145</td><td>82</td><td>19</td><td>110</td><td>22.2</td><td>0.245</td></tr><tr><th>28</th><td>5</td><td>117</td><td>92</td><td>0</td><td>0</td><td>34.1</td><td>0.337</td></tr><tr><th>29</th><td>5</td><td>109</td><td>75</td><td>26</td><td>0</td><td>36.0</td><td>0.546</td></tr><tr><th>30</th><td>3</td><td>158</td><td>76</td><td>36</td><td>245</td><td>31.6</td><td>0.851</td></tr><tr><th>&vellip;</th><td>&vellip;</td><td>&vellip;</td><td>&vellip;</td><td>&vellip;</td><td>&vellip;</td><td>&vellip;</td><td>&vellip;</td></tr></tbody></table>"
      ],
      "text/latex": [
       "\\begin{tabular}{r|cccccccc}\n",
       "\t& Pregnancies & Glucose & BloodPressure & SkinThickness & Insulin & BMI & DiabetesPedigreeFunction & \\\\\n",
       "\t\\hline\n",
       "\t& Int64 & Int64 & Int64 & Int64 & Int64 & Float64 & Float64 & \\\\\n",
       "\t\\hline\n",
       "\t1 & 6 & 148 & 72 & 35 & 0 & 33.6 & 0.627 & $\\dots$ \\\\\n",
       "\t2 & 1 & 85 & 66 & 29 & 0 & 26.6 & 0.351 & $\\dots$ \\\\\n",
       "\t3 & 8 & 183 & 64 & 0 & 0 & 23.3 & 0.672 & $\\dots$ \\\\\n",
       "\t4 & 1 & 89 & 66 & 23 & 94 & 28.1 & 0.167 & $\\dots$ \\\\\n",
       "\t5 & 5 & 116 & 74 & 0 & 0 & 25.6 & 0.201 & $\\dots$ \\\\\n",
       "\t6 & 3 & 78 & 50 & 32 & 88 & 31.0 & 0.248 & $\\dots$ \\\\\n",
       "\t7 & 10 & 115 & 0 & 0 & 0 & 35.3 & 0.134 & $\\dots$ \\\\\n",
       "\t8 & 2 & 197 & 70 & 45 & 543 & 30.5 & 0.158 & $\\dots$ \\\\\n",
       "\t9 & 8 & 125 & 96 & 0 & 0 & 0.0 & 0.232 & $\\dots$ \\\\\n",
       "\t10 & 4 & 110 & 92 & 0 & 0 & 37.6 & 0.191 & $\\dots$ \\\\\n",
       "\t11 & 10 & 168 & 74 & 0 & 0 & 38.0 & 0.537 & $\\dots$ \\\\\n",
       "\t12 & 10 & 139 & 80 & 0 & 0 & 27.1 & 1.441 & $\\dots$ \\\\\n",
       "\t13 & 5 & 166 & 72 & 19 & 175 & 25.8 & 0.587 & $\\dots$ \\\\\n",
       "\t14 & 7 & 100 & 0 & 0 & 0 & 30.0 & 0.484 & $\\dots$ \\\\\n",
       "\t15 & 0 & 118 & 84 & 47 & 230 & 45.8 & 0.551 & $\\dots$ \\\\\n",
       "\t16 & 7 & 107 & 74 & 0 & 0 & 29.6 & 0.254 & $\\dots$ \\\\\n",
       "\t17 & 1 & 103 & 30 & 38 & 83 & 43.3 & 0.183 & $\\dots$ \\\\\n",
       "\t18 & 1 & 115 & 70 & 30 & 96 & 34.6 & 0.529 & $\\dots$ \\\\\n",
       "\t19 & 3 & 126 & 88 & 41 & 235 & 39.3 & 0.704 & $\\dots$ \\\\\n",
       "\t20 & 8 & 99 & 84 & 0 & 0 & 35.4 & 0.388 & $\\dots$ \\\\\n",
       "\t21 & 7 & 196 & 90 & 0 & 0 & 39.8 & 0.451 & $\\dots$ \\\\\n",
       "\t22 & 9 & 119 & 80 & 35 & 0 & 29.0 & 0.263 & $\\dots$ \\\\\n",
       "\t23 & 11 & 143 & 94 & 33 & 146 & 36.6 & 0.254 & $\\dots$ \\\\\n",
       "\t24 & 10 & 125 & 70 & 26 & 115 & 31.1 & 0.205 & $\\dots$ \\\\\n",
       "\t25 & 7 & 147 & 76 & 0 & 0 & 39.4 & 0.257 & $\\dots$ \\\\\n",
       "\t26 & 1 & 97 & 66 & 15 & 140 & 23.2 & 0.487 & $\\dots$ \\\\\n",
       "\t27 & 13 & 145 & 82 & 19 & 110 & 22.2 & 0.245 & $\\dots$ \\\\\n",
       "\t28 & 5 & 117 & 92 & 0 & 0 & 34.1 & 0.337 & $\\dots$ \\\\\n",
       "\t29 & 5 & 109 & 75 & 26 & 0 & 36.0 & 0.546 & $\\dots$ \\\\\n",
       "\t30 & 3 & 158 & 76 & 36 & 245 & 31.6 & 0.851 & $\\dots$ \\\\\n",
       "\t$\\dots$ & $\\dots$ & $\\dots$ & $\\dots$ & $\\dots$ & $\\dots$ & $\\dots$ & $\\dots$ &  \\\\\n",
       "\\end{tabular}\n"
      ],
      "text/plain": [
       "\u001b[1m743×9 DataFrame\u001b[0m\n",
       "\u001b[1m Row \u001b[0m│\u001b[1m Pregnancies \u001b[0m\u001b[1m Glucose \u001b[0m\u001b[1m BloodPressure \u001b[0m\u001b[1m SkinThickness \u001b[0m\u001b[1m Insulin \u001b[0m\u001b[1m BMI     \u001b[0m\u001b[1m D\u001b[0m ⋯\n",
       "\u001b[1m     \u001b[0m│\u001b[90m Int64       \u001b[0m\u001b[90m Int64   \u001b[0m\u001b[90m Int64         \u001b[0m\u001b[90m Int64         \u001b[0m\u001b[90m Int64   \u001b[0m\u001b[90m Float64 \u001b[0m\u001b[90m F\u001b[0m ⋯\n",
       "─────┼──────────────────────────────────────────────────────────────────────────\n",
       "   1 │           6      148             72             35        0     33.6    ⋯\n",
       "   2 │           1       85             66             29        0     26.6\n",
       "   3 │           8      183             64              0        0     23.3\n",
       "   4 │           1       89             66             23       94     28.1\n",
       "   5 │           5      116             74              0        0     25.6    ⋯\n",
       "   6 │           3       78             50             32       88     31.0\n",
       "   7 │          10      115              0              0        0     35.3\n",
       "   8 │           2      197             70             45      543     30.5\n",
       "   9 │           8      125             96              0        0      0.0    ⋯\n",
       "  10 │           4      110             92              0        0     37.6\n",
       "  11 │          10      168             74              0        0     38.0\n",
       "  ⋮  │      ⋮          ⋮           ⋮              ⋮           ⋮        ⋮       ⋱\n",
       " 734 │           1      106             76              0        0     37.5\n",
       " 735 │           6      190             92              0        0     35.5    ⋯\n",
       " 736 │           2       88             58             26       16     28.4\n",
       " 737 │           9      170             74             31        0     44.0\n",
       " 738 │           9       89             62              0        0     22.5\n",
       " 739 │          10      101             76             48      180     32.9    ⋯\n",
       " 740 │           2      122             70             27        0     36.8\n",
       " 741 │           5      121             72             23      112     26.2\n",
       " 742 │           1      126             60              0        0     30.1\n",
       " 743 │           1       93             70             31        0     30.4    ⋯\n",
       "\u001b[36m                                                  3 columns and 722 rows omitted\u001b[0m"
      ]
     },
     "execution_count": 33,
     "metadata": {},
     "output_type": "execute_result"
    }
   ],
   "source": [
    "df1 = df1[df1.Pregnancies .<14, :]\n",
    "df1 = df1[df1.Glucose .> 50, :]\n",
    "df1 = df1[df1.BloodPressure .< 120, :]\n",
    "df1 = df1[df1.SkinThickness .< 80, :]\n",
    "df1 = df1[df1.Insulin .< 600, :]\n",
    "df1 = df1[df1.BMI .< 55, :]\n",
    "df1 = df1[df1.DiabetesPedigreeFunction .< 2, :]\n",
    "df1 = df1[df1.Age .< 70, :]"
   ]
  },
  {
   "cell_type": "markdown",
   "id": "bd02eeee",
   "metadata": {},
   "source": [
    "Inspecting Distribution"
   ]
  },
  {
   "cell_type": "code",
   "execution_count": 34,
   "id": "fbbafa0f",
   "metadata": {},
   "outputs": [
    {
     "data": {
      "image/svg+xml": [
       "<?xml version=\"1.0\" encoding=\"utf-8\"?>\n",
       "<svg xmlns=\"http://www.w3.org/2000/svg\" xmlns:xlink=\"http://www.w3.org/1999/xlink\" width=\"600\" height=\"400\" viewBox=\"0 0 2400 1600\">\n",
       "<defs>\n",
       "  <clipPath id=\"clip770\">\n",
       "    <rect x=\"0\" y=\"0\" width=\"2400\" height=\"1600\"/>\n",
       "  </clipPath>\n",
       "</defs>\n",
       "<path clip-path=\"url(#clip770)\" d=\"\n",
       "M0 1600 L2400 1600 L2400 0 L0 0  Z\n",
       "  \" fill=\"#ffffff\" fill-rule=\"evenodd\" fill-opacity=\"1\"/>\n",
       "<defs>\n",
       "  <clipPath id=\"clip771\">\n",
       "    <rect x=\"480\" y=\"0\" width=\"1681\" height=\"1600\"/>\n",
       "  </clipPath>\n",
       "</defs>\n",
       "<path clip-path=\"url(#clip770)\" d=\"\n",
       "M156.598 1486.45 L2352.76 1486.45 L2352.76 47.2441 L156.598 47.2441  Z\n",
       "  \" fill=\"#ffffff\" fill-rule=\"evenodd\" fill-opacity=\"1\"/>\n",
       "<defs>\n",
       "  <clipPath id=\"clip772\">\n",
       "    <rect x=\"156\" y=\"47\" width=\"2197\" height=\"1440\"/>\n",
       "  </clipPath>\n",
       "</defs>\n",
       "<polyline clip-path=\"url(#clip772)\" style=\"stroke:#000000; stroke-width:2; stroke-opacity:0.1; fill:none\" points=\"\n",
       "  464.914,1486.45 464.914,47.2441 \n",
       "  \"/>\n",
       "<polyline clip-path=\"url(#clip772)\" style=\"stroke:#000000; stroke-width:2; stroke-opacity:0.1; fill:none\" points=\"\n",
       "  1010.52,1486.45 1010.52,47.2441 \n",
       "  \"/>\n",
       "<polyline clip-path=\"url(#clip772)\" style=\"stroke:#000000; stroke-width:2; stroke-opacity:0.1; fill:none\" points=\"\n",
       "  1556.12,1486.45 1556.12,47.2441 \n",
       "  \"/>\n",
       "<polyline clip-path=\"url(#clip772)\" style=\"stroke:#000000; stroke-width:2; stroke-opacity:0.1; fill:none\" points=\"\n",
       "  2101.73,1486.45 2101.73,47.2441 \n",
       "  \"/>\n",
       "<polyline clip-path=\"url(#clip770)\" style=\"stroke:#000000; stroke-width:4; stroke-opacity:1; fill:none\" points=\"\n",
       "  156.598,1486.45 2352.76,1486.45 \n",
       "  \"/>\n",
       "<polyline clip-path=\"url(#clip770)\" style=\"stroke:#000000; stroke-width:4; stroke-opacity:1; fill:none\" points=\"\n",
       "  464.914,1486.45 464.914,1469.18 \n",
       "  \"/>\n",
       "<polyline clip-path=\"url(#clip770)\" style=\"stroke:#000000; stroke-width:4; stroke-opacity:1; fill:none\" points=\"\n",
       "  1010.52,1486.45 1010.52,1469.18 \n",
       "  \"/>\n",
       "<polyline clip-path=\"url(#clip770)\" style=\"stroke:#000000; stroke-width:4; stroke-opacity:1; fill:none\" points=\"\n",
       "  1556.12,1486.45 1556.12,1469.18 \n",
       "  \"/>\n",
       "<polyline clip-path=\"url(#clip770)\" style=\"stroke:#000000; stroke-width:4; stroke-opacity:1; fill:none\" points=\"\n",
       "  2101.73,1486.45 2101.73,1469.18 \n",
       "  \"/>\n",
       "<path clip-path=\"url(#clip770)\" d=\"M 0 0 M464.914 1515.64 Q461.303 1515.64 459.474 1519.2 Q457.669 1522.75 457.669 1529.87 Q457.669 1536.98 459.474 1540.55 Q461.303 1544.09 464.914 1544.09 Q468.549 1544.09 470.354 1540.55 Q472.183 1536.98 472.183 1529.87 Q472.183 1522.75 470.354 1519.2 Q468.549 1515.64 464.914 1515.64 M464.914 1511.93 Q470.724 1511.93 473.78 1516.54 Q476.859 1521.12 476.859 1529.87 Q476.859 1538.6 473.78 1543.21 Q470.724 1547.79 464.914 1547.79 Q459.104 1547.79 456.025 1543.21 Q452.97 1538.6 452.97 1529.87 Q452.97 1521.12 456.025 1516.54 Q459.104 1511.93 464.914 1511.93 Z\" fill=\"#000000\" fill-rule=\"evenodd\" fill-opacity=\"1\" /><path clip-path=\"url(#clip770)\" d=\"M 0 0 M974.211 1543.18 L990.531 1543.18 L990.531 1547.12 L968.586 1547.12 L968.586 1543.18 Q971.248 1540.43 975.832 1535.8 Q980.438 1531.15 981.619 1529.81 Q983.864 1527.28 984.744 1525.55 Q985.646 1523.79 985.646 1522.1 Q985.646 1519.34 983.702 1517.61 Q981.781 1515.87 978.679 1515.87 Q976.48 1515.87 974.026 1516.63 Q971.596 1517.4 968.818 1518.95 L968.818 1514.23 Q971.642 1513.09 974.096 1512.51 Q976.549 1511.93 978.586 1511.93 Q983.957 1511.93 987.151 1514.62 Q990.345 1517.31 990.345 1521.8 Q990.345 1523.93 989.535 1525.85 Q988.748 1527.74 986.642 1530.34 Q986.063 1531.01 982.961 1534.23 Q979.859 1537.42 974.211 1543.18 Z\" fill=\"#000000\" fill-rule=\"evenodd\" fill-opacity=\"1\" /><path clip-path=\"url(#clip770)\" d=\"M 0 0 M1010.35 1515.64 Q1006.73 1515.64 1004.91 1519.2 Q1003.1 1522.75 1003.1 1529.87 Q1003.1 1536.98 1004.91 1540.55 Q1006.73 1544.09 1010.35 1544.09 Q1013.98 1544.09 1015.79 1540.55 Q1017.61 1536.98 1017.61 1529.87 Q1017.61 1522.75 1015.79 1519.2 Q1013.98 1515.64 1010.35 1515.64 M1010.35 1511.93 Q1016.16 1511.93 1019.21 1516.54 Q1022.29 1521.12 1022.29 1529.87 Q1022.29 1538.6 1019.21 1543.21 Q1016.16 1547.79 1010.35 1547.79 Q1004.54 1547.79 1001.46 1543.21 Q998.401 1538.6 998.401 1529.87 Q998.401 1521.12 1001.46 1516.54 Q1004.54 1511.93 1010.35 1511.93 Z\" fill=\"#000000\" fill-rule=\"evenodd\" fill-opacity=\"1\" /><path clip-path=\"url(#clip770)\" d=\"M 0 0 M1040.51 1515.64 Q1036.9 1515.64 1035.07 1519.2 Q1033.26 1522.75 1033.26 1529.87 Q1033.26 1536.98 1035.07 1540.55 Q1036.9 1544.09 1040.51 1544.09 Q1044.14 1544.09 1045.95 1540.55 Q1047.78 1536.98 1047.78 1529.87 Q1047.78 1522.75 1045.95 1519.2 Q1044.14 1515.64 1040.51 1515.64 M1040.51 1511.93 Q1046.32 1511.93 1049.37 1516.54 Q1052.45 1521.12 1052.45 1529.87 Q1052.45 1538.6 1049.37 1543.21 Q1046.32 1547.79 1040.51 1547.79 Q1034.7 1547.79 1031.62 1543.21 Q1028.56 1538.6 1028.56 1529.87 Q1028.56 1521.12 1031.62 1516.54 Q1034.7 1511.93 1040.51 1511.93 Z\" fill=\"#000000\" fill-rule=\"evenodd\" fill-opacity=\"1\" /><path clip-path=\"url(#clip770)\" d=\"M 0 0 M1529.21 1516.63 L1517.41 1535.08 L1529.21 1535.08 L1529.21 1516.63 M1527.99 1512.56 L1533.87 1512.56 L1533.87 1535.08 L1538.8 1535.08 L1538.8 1538.97 L1533.87 1538.97 L1533.87 1547.12 L1529.21 1547.12 L1529.21 1538.97 L1513.61 1538.97 L1513.61 1534.46 L1527.99 1512.56 Z\" fill=\"#000000\" fill-rule=\"evenodd\" fill-opacity=\"1\" /><path clip-path=\"url(#clip770)\" d=\"M 0 0 M1556.53 1515.64 Q1552.92 1515.64 1551.09 1519.2 Q1549.28 1522.75 1549.28 1529.87 Q1549.28 1536.98 1551.09 1540.55 Q1552.92 1544.09 1556.53 1544.09 Q1560.16 1544.09 1561.97 1540.55 Q1563.8 1536.98 1563.8 1529.87 Q1563.8 1522.75 1561.97 1519.2 Q1560.16 1515.64 1556.53 1515.64 M1556.53 1511.93 Q1562.34 1511.93 1565.39 1516.54 Q1568.47 1521.12 1568.47 1529.87 Q1568.47 1538.6 1565.39 1543.21 Q1562.34 1547.79 1556.53 1547.79 Q1550.72 1547.79 1547.64 1543.21 Q1544.58 1538.6 1544.58 1529.87 Q1544.58 1521.12 1547.64 1516.54 Q1550.72 1511.93 1556.53 1511.93 Z\" fill=\"#000000\" fill-rule=\"evenodd\" fill-opacity=\"1\" /><path clip-path=\"url(#clip770)\" d=\"M 0 0 M1586.69 1515.64 Q1583.08 1515.64 1581.25 1519.2 Q1579.45 1522.75 1579.45 1529.87 Q1579.45 1536.98 1581.25 1540.55 Q1583.08 1544.09 1586.69 1544.09 Q1590.32 1544.09 1592.13 1540.55 Q1593.96 1536.98 1593.96 1529.87 Q1593.96 1522.75 1592.13 1519.2 Q1590.32 1515.64 1586.69 1515.64 M1586.69 1511.93 Q1592.5 1511.93 1595.56 1516.54 Q1598.64 1521.12 1598.64 1529.87 Q1598.64 1538.6 1595.56 1543.21 Q1592.5 1547.79 1586.69 1547.79 Q1580.88 1547.79 1577.8 1543.21 Q1574.75 1538.6 1574.75 1529.87 Q1574.75 1521.12 1577.8 1516.54 Q1580.88 1511.93 1586.69 1511.93 Z\" fill=\"#000000\" fill-rule=\"evenodd\" fill-opacity=\"1\" /><path clip-path=\"url(#clip770)\" d=\"M 0 0 M2072.05 1527.98 Q2068.9 1527.98 2067.05 1530.13 Q2065.22 1532.28 2065.22 1536.03 Q2065.22 1539.76 2067.05 1541.93 Q2068.9 1544.09 2072.05 1544.09 Q2075.2 1544.09 2077.03 1541.93 Q2078.88 1539.76 2078.88 1536.03 Q2078.88 1532.28 2077.03 1530.13 Q2075.2 1527.98 2072.05 1527.98 M2081.33 1513.32 L2081.33 1517.58 Q2079.58 1516.75 2077.77 1516.31 Q2075.99 1515.87 2074.23 1515.87 Q2069.6 1515.87 2067.15 1519 Q2064.71 1522.12 2064.37 1528.44 Q2065.73 1526.43 2067.79 1525.36 Q2069.85 1524.27 2072.33 1524.27 Q2077.54 1524.27 2080.55 1527.44 Q2083.58 1530.59 2083.58 1536.03 Q2083.58 1541.36 2080.43 1544.57 Q2077.28 1547.79 2072.05 1547.79 Q2066.06 1547.79 2062.89 1543.21 Q2059.71 1538.6 2059.71 1529.87 Q2059.71 1521.68 2063.6 1516.82 Q2067.49 1511.93 2074.04 1511.93 Q2075.8 1511.93 2077.58 1512.28 Q2079.39 1512.63 2081.33 1513.32 Z\" fill=\"#000000\" fill-rule=\"evenodd\" fill-opacity=\"1\" /><path clip-path=\"url(#clip770)\" d=\"M 0 0 M2101.64 1515.64 Q2098.02 1515.64 2096.2 1519.2 Q2094.39 1522.75 2094.39 1529.87 Q2094.39 1536.98 2096.2 1540.55 Q2098.02 1544.09 2101.64 1544.09 Q2105.27 1544.09 2107.08 1540.55 Q2108.9 1536.98 2108.9 1529.87 Q2108.9 1522.75 2107.08 1519.2 Q2105.27 1515.64 2101.64 1515.64 M2101.64 1511.93 Q2107.45 1511.93 2110.5 1516.54 Q2113.58 1521.12 2113.58 1529.87 Q2113.58 1538.6 2110.5 1543.21 Q2107.45 1547.79 2101.64 1547.79 Q2095.83 1547.79 2092.75 1543.21 Q2089.69 1538.6 2089.69 1529.87 Q2089.69 1521.12 2092.75 1516.54 Q2095.83 1511.93 2101.64 1511.93 Z\" fill=\"#000000\" fill-rule=\"evenodd\" fill-opacity=\"1\" /><path clip-path=\"url(#clip770)\" d=\"M 0 0 M2131.8 1515.64 Q2128.19 1515.64 2126.36 1519.2 Q2124.55 1522.75 2124.55 1529.87 Q2124.55 1536.98 2126.36 1540.55 Q2128.19 1544.09 2131.8 1544.09 Q2135.43 1544.09 2137.24 1540.55 Q2139.07 1536.98 2139.07 1529.87 Q2139.07 1522.75 2137.24 1519.2 Q2135.43 1515.64 2131.8 1515.64 M2131.8 1511.93 Q2137.61 1511.93 2140.66 1516.54 Q2143.74 1521.12 2143.74 1529.87 Q2143.74 1538.6 2140.66 1543.21 Q2137.61 1547.79 2131.8 1547.79 Q2125.99 1547.79 2122.91 1543.21 Q2119.85 1538.6 2119.85 1529.87 Q2119.85 1521.12 2122.91 1516.54 Q2125.99 1511.93 2131.8 1511.93 Z\" fill=\"#000000\" fill-rule=\"evenodd\" fill-opacity=\"1\" /><polyline clip-path=\"url(#clip772)\" style=\"stroke:#000000; stroke-width:2; stroke-opacity:0.1; fill:none\" points=\"\n",
       "  156.598,1445.75 2352.76,1445.75 \n",
       "  \"/>\n",
       "<polyline clip-path=\"url(#clip772)\" style=\"stroke:#000000; stroke-width:2; stroke-opacity:0.1; fill:none\" points=\"\n",
       "  156.598,1241.6 2352.76,1241.6 \n",
       "  \"/>\n",
       "<polyline clip-path=\"url(#clip772)\" style=\"stroke:#000000; stroke-width:2; stroke-opacity:0.1; fill:none\" points=\"\n",
       "  156.598,1037.44 2352.76,1037.44 \n",
       "  \"/>\n",
       "<polyline clip-path=\"url(#clip772)\" style=\"stroke:#000000; stroke-width:2; stroke-opacity:0.1; fill:none\" points=\"\n",
       "  156.598,833.293 2352.76,833.293 \n",
       "  \"/>\n",
       "<polyline clip-path=\"url(#clip772)\" style=\"stroke:#000000; stroke-width:2; stroke-opacity:0.1; fill:none\" points=\"\n",
       "  156.598,629.14 2352.76,629.14 \n",
       "  \"/>\n",
       "<polyline clip-path=\"url(#clip772)\" style=\"stroke:#000000; stroke-width:2; stroke-opacity:0.1; fill:none\" points=\"\n",
       "  156.598,424.988 2352.76,424.988 \n",
       "  \"/>\n",
       "<polyline clip-path=\"url(#clip772)\" style=\"stroke:#000000; stroke-width:2; stroke-opacity:0.1; fill:none\" points=\"\n",
       "  156.598,220.836 2352.76,220.836 \n",
       "  \"/>\n",
       "<polyline clip-path=\"url(#clip770)\" style=\"stroke:#000000; stroke-width:4; stroke-opacity:1; fill:none\" points=\"\n",
       "  156.598,1486.45 156.598,47.2441 \n",
       "  \"/>\n",
       "<polyline clip-path=\"url(#clip770)\" style=\"stroke:#000000; stroke-width:4; stroke-opacity:1; fill:none\" points=\"\n",
       "  156.598,1445.75 182.952,1445.75 \n",
       "  \"/>\n",
       "<polyline clip-path=\"url(#clip770)\" style=\"stroke:#000000; stroke-width:4; stroke-opacity:1; fill:none\" points=\"\n",
       "  156.598,1241.6 182.952,1241.6 \n",
       "  \"/>\n",
       "<polyline clip-path=\"url(#clip770)\" style=\"stroke:#000000; stroke-width:4; stroke-opacity:1; fill:none\" points=\"\n",
       "  156.598,1037.44 182.952,1037.44 \n",
       "  \"/>\n",
       "<polyline clip-path=\"url(#clip770)\" style=\"stroke:#000000; stroke-width:4; stroke-opacity:1; fill:none\" points=\"\n",
       "  156.598,833.293 182.952,833.293 \n",
       "  \"/>\n",
       "<polyline clip-path=\"url(#clip770)\" style=\"stroke:#000000; stroke-width:4; stroke-opacity:1; fill:none\" points=\"\n",
       "  156.598,629.14 182.952,629.14 \n",
       "  \"/>\n",
       "<polyline clip-path=\"url(#clip770)\" style=\"stroke:#000000; stroke-width:4; stroke-opacity:1; fill:none\" points=\"\n",
       "  156.598,424.988 182.952,424.988 \n",
       "  \"/>\n",
       "<polyline clip-path=\"url(#clip770)\" style=\"stroke:#000000; stroke-width:4; stroke-opacity:1; fill:none\" points=\"\n",
       "  156.598,220.836 182.952,220.836 \n",
       "  \"/>\n",
       "<path clip-path=\"url(#clip770)\" d=\"M 0 0 M63.4226 1431.55 Q59.8115 1431.55 57.9828 1435.11 Q56.1773 1438.65 56.1773 1445.78 Q56.1773 1452.89 57.9828 1456.46 Q59.8115 1460 63.4226 1460 Q67.0569 1460 68.8624 1456.46 Q70.6911 1452.89 70.6911 1445.78 Q70.6911 1438.65 68.8624 1435.11 Q67.0569 1431.55 63.4226 1431.55 M63.4226 1427.84 Q69.2328 1427.84 72.2883 1432.45 Q75.367 1437.03 75.367 1445.78 Q75.367 1454.51 72.2883 1459.12 Q69.2328 1463.7 63.4226 1463.7 Q57.6125 1463.7 54.5338 1459.12 Q51.4782 1454.51 51.4782 1445.78 Q51.4782 1437.03 54.5338 1432.45 Q57.6125 1427.84 63.4226 1427.84 Z\" fill=\"#000000\" fill-rule=\"evenodd\" fill-opacity=\"1\" /><path clip-path=\"url(#clip770)\" d=\"M 0 0 M83.5845 1457.15 L88.4688 1457.15 L88.4688 1463.03 L83.5845 1463.03 L83.5845 1457.15 Z\" fill=\"#000000\" fill-rule=\"evenodd\" fill-opacity=\"1\" /><path clip-path=\"url(#clip770)\" d=\"M 0 0 M108.654 1431.55 Q105.043 1431.55 103.214 1435.11 Q101.409 1438.65 101.409 1445.78 Q101.409 1452.89 103.214 1456.46 Q105.043 1460 108.654 1460 Q112.288 1460 114.094 1456.46 Q115.922 1452.89 115.922 1445.78 Q115.922 1438.65 114.094 1435.11 Q112.288 1431.55 108.654 1431.55 M108.654 1427.84 Q114.464 1427.84 117.52 1432.45 Q120.598 1437.03 120.598 1445.78 Q120.598 1454.51 117.52 1459.12 Q114.464 1463.7 108.654 1463.7 Q102.844 1463.7 99.765 1459.12 Q96.7095 1454.51 96.7095 1445.78 Q96.7095 1437.03 99.765 1432.45 Q102.844 1427.84 108.654 1427.84 Z\" fill=\"#000000\" fill-rule=\"evenodd\" fill-opacity=\"1\" /><path clip-path=\"url(#clip770)\" d=\"M 0 0 M64.6495 1227.4 Q61.0384 1227.4 59.2097 1230.96 Q57.4041 1234.5 57.4041 1241.63 Q57.4041 1248.74 59.2097 1252.3 Q61.0384 1255.84 64.6495 1255.84 Q68.2837 1255.84 70.0892 1252.3 Q71.9179 1248.74 71.9179 1241.63 Q71.9179 1234.5 70.0892 1230.96 Q68.2837 1227.4 64.6495 1227.4 M64.6495 1223.69 Q70.4596 1223.69 73.5152 1228.3 Q76.5938 1232.88 76.5938 1241.63 Q76.5938 1250.36 73.5152 1254.97 Q70.4596 1259.55 64.6495 1259.55 Q58.8393 1259.55 55.7606 1254.97 Q52.7051 1250.36 52.7051 1241.63 Q52.7051 1232.88 55.7606 1228.3 Q58.8393 1223.69 64.6495 1223.69 Z\" fill=\"#000000\" fill-rule=\"evenodd\" fill-opacity=\"1\" /><path clip-path=\"url(#clip770)\" d=\"M 0 0 M84.8114 1253 L89.6956 1253 L89.6956 1258.88 L84.8114 1258.88 L84.8114 1253 Z\" fill=\"#000000\" fill-rule=\"evenodd\" fill-opacity=\"1\" /><path clip-path=\"url(#clip770)\" d=\"M 0 0 M100.691 1254.94 L108.33 1254.94 L108.33 1228.58 L100.02 1230.24 L100.02 1225.98 L108.283 1224.32 L112.959 1224.32 L112.959 1254.94 L120.598 1254.94 L120.598 1258.88 L100.691 1258.88 L100.691 1254.94 Z\" fill=\"#000000\" fill-rule=\"evenodd\" fill-opacity=\"1\" /><path clip-path=\"url(#clip770)\" d=\"M 0 0 M65.0198 1023.24 Q61.4087 1023.24 59.58 1026.81 Q57.7745 1030.35 57.7745 1037.48 Q57.7745 1044.59 59.58 1048.15 Q61.4087 1051.69 65.0198 1051.69 Q68.6541 1051.69 70.4596 1048.15 Q72.2883 1044.59 72.2883 1037.48 Q72.2883 1030.35 70.4596 1026.81 Q68.6541 1023.24 65.0198 1023.24 M65.0198 1019.54 Q70.83 1019.54 73.8855 1024.15 Q76.9642 1028.73 76.9642 1037.48 Q76.9642 1046.21 73.8855 1050.81 Q70.83 1055.4 65.0198 1055.4 Q59.2097 1055.4 56.131 1050.81 Q53.0754 1046.21 53.0754 1037.48 Q53.0754 1028.73 56.131 1024.15 Q59.2097 1019.54 65.0198 1019.54 Z\" fill=\"#000000\" fill-rule=\"evenodd\" fill-opacity=\"1\" /><path clip-path=\"url(#clip770)\" d=\"M 0 0 M85.1818 1048.85 L90.066 1048.85 L90.066 1054.72 L85.1818 1054.72 L85.1818 1048.85 Z\" fill=\"#000000\" fill-rule=\"evenodd\" fill-opacity=\"1\" /><path clip-path=\"url(#clip770)\" d=\"M 0 0 M104.279 1050.79 L120.598 1050.79 L120.598 1054.72 L98.6539 1054.72 L98.6539 1050.79 Q101.316 1048.04 105.899 1043.41 Q110.506 1038.75 111.686 1037.41 Q113.932 1034.89 114.811 1033.15 Q115.714 1031.39 115.714 1029.7 Q115.714 1026.95 113.77 1025.21 Q111.848 1023.48 108.746 1023.48 Q106.547 1023.48 104.094 1024.24 Q101.663 1025 98.8854 1026.55 L98.8854 1021.83 Q101.709 1020.7 104.163 1020.12 Q106.617 1019.54 108.654 1019.54 Q114.024 1019.54 117.219 1022.23 Q120.413 1024.91 120.413 1029.4 Q120.413 1031.53 119.603 1033.45 Q118.816 1035.35 116.709 1037.94 Q116.131 1038.61 113.029 1041.83 Q109.927 1045.03 104.279 1050.79 Z\" fill=\"#000000\" fill-rule=\"evenodd\" fill-opacity=\"1\" /><path clip-path=\"url(#clip770)\" d=\"M 0 0 M64.0708 819.091 Q60.4597 819.091 58.631 822.656 Q56.8254 826.198 56.8254 833.327 Q56.8254 840.434 58.631 843.999 Q60.4597 847.54 64.0708 847.54 Q67.705 847.54 69.5105 843.999 Q71.3392 840.434 71.3392 833.327 Q71.3392 826.198 69.5105 822.656 Q67.705 819.091 64.0708 819.091 M64.0708 815.388 Q69.8809 815.388 72.9365 819.994 Q76.0151 824.577 76.0151 833.327 Q76.0151 842.054 72.9365 846.661 Q69.8809 851.244 64.0708 851.244 Q58.2606 851.244 55.1819 846.661 Q52.1264 842.054 52.1264 833.327 Q52.1264 824.577 55.1819 819.994 Q58.2606 815.388 64.0708 815.388 Z\" fill=\"#000000\" fill-rule=\"evenodd\" fill-opacity=\"1\" /><path clip-path=\"url(#clip770)\" d=\"M 0 0 M84.2327 844.693 L89.1169 844.693 L89.1169 850.573 L84.2327 850.573 L84.2327 844.693 Z\" fill=\"#000000\" fill-rule=\"evenodd\" fill-opacity=\"1\" /><path clip-path=\"url(#clip770)\" d=\"M 0 0 M113.469 831.939 Q116.825 832.656 118.7 834.925 Q120.598 837.193 120.598 840.526 Q120.598 845.642 117.08 848.443 Q113.561 851.244 107.08 851.244 Q104.904 851.244 102.589 850.804 Q100.297 850.388 97.8437 849.531 L97.8437 845.017 Q99.7882 846.151 102.103 846.73 Q104.418 847.309 106.941 847.309 Q111.339 847.309 113.631 845.573 Q115.945 843.837 115.945 840.526 Q115.945 837.471 113.793 835.758 Q111.663 834.022 107.844 834.022 L103.816 834.022 L103.816 830.179 L108.029 830.179 Q111.478 830.179 113.307 828.814 Q115.135 827.425 115.135 824.832 Q115.135 822.17 113.237 820.758 Q111.362 819.323 107.844 819.323 Q105.922 819.323 103.723 819.74 Q101.524 820.156 98.8854 821.036 L98.8854 816.869 Q101.547 816.128 103.862 815.758 Q106.2 815.388 108.26 815.388 Q113.584 815.388 116.686 817.818 Q119.788 820.226 119.788 824.346 Q119.788 827.216 118.145 829.207 Q116.501 831.175 113.469 831.939 Z\" fill=\"#000000\" fill-rule=\"evenodd\" fill-opacity=\"1\" /><path clip-path=\"url(#clip770)\" d=\"M 0 0 M62.9365 614.939 Q59.3254 614.939 57.4967 618.504 Q55.6912 622.046 55.6912 629.175 Q55.6912 636.282 57.4967 639.846 Q59.3254 643.388 62.9365 643.388 Q66.5707 643.388 68.3763 639.846 Q70.205 636.282 70.205 629.175 Q70.205 622.046 68.3763 618.504 Q66.5707 614.939 62.9365 614.939 M62.9365 611.235 Q68.7467 611.235 71.8022 615.842 Q74.8809 620.425 74.8809 629.175 Q74.8809 637.902 71.8022 642.508 Q68.7467 647.092 62.9365 647.092 Q57.1264 647.092 54.0477 642.508 Q50.9921 637.902 50.9921 629.175 Q50.9921 620.425 54.0477 615.842 Q57.1264 611.235 62.9365 611.235 Z\" fill=\"#000000\" fill-rule=\"evenodd\" fill-opacity=\"1\" /><path clip-path=\"url(#clip770)\" d=\"M 0 0 M83.0984 640.541 L87.9827 640.541 L87.9827 646.42 L83.0984 646.42 L83.0984 640.541 Z\" fill=\"#000000\" fill-rule=\"evenodd\" fill-opacity=\"1\" /><path clip-path=\"url(#clip770)\" d=\"M 0 0 M111.015 615.935 L99.2095 634.384 L111.015 634.384 L111.015 615.935 M109.788 611.86 L115.668 611.86 L115.668 634.384 L120.598 634.384 L120.598 638.272 L115.668 638.272 L115.668 646.42 L111.015 646.42 L111.015 638.272 L95.4132 638.272 L95.4132 633.759 L109.788 611.86 Z\" fill=\"#000000\" fill-rule=\"evenodd\" fill-opacity=\"1\" /><path clip-path=\"url(#clip770)\" d=\"M 0 0 M64.418 410.787 Q60.8069 410.787 58.9782 414.352 Q57.1726 417.893 57.1726 425.023 Q57.1726 432.129 58.9782 435.694 Q60.8069 439.236 64.418 439.236 Q68.0522 439.236 69.8578 435.694 Q71.6865 432.129 71.6865 425.023 Q71.6865 417.893 69.8578 414.352 Q68.0522 410.787 64.418 410.787 M64.418 407.083 Q70.2281 407.083 73.2837 411.69 Q76.3624 416.273 76.3624 425.023 Q76.3624 433.75 73.2837 438.356 Q70.2281 442.94 64.418 442.94 Q58.6078 442.94 55.5291 438.356 Q52.4736 433.75 52.4736 425.023 Q52.4736 416.273 55.5291 411.69 Q58.6078 407.083 64.418 407.083 Z\" fill=\"#000000\" fill-rule=\"evenodd\" fill-opacity=\"1\" /><path clip-path=\"url(#clip770)\" d=\"M 0 0 M84.5799 436.389 L89.4641 436.389 L89.4641 442.268 L84.5799 442.268 L84.5799 436.389 Z\" fill=\"#000000\" fill-rule=\"evenodd\" fill-opacity=\"1\" /><path clip-path=\"url(#clip770)\" d=\"M 0 0 M99.6956 407.708 L118.052 407.708 L118.052 411.643 L103.978 411.643 L103.978 420.116 Q104.996 419.768 106.015 419.606 Q107.033 419.421 108.052 419.421 Q113.839 419.421 117.219 422.592 Q120.598 425.764 120.598 431.18 Q120.598 436.759 117.126 439.861 Q113.654 442.94 107.334 442.94 Q105.159 442.94 102.89 442.569 Q100.645 442.199 98.2372 441.458 L98.2372 436.759 Q100.321 437.893 102.543 438.449 Q104.765 439.004 107.242 439.004 Q111.246 439.004 113.584 436.898 Q115.922 434.791 115.922 431.18 Q115.922 427.569 113.584 425.463 Q111.246 423.356 107.242 423.356 Q105.367 423.356 103.492 423.773 Q101.64 424.19 99.6956 425.069 L99.6956 407.708 Z\" fill=\"#000000\" fill-rule=\"evenodd\" fill-opacity=\"1\" /><path clip-path=\"url(#clip770)\" d=\"M 0 0 M63.2606 206.635 Q59.6495 206.635 57.8208 210.2 Q56.0152 213.741 56.0152 220.871 Q56.0152 227.977 57.8208 231.542 Q59.6495 235.084 63.2606 235.084 Q66.8948 235.084 68.7004 231.542 Q70.5291 227.977 70.5291 220.871 Q70.5291 213.741 68.7004 210.2 Q66.8948 206.635 63.2606 206.635 M63.2606 202.931 Q69.0707 202.931 72.1263 207.538 Q75.205 212.121 75.205 220.871 Q75.205 229.598 72.1263 234.204 Q69.0707 238.787 63.2606 238.787 Q57.4504 238.787 54.3717 234.204 Q51.3162 229.598 51.3162 220.871 Q51.3162 212.121 54.3717 207.538 Q57.4504 202.931 63.2606 202.931 Z\" fill=\"#000000\" fill-rule=\"evenodd\" fill-opacity=\"1\" /><path clip-path=\"url(#clip770)\" d=\"M 0 0 M83.4225 232.236 L88.3067 232.236 L88.3067 238.116 L83.4225 238.116 L83.4225 232.236 Z\" fill=\"#000000\" fill-rule=\"evenodd\" fill-opacity=\"1\" /><path clip-path=\"url(#clip770)\" d=\"M 0 0 M109.071 218.973 Q105.922 218.973 104.071 221.125 Q102.242 223.278 102.242 227.028 Q102.242 230.755 104.071 232.931 Q105.922 235.084 109.071 235.084 Q112.219 235.084 114.047 232.931 Q115.899 230.755 115.899 227.028 Q115.899 223.278 114.047 221.125 Q112.219 218.973 109.071 218.973 M118.353 204.32 L118.353 208.579 Q116.594 207.746 114.788 207.306 Q113.006 206.866 111.246 206.866 Q106.617 206.866 104.163 209.991 Q101.733 213.116 101.385 219.436 Q102.751 217.422 104.811 216.357 Q106.871 215.269 109.348 215.269 Q114.557 215.269 117.566 218.44 Q120.598 221.588 120.598 227.028 Q120.598 232.352 117.45 235.57 Q114.302 238.787 109.071 238.787 Q103.075 238.787 99.9039 234.204 Q96.7326 229.598 96.7326 220.871 Q96.7326 212.676 100.621 207.815 Q104.51 202.931 111.061 202.931 Q112.82 202.931 114.603 203.278 Q116.408 203.626 118.353 204.32 Z\" fill=\"#000000\" fill-rule=\"evenodd\" fill-opacity=\"1\" /><polyline clip-path=\"url(#clip772)\" style=\"stroke:#e26f46; stroke-width:12; stroke-opacity:1; fill:none\" points=\"\n",
       "  218.754,1445.31 219.766,1445.28 220.778,1445.25 221.79,1445.21 222.802,1445.18 223.814,1445.14 224.826,1445.1 225.839,1445.05 226.851,1445.01 227.863,1444.96 \n",
       "  228.875,1444.91 229.887,1444.85 230.899,1444.8 231.911,1444.73 232.924,1444.67 233.936,1444.6 234.948,1444.53 235.96,1444.45 236.972,1444.37 237.984,1444.28 \n",
       "  238.996,1444.19 240.009,1444.09 241.021,1443.99 242.033,1443.88 243.045,1443.77 244.057,1443.65 245.069,1443.52 246.081,1443.39 247.094,1443.24 248.106,1443.1 \n",
       "  249.118,1442.94 250.13,1442.77 251.142,1442.59 252.154,1442.41 253.166,1442.22 254.178,1442.01 255.191,1441.79 256.203,1441.57 257.215,1441.33 258.227,1441.07 \n",
       "  259.239,1440.81 260.251,1440.53 261.263,1440.24 262.276,1439.93 263.288,1439.61 264.3,1439.27 265.312,1438.91 266.324,1438.54 267.336,1438.15 268.348,1437.74 \n",
       "  269.361,1437.31 270.373,1436.85 271.385,1436.38 272.397,1435.88 273.409,1435.36 274.421,1434.82 275.433,1434.25 276.446,1433.65 277.458,1433.03 278.47,1432.38 \n",
       "  279.482,1431.7 280.494,1430.99 281.506,1430.24 282.518,1429.46 283.53,1428.65 284.543,1427.81 285.555,1426.92 286.567,1426 287.579,1425.04 288.591,1424.04 \n",
       "  289.603,1422.99 290.615,1421.9 291.628,1420.77 292.64,1419.59 293.652,1418.36 294.664,1417.08 295.676,1415.75 296.688,1414.36 297.7,1412.92 298.713,1411.43 \n",
       "  299.725,1409.87 300.737,1408.26 301.749,1406.58 302.761,1404.84 303.773,1403.03 304.785,1401.16 305.798,1399.21 306.81,1397.2 307.822,1395.11 308.834,1392.94 \n",
       "  309.846,1390.7 310.858,1388.37 311.87,1385.97 312.882,1383.48 313.895,1380.9 314.907,1378.24 315.919,1375.49 316.931,1372.64 317.943,1369.7 318.955,1366.66 \n",
       "  319.967,1363.52 320.98,1360.28 321.992,1356.94 323.004,1353.49 324.016,1349.94 325.028,1346.27 326.04,1342.49 327.052,1338.6 328.065,1334.59 329.077,1330.46 \n",
       "  330.089,1326.21 331.101,1321.83 332.113,1317.33 333.125,1312.71 334.137,1307.95 335.15,1303.06 336.162,1298.04 337.174,1292.89 338.186,1287.59 339.198,1282.16 \n",
       "  340.21,1276.58 341.222,1270.87 342.234,1265.01 343.247,1259 344.259,1252.84 345.271,1246.54 346.283,1240.08 347.295,1233.48 348.307,1226.72 349.319,1219.8 \n",
       "  350.332,1212.73 351.344,1205.51 352.356,1198.12 353.368,1190.58 354.38,1182.88 355.392,1175.02 356.404,1167 357.417,1158.82 358.429,1150.48 359.441,1141.97 \n",
       "  360.453,1133.31 361.465,1124.49 362.477,1115.5 363.489,1106.36 364.502,1097.06 365.514,1087.6 366.526,1077.98 367.538,1068.2 368.55,1058.27 369.562,1048.19 \n",
       "  370.574,1037.95 371.587,1027.56 372.599,1017.02 373.611,1006.33 374.623,995.5 375.635,984.525 376.647,973.409 377.659,962.156 378.671,950.767 379.684,939.246 \n",
       "  380.696,927.596 381.708,915.821 382.72,903.923 383.732,891.906 384.744,879.776 385.756,867.534 386.769,855.186 387.781,842.736 388.793,830.189 389.805,817.549 \n",
       "  390.817,804.821 391.829,792.01 392.841,779.122 393.854,766.162 394.866,753.135 395.878,740.047 396.89,726.904 397.902,713.713 398.914,700.478 399.926,687.207 \n",
       "  400.939,673.906 401.951,660.581 402.963,647.239 403.975,633.888 404.987,620.533 405.999,607.182 407.011,593.843 408.023,580.522 409.036,567.226 410.048,553.964 \n",
       "  411.06,540.742 412.072,527.568 413.084,514.451 414.096,501.397 415.108,488.414 416.121,475.511 417.133,462.694 418.145,449.972 419.157,437.353 420.169,424.844 \n",
       "  421.181,412.454 422.193,400.19 423.206,388.06 424.218,376.072 425.23,364.234 426.242,352.553 427.254,341.037 428.266,329.694 429.278,318.531 430.291,307.556 \n",
       "  431.303,296.777 432.315,286.199 433.327,275.831 434.339,265.68 435.351,255.752 436.363,246.055 437.375,236.594 438.388,227.377 439.4,218.41 440.412,209.698 \n",
       "  441.424,201.249 442.436,193.068 443.448,185.159 444.46,177.53 445.473,170.184 446.485,163.128 447.497,156.365 448.509,149.901 449.521,143.739 450.533,137.884 \n",
       "  451.545,132.34 452.558,127.109 453.57,122.196 454.582,117.604 455.594,113.335 456.606,109.391 457.618,105.776 458.63,102.491 459.643,99.5384 460.655,96.9187 \n",
       "  461.667,94.6335 462.679,92.6837 463.691,91.0699 464.703,89.7923 465.715,88.8511 466.727,88.2459 467.74,87.9763 468.752,88.0413 469.764,88.44 470.776,89.1709 \n",
       "  471.788,90.2323 472.8,91.6223 473.812,93.3387 474.825,95.379 475.837,97.7405 476.849,100.42 477.861,103.414 478.873,106.72 479.885,110.333 480.897,114.25 \n",
       "  481.91,118.465 482.922,122.976 483.934,127.776 484.946,132.861 485.958,138.226 486.97,143.865 487.982,149.773 488.995,155.944 490.007,162.372 491.019,169.051 \n",
       "  492.031,175.974 493.043,183.135 494.055,190.528 495.067,198.145 496.08,205.979 497.092,214.024 498.104,222.273 499.116,230.717 500.128,239.351 501.14,248.165 \n",
       "  502.152,257.153 503.164,266.307 504.177,275.619 505.189,285.082 506.201,294.687 507.213,304.427 508.225,314.294 509.237,324.28 510.249,334.377 511.262,344.577 \n",
       "  512.274,354.872 513.286,365.255 514.298,375.717 515.31,386.251 516.322,396.849 517.334,407.503 518.347,418.206 519.359,428.949 520.371,439.726 521.383,450.529 \n",
       "  522.395,461.35 523.407,472.182 524.419,483.018 525.432,493.852 526.444,504.675 527.456,515.482 528.468,526.265 529.48,537.018 530.492,547.735 531.504,558.409 \n",
       "  532.516,569.034 533.529,579.605 534.541,590.114 535.553,600.558 536.565,610.929 537.577,621.224 538.589,631.436 539.601,641.561 540.614,651.593 541.626,661.529 \n",
       "  542.638,671.364 543.65,681.093 544.662,690.713 545.674,700.219 546.686,709.608 547.699,718.877 548.711,728.021 549.723,737.038 550.735,745.925 551.747,754.679 \n",
       "  552.759,763.297 553.771,771.777 554.784,780.117 555.796,788.315 556.808,796.368 557.82,804.275 558.832,812.035 559.844,819.646 560.856,827.107 561.868,834.417 \n",
       "  562.881,841.575 563.893,848.581 564.905,855.433 565.917,862.132 566.929,868.676 567.941,875.067 568.953,881.305 569.966,887.388 570.978,893.318 571.99,899.096 \n",
       "  573.002,904.721 574.014,910.194 575.026,915.517 576.038,920.691 577.051,925.715 578.063,930.593 579.075,935.324 580.087,939.91 581.099,944.353 582.111,948.654 \n",
       "  583.123,952.815 584.136,956.838 585.148,960.724 586.16,964.476 587.172,968.095 588.184,971.583 589.196,974.943 590.208,978.176 591.22,981.285 592.233,984.272 \n",
       "  593.245,987.139 594.257,989.889 595.269,992.524 596.281,995.046 597.293,997.458 598.305,999.762 599.318,1001.96 600.33,1004.06 601.342,1006.05 602.354,1007.95 \n",
       "  603.366,1009.75 604.378,1011.46 605.39,1013.08 606.403,1014.61 607.415,1016.06 608.427,1017.42 609.439,1018.71 610.451,1019.91 611.463,1021.04 612.475,1022.1 \n",
       "  613.488,1023.09 614.5,1024.01 615.512,1024.86 616.524,1025.65 617.536,1026.38 618.548,1027.05 619.56,1027.67 620.572,1028.23 621.585,1028.74 622.597,1029.2 \n",
       "  623.609,1029.61 624.621,1029.97 625.633,1030.3 626.645,1030.58 627.657,1030.82 628.67,1031.02 629.682,1031.19 630.694,1031.33 631.706,1031.43 632.718,1031.51 \n",
       "  633.73,1031.55 634.742,1031.57 635.755,1031.57 636.767,1031.54 637.779,1031.49 638.791,1031.41 639.803,1031.32 640.815,1031.22 641.827,1031.09 642.84,1030.96 \n",
       "  643.852,1030.81 644.864,1030.64 645.876,1030.47 646.888,1030.28 647.9,1030.09 648.912,1029.89 649.925,1029.69 650.937,1029.48 651.949,1029.26 652.961,1029.04 \n",
       "  653.973,1028.82 654.985,1028.6 655.997,1028.37 657.009,1028.15 658.022,1027.92 659.034,1027.7 660.046,1027.48 661.058,1027.26 662.07,1027.05 663.082,1026.84 \n",
       "  664.094,1026.63 665.107,1026.43 666.119,1026.24 667.131,1026.05 668.143,1025.87 669.155,1025.69 670.167,1025.52 671.179,1025.36 672.192,1025.21 673.204,1025.06 \n",
       "  674.216,1024.93 675.228,1024.8 676.24,1024.68 677.252,1024.57 678.264,1024.47 679.277,1024.38 680.289,1024.3 681.301,1024.23 682.313,1024.17 683.325,1024.13 \n",
       "  684.337,1024.09 685.349,1024.06 686.361,1024.04 687.374,1024.03 688.386,1024.04 689.398,1024.05 690.41,1024.08 691.422,1024.11 692.434,1024.16 693.446,1024.22 \n",
       "  694.459,1024.29 695.471,1024.37 696.483,1024.46 697.495,1024.56 698.507,1024.67 699.519,1024.79 700.531,1024.92 701.544,1025.07 702.556,1025.22 703.568,1025.39 \n",
       "  704.58,1025.56 705.592,1025.75 706.604,1025.94 707.616,1026.15 708.629,1026.36 709.641,1026.59 710.653,1026.82 711.665,1027.07 712.677,1027.32 713.689,1027.59 \n",
       "  714.701,1027.86 715.713,1028.14 716.726,1028.44 717.738,1028.74 718.75,1029.05 719.762,1029.37 720.774,1029.7 721.786,1030.04 722.798,1030.38 723.811,1030.74 \n",
       "  724.823,1031.1 725.835,1031.47 726.847,1031.85 727.859,1032.24 728.871,1032.63 729.883,1033.04 730.896,1033.45 731.908,1033.87 732.92,1034.3 733.932,1034.73 \n",
       "  734.944,1035.17 735.956,1035.62 736.968,1036.08 737.981,1036.55 738.993,1037.02 740.005,1037.49 741.017,1037.98 742.029,1038.47 743.041,1038.97 744.053,1039.48 \n",
       "  745.065,1039.99 746.078,1040.51 747.09,1041.03 748.102,1041.57 749.114,1042.1 750.126,1042.65 751.138,1043.2 752.15,1043.76 753.163,1044.32 754.175,1044.89 \n",
       "  755.187,1045.47 756.199,1046.05 757.211,1046.63 758.223,1047.23 759.235,1047.82 760.248,1048.43 761.26,1049.04 762.272,1049.65 763.284,1050.28 764.296,1050.9 \n",
       "  765.308,1051.53 766.32,1052.17 767.333,1052.81 768.345,1053.46 769.357,1054.12 770.369,1054.77 771.381,1055.44 772.393,1056.11 773.405,1056.78 774.418,1057.46 \n",
       "  775.43,1058.14 776.442,1058.83 777.454,1059.53 778.466,1060.22 779.478,1060.93 780.49,1061.64 781.502,1062.35 782.515,1063.07 783.527,1063.79 784.539,1064.51 \n",
       "  785.551,1065.24 786.563,1065.98 787.575,1066.72 788.587,1067.46 789.6,1068.21 790.612,1068.96 791.624,1069.72 792.636,1070.48 793.648,1071.25 794.66,1072.01 \n",
       "  795.672,1072.79 796.685,1073.56 797.697,1074.34 798.709,1075.13 799.721,1075.91 800.733,1076.7 801.745,1077.5 802.757,1078.29 803.77,1079.1 804.782,1079.9 \n",
       "  805.794,1080.71 806.806,1081.52 807.818,1082.33 808.83,1083.15 809.842,1083.96 810.854,1084.78 811.867,1085.61 812.879,1086.44 813.891,1087.26 814.903,1088.09 \n",
       "  815.915,1088.93 816.927,1089.76 817.939,1090.6 818.952,1091.44 819.964,1092.28 820.976,1093.12 821.988,1093.97 823,1094.81 824.012,1095.66 825.024,1096.51 \n",
       "  826.037,1097.36 827.049,1098.21 828.061,1099.06 829.073,1099.91 830.085,1100.76 831.097,1101.61 832.109,1102.46 833.122,1103.32 834.134,1104.17 835.146,1105.02 \n",
       "  836.158,1105.88 837.17,1106.73 838.182,1107.58 839.194,1108.43 840.206,1109.29 841.219,1110.14 842.231,1110.99 843.243,1111.83 844.255,1112.68 845.267,1113.53 \n",
       "  846.279,1114.37 847.291,1115.22 848.304,1116.06 849.316,1116.9 850.328,1117.74 851.34,1118.58 852.352,1119.41 853.364,1120.24 854.376,1121.08 855.389,1121.9 \n",
       "  856.401,1122.73 857.413,1123.55 858.425,1124.38 859.437,1125.19 860.449,1126.01 861.461,1126.82 862.474,1127.63 863.486,1128.44 864.498,1129.25 865.51,1130.05 \n",
       "  866.522,1130.85 867.534,1131.64 868.546,1132.44 869.558,1133.23 870.571,1134.01 871.583,1134.79 872.595,1135.57 873.607,1136.35 874.619,1137.12 875.631,1137.89 \n",
       "  876.643,1138.66 877.656,1139.42 878.668,1140.18 879.68,1140.94 880.692,1141.69 881.704,1142.44 882.716,1143.18 883.728,1143.93 884.741,1144.67 885.753,1145.4 \n",
       "  886.765,1146.14 887.777,1146.87 888.789,1147.59 889.801,1148.32 890.813,1149.04 891.826,1149.76 892.838,1150.47 893.85,1151.19 894.862,1151.9 895.874,1152.6 \n",
       "  896.886,1153.31 897.898,1154.01 898.91,1154.71 899.923,1155.41 900.935,1156.11 901.947,1156.8 902.959,1157.49 903.971,1158.18 904.983,1158.87 905.995,1159.56 \n",
       "  907.008,1160.24 908.02,1160.93 909.032,1161.61 910.044,1162.3 911.056,1162.98 912.068,1163.66 913.08,1164.34 914.093,1165.02 915.105,1165.7 916.117,1166.38 \n",
       "  917.129,1167.06 918.141,1167.74 919.153,1168.43 920.165,1169.11 921.178,1169.79 922.19,1170.47 923.202,1171.16 924.214,1171.84 925.226,1172.53 926.238,1173.22 \n",
       "  927.25,1173.91 928.263,1174.6 929.275,1175.3 930.287,1175.99 931.299,1176.69 932.311,1177.39 933.323,1178.1 934.335,1178.81 935.347,1179.52 936.36,1180.23 \n",
       "  937.372,1180.95 938.384,1181.66 939.396,1182.39 940.408,1183.12 941.42,1183.85 942.432,1184.58 943.445,1185.32 944.457,1186.06 945.469,1186.81 946.481,1187.56 \n",
       "  947.493,1188.32 948.505,1189.08 949.517,1189.85 950.53,1190.62 951.542,1191.4 952.554,1192.18 953.566,1192.97 954.578,1193.76 955.59,1194.56 956.602,1195.36 \n",
       "  957.615,1196.17 958.627,1196.99 959.639,1197.81 960.651,1198.63 961.663,1199.47 962.675,1200.3 963.687,1201.15 964.699,1202 965.712,1202.85 966.724,1203.72 \n",
       "  967.736,1204.59 968.748,1205.46 969.76,1206.34 970.772,1207.23 971.784,1208.12 972.797,1209.02 973.809,1209.93 974.821,1210.84 975.833,1211.76 976.845,1212.68 \n",
       "  977.857,1213.61 978.869,1214.55 979.882,1215.49 980.894,1216.44 981.906,1217.39 982.918,1218.35 983.93,1219.32 984.942,1220.29 985.954,1221.27 986.967,1222.25 \n",
       "  987.979,1223.24 988.991,1224.24 990.003,1225.24 991.015,1226.24 992.027,1227.25 993.039,1228.27 994.051,1229.29 995.064,1230.31 996.076,1231.34 997.088,1232.38 \n",
       "  998.1,1233.42 999.112,1234.46 1000.12,1235.51 1001.14,1236.57 1002.15,1237.62 1003.16,1238.68 1004.17,1239.75 1005.19,1240.82 1006.2,1241.89 1007.21,1242.97 \n",
       "  1008.22,1244.05 1009.23,1245.13 1010.25,1246.21 1011.26,1247.3 1012.27,1248.39 1013.28,1249.49 1014.29,1250.58 1015.31,1251.68 1016.32,1252.78 1017.33,1253.88 \n",
       "  1018.34,1254.99 1019.35,1256.09 1020.37,1257.2 1021.38,1258.31 1022.39,1259.41 1023.4,1260.52 1024.42,1261.64 1025.43,1262.75 1026.44,1263.86 1027.45,1264.97 \n",
       "  1028.46,1266.08 1029.48,1267.2 1030.49,1268.31 1031.5,1269.42 1032.51,1270.53 1033.52,1271.64 1034.54,1272.75 1035.55,1273.86 1036.56,1274.96 1037.57,1276.07 \n",
       "  1038.59,1277.17 1039.6,1278.27 1040.61,1279.37 1041.62,1280.47 1042.63,1281.57 1043.65,1282.66 1044.66,1283.75 1045.67,1284.84 1046.68,1285.92 1047.69,1287.01 \n",
       "  1048.71,1288.08 1049.72,1289.16 1050.73,1290.23 1051.74,1291.3 1052.76,1292.36 1053.77,1293.42 1054.78,1294.48 1055.79,1295.53 1056.8,1296.58 1057.82,1297.62 \n",
       "  1058.83,1298.66 1059.84,1299.69 1060.85,1300.71 1061.86,1301.74 1062.88,1302.75 1063.89,1303.76 1064.9,1304.77 1065.91,1305.77 1066.93,1306.76 1067.94,1307.75 \n",
       "  1068.95,1308.73 1069.96,1309.71 1070.97,1310.68 1071.99,1311.64 1073,1312.6 1074.01,1313.54 1075.02,1314.49 1076.03,1315.42 1077.05,1316.35 1078.06,1317.27 \n",
       "  1079.07,1318.18 1080.08,1319.09 1081.1,1319.98 1082.11,1320.87 1083.12,1321.76 1084.13,1322.63 1085.14,1323.5 1086.16,1324.36 1087.17,1325.2 1088.18,1326.05 \n",
       "  1089.19,1326.88 1090.2,1327.7 1091.22,1328.52 1092.23,1329.33 1093.24,1330.13 1094.25,1330.92 1095.27,1331.7 1096.28,1332.47 1097.29,1333.23 1098.3,1333.98 \n",
       "  1099.31,1334.73 1100.33,1335.46 1101.34,1336.19 1102.35,1336.91 1103.36,1337.61 1104.37,1338.31 1105.39,1339 1106.4,1339.68 1107.41,1340.34 1108.42,1341 \n",
       "  1109.44,1341.65 1110.45,1342.29 1111.46,1342.92 1112.47,1343.54 1113.48,1344.15 1114.5,1344.75 1115.51,1345.34 1116.52,1345.92 1117.53,1346.49 1118.54,1347.05 \n",
       "  1119.56,1347.6 1120.57,1348.14 1121.58,1348.68 1122.59,1349.2 1123.61,1349.71 1124.62,1350.21 1125.63,1350.7 1126.64,1351.18 1127.65,1351.66 1128.67,1352.12 \n",
       "  1129.68,1352.57 1130.69,1353.01 1131.7,1353.45 1132.71,1353.87 1133.73,1354.29 1134.74,1354.69 1135.75,1355.09 1136.76,1355.47 1137.78,1355.85 1138.79,1356.22 \n",
       "  1139.8,1356.58 1140.81,1356.93 1141.82,1357.27 1142.84,1357.6 1143.85,1357.92 1144.86,1358.24 1145.87,1358.54 1146.88,1358.84 1147.9,1359.13 1148.91,1359.41 \n",
       "  1149.92,1359.69 1150.93,1359.95 1151.95,1360.21 1152.96,1360.46 1153.97,1360.7 1154.98,1360.94 1155.99,1361.17 1157.01,1361.39 1158.02,1361.6 1159.03,1361.81 \n",
       "  1160.04,1362.01 1161.05,1362.2 1162.07,1362.39 1163.08,1362.57 1164.09,1362.75 1165.1,1362.92 1166.11,1363.08 1167.13,1363.24 1168.14,1363.39 1169.15,1363.54 \n",
       "  1170.16,1363.68 1171.18,1363.82 1172.19,1363.96 1173.2,1364.09 1174.21,1364.21 1175.22,1364.33 1176.24,1364.45 1177.25,1364.56 1178.26,1364.67 1179.27,1364.78 \n",
       "  1180.28,1364.88 1181.3,1364.98 1182.31,1365.08 1183.32,1365.17 1184.33,1365.26 1185.35,1365.35 1186.36,1365.44 1187.37,1365.53 1188.38,1365.61 1189.39,1365.69 \n",
       "  1190.41,1365.78 1191.42,1365.86 1192.43,1365.94 1193.44,1366.01 1194.45,1366.09 1195.47,1366.17 1196.48,1366.24 1197.49,1366.32 1198.5,1366.4 1199.52,1366.47 \n",
       "  1200.53,1366.55 1201.54,1366.62 1202.55,1366.7 1203.56,1366.78 1204.58,1366.86 1205.59,1366.94 1206.6,1367.02 1207.61,1367.1 1208.62,1367.18 1209.64,1367.27 \n",
       "  1210.65,1367.35 1211.66,1367.44 1212.67,1367.53 1213.69,1367.62 1214.7,1367.71 1215.71,1367.8 1216.72,1367.9 1217.73,1368 1218.75,1368.1 1219.76,1368.2 \n",
       "  1220.77,1368.31 1221.78,1368.41 1222.79,1368.52 1223.81,1368.63 1224.82,1368.75 1225.83,1368.87 1226.84,1368.99 1227.86,1369.11 1228.87,1369.23 1229.88,1369.36 \n",
       "  1230.89,1369.49 1231.9,1369.62 1232.92,1369.76 1233.93,1369.89 1234.94,1370.03 1235.95,1370.17 1236.96,1370.32 1237.98,1370.47 1238.99,1370.62 1240,1370.77 \n",
       "  1241.01,1370.92 1242.03,1371.08 1243.04,1371.24 1244.05,1371.4 1245.06,1371.57 1246.07,1371.74 1247.09,1371.9 1248.1,1372.08 1249.11,1372.25 1250.12,1372.42 \n",
       "  1251.13,1372.6 1252.15,1372.78 1253.16,1372.96 1254.17,1373.14 1255.18,1373.33 1256.2,1373.51 1257.21,1373.7 1258.22,1373.89 1259.23,1374.08 1260.24,1374.27 \n",
       "  1261.26,1374.47 1262.27,1374.66 1263.28,1374.86 1264.29,1375.05 1265.3,1375.25 1266.32,1375.45 1267.33,1375.65 1268.34,1375.85 1269.35,1376.05 1270.37,1376.26 \n",
       "  1271.38,1376.46 1272.39,1376.66 1273.4,1376.87 1274.41,1377.07 1275.43,1377.27 1276.44,1377.48 1277.45,1377.68 1278.46,1377.89 1279.47,1378.1 1280.49,1378.3 \n",
       "  1281.5,1378.51 1282.51,1378.71 1283.52,1378.92 1284.54,1379.13 1285.55,1379.33 1286.56,1379.54 1287.57,1379.74 1288.58,1379.95 1289.6,1380.15 1290.61,1380.36 \n",
       "  1291.62,1380.56 1292.63,1380.77 1293.64,1380.97 1294.66,1381.18 1295.67,1381.38 1296.68,1381.58 1297.69,1381.79 1298.71,1381.99 1299.72,1382.19 1300.73,1382.4 \n",
       "  1301.74,1382.6 1302.75,1382.8 1303.77,1383 1304.78,1383.21 1305.79,1383.41 1306.8,1383.61 1307.81,1383.81 1308.83,1384.02 1309.84,1384.22 1310.85,1384.42 \n",
       "  1311.86,1384.62 1312.88,1384.82 1313.89,1385.03 1314.9,1385.23 1315.91,1385.43 1316.92,1385.64 1317.94,1385.84 1318.95,1386.05 1319.96,1386.25 1320.97,1386.46 \n",
       "  1321.98,1386.66 1323,1386.87 1324.01,1387.08 1325.02,1387.29 1326.03,1387.5 1327.04,1387.71 1328.06,1387.92 1329.07,1388.13 1330.08,1388.34 1331.09,1388.56 \n",
       "  1332.11,1388.77 1333.12,1388.99 1334.13,1389.21 1335.14,1389.43 1336.15,1389.65 1337.17,1389.87 1338.18,1390.09 1339.19,1390.32 1340.2,1390.55 1341.21,1390.77 \n",
       "  1342.23,1391 1343.24,1391.24 1344.25,1391.47 1345.26,1391.71 1346.28,1391.94 1347.29,1392.18 1348.3,1392.42 1349.31,1392.67 1350.32,1392.91 1351.34,1393.16 \n",
       "  1352.35,1393.41 1353.36,1393.66 1354.37,1393.91 1355.38,1394.16 1356.4,1394.42 1357.41,1394.68 1358.42,1394.94 1359.43,1395.2 1360.45,1395.47 1361.46,1395.73 \n",
       "  1362.47,1396 1363.48,1396.27 1364.49,1396.54 1365.51,1396.81 1366.52,1397.09 1367.53,1397.37 1368.54,1397.64 1369.55,1397.92 1370.57,1398.21 1371.58,1398.49 \n",
       "  1372.59,1398.77 1373.6,1399.06 1374.62,1399.35 1375.63,1399.64 1376.64,1399.93 1377.65,1400.22 1378.66,1400.51 1379.68,1400.8 1380.69,1401.1 1381.7,1401.39 \n",
       "  1382.71,1401.69 1383.72,1401.98 1384.74,1402.28 1385.75,1402.58 1386.76,1402.88 1387.77,1403.17 1388.79,1403.47 1389.8,1403.77 1390.81,1404.07 1391.82,1404.37 \n",
       "  1392.83,1404.67 1393.85,1404.96 1394.86,1405.26 1395.87,1405.56 1396.88,1405.86 1397.89,1406.15 1398.91,1406.45 1399.92,1406.74 1400.93,1407.04 1401.94,1407.33 \n",
       "  1402.96,1407.62 1403.97,1407.91 1404.98,1408.2 1405.99,1408.49 1407,1408.77 1408.02,1409.06 1409.03,1409.34 1410.04,1409.62 1411.05,1409.9 1412.06,1410.18 \n",
       "  1413.08,1410.45 1414.09,1410.73 1415.1,1411 1416.11,1411.26 1417.13,1411.53 1418.14,1411.79 1419.15,1412.05 1420.16,1412.31 1421.17,1412.57 1422.19,1412.82 \n",
       "  1423.2,1413.07 1424.21,1413.32 1425.22,1413.56 1426.23,1413.8 1427.25,1414.04 1428.26,1414.28 1429.27,1414.51 1430.28,1414.74 1431.3,1414.96 1432.31,1415.19 \n",
       "  1433.32,1415.41 1434.33,1415.62 1435.34,1415.83 1436.36,1416.04 1437.37,1416.25 1438.38,1416.45 1439.39,1416.65 1440.4,1416.85 1441.42,1417.04 1442.43,1417.23 \n",
       "  1443.44,1417.41 1444.45,1417.6 1445.47,1417.77 1446.48,1417.95 1447.49,1418.12 1448.5,1418.29 1449.51,1418.46 1450.53,1418.62 1451.54,1418.78 1452.55,1418.93 \n",
       "  1453.56,1419.08 1454.57,1419.23 1455.59,1419.38 1456.6,1419.52 1457.61,1419.66 1458.62,1419.8 1459.64,1419.93 1460.65,1420.06 1461.66,1420.19 1462.67,1420.31 \n",
       "  1463.68,1420.43 1464.7,1420.55 1465.71,1420.67 1466.72,1420.78 1467.73,1420.89 1468.74,1421 1469.76,1421.11 1470.77,1421.21 1471.78,1421.31 1472.79,1421.41 \n",
       "  1473.8,1421.51 1474.82,1421.6 1475.83,1421.7 1476.84,1421.79 1477.85,1421.88 1478.87,1421.96 1479.88,1422.05 1480.89,1422.13 1481.9,1422.21 1482.91,1422.29 \n",
       "  1483.93,1422.37 1484.94,1422.45 1485.95,1422.52 1486.96,1422.6 1487.97,1422.67 1488.99,1422.74 1490,1422.81 1491.01,1422.88 1492.02,1422.95 1493.04,1423.02 \n",
       "  1494.05,1423.08 1495.06,1423.15 1496.07,1423.22 1497.08,1423.28 1498.1,1423.34 1499.11,1423.41 1500.12,1423.47 1501.13,1423.53 1502.14,1423.6 1503.16,1423.66 \n",
       "  1504.17,1423.72 1505.18,1423.78 1506.19,1423.84 1507.21,1423.91 1508.22,1423.97 1509.23,1424.03 1510.24,1424.09 1511.25,1424.15 1512.27,1424.22 1513.28,1424.28 \n",
       "  1514.29,1424.34 1515.3,1424.4 1516.31,1424.47 1517.33,1424.53 1518.34,1424.59 1519.35,1424.66 1520.36,1424.72 1521.38,1424.79 1522.39,1424.86 1523.4,1424.92 \n",
       "  1524.41,1424.99 1525.42,1425.06 1526.44,1425.13 1527.45,1425.2 1528.46,1425.27 1529.47,1425.34 1530.48,1425.41 1531.5,1425.48 1532.51,1425.56 1533.52,1425.63 \n",
       "  1534.53,1425.71 1535.55,1425.78 1536.56,1425.86 1537.57,1425.94 1538.58,1426.02 1539.59,1426.1 1540.61,1426.18 1541.62,1426.26 1542.63,1426.34 1543.64,1426.42 \n",
       "  1544.65,1426.51 1545.67,1426.59 1546.68,1426.67 1547.69,1426.76 1548.7,1426.85 1549.72,1426.94 1550.73,1427.02 1551.74,1427.11 1552.75,1427.2 1553.76,1427.29 \n",
       "  1554.78,1427.39 1555.79,1427.48 1556.8,1427.57 1557.81,1427.66 1558.82,1427.76 1559.84,1427.85 1560.85,1427.95 1561.86,1428.04 1562.87,1428.14 1563.89,1428.24 \n",
       "  1564.9,1428.33 1565.91,1428.43 1566.92,1428.53 1567.93,1428.63 1568.95,1428.73 1569.96,1428.83 1570.97,1428.93 1571.98,1429.03 1572.99,1429.13 1574.01,1429.23 \n",
       "  1575.02,1429.33 1576.03,1429.43 1577.04,1429.53 1578.06,1429.63 1579.07,1429.73 1580.08,1429.84 1581.09,1429.94 1582.1,1430.04 1583.12,1430.14 1584.13,1430.24 \n",
       "  1585.14,1430.34 1586.15,1430.44 1587.16,1430.54 1588.18,1430.64 1589.19,1430.74 1590.2,1430.84 1591.21,1430.94 1592.23,1431.04 1593.24,1431.13 1594.25,1431.23 \n",
       "  1595.26,1431.33 1596.27,1431.42 1597.29,1431.52 1598.3,1431.61 1599.31,1431.71 1600.32,1431.8 1601.33,1431.89 1602.35,1431.98 1603.36,1432.07 1604.37,1432.16 \n",
       "  1605.38,1432.25 1606.4,1432.34 1607.41,1432.42 1608.42,1432.51 1609.43,1432.59 1610.44,1432.67 1611.46,1432.76 1612.47,1432.84 1613.48,1432.91 1614.49,1432.99 \n",
       "  1615.5,1433.07 1616.52,1433.14 1617.53,1433.21 1618.54,1433.28 1619.55,1433.35 1620.57,1433.42 1621.58,1433.49 1622.59,1433.55 1623.6,1433.62 1624.61,1433.68 \n",
       "  1625.63,1433.73 1626.64,1433.79 1627.65,1433.85 1628.66,1433.9 1629.67,1433.95 1630.69,1434 1631.7,1434.05 1632.71,1434.09 1633.72,1434.14 1634.73,1434.18 \n",
       "  1635.75,1434.21 1636.76,1434.25 1637.77,1434.28 1638.78,1434.31 1639.8,1434.34 1640.81,1434.37 1641.82,1434.39 1642.83,1434.42 1643.84,1434.43 1644.86,1434.45 \n",
       "  1645.87,1434.46 1646.88,1434.48 1647.89,1434.48 1648.9,1434.49 1649.92,1434.49 1650.93,1434.49 1651.94,1434.49 1652.95,1434.49 1653.97,1434.48 1654.98,1434.47 \n",
       "  1655.99,1434.45 1657,1434.44 1658.01,1434.42 1659.03,1434.39 1660.04,1434.37 1661.05,1434.34 1662.06,1434.31 1663.07,1434.27 1664.09,1434.24 1665.1,1434.19 \n",
       "  1666.11,1434.15 1667.12,1434.1 1668.14,1434.05 1669.15,1434 1670.16,1433.94 1671.17,1433.88 1672.18,1433.82 1673.2,1433.76 1674.21,1433.69 1675.22,1433.62 \n",
       "  1676.23,1433.54 1677.24,1433.46 1678.26,1433.38 1679.27,1433.3 1680.28,1433.21 1681.29,1433.12 1682.31,1433.02 1683.32,1432.93 1684.33,1432.83 1685.34,1432.72 \n",
       "  1686.35,1432.62 1687.37,1432.51 1688.38,1432.4 1689.39,1432.28 1690.4,1432.16 1691.41,1432.04 1692.43,1431.92 1693.44,1431.79 1694.45,1431.66 1695.46,1431.53 \n",
       "  1696.48,1431.4 1697.49,1431.26 1698.5,1431.12 1699.51,1430.98 1700.52,1430.84 1701.54,1430.69 1702.55,1430.54 1703.56,1430.39 1704.57,1430.23 1705.58,1430.08 \n",
       "  1706.6,1429.92 1707.61,1429.76 1708.62,1429.6 1709.63,1429.43 1710.65,1429.27 1711.66,1429.1 1712.67,1428.93 1713.68,1428.76 1714.69,1428.59 1715.71,1428.42 \n",
       "  1716.72,1428.24 1717.73,1428.07 1718.74,1427.89 1719.75,1427.71 1720.77,1427.53 1721.78,1427.35 1722.79,1427.17 1723.8,1426.99 1724.82,1426.81 1725.83,1426.63 \n",
       "  1726.84,1426.45 1727.85,1426.26 1728.86,1426.08 1729.88,1425.9 1730.89,1425.72 1731.9,1425.54 1732.91,1425.35 1733.92,1425.17 1734.94,1424.99 1735.95,1424.81 \n",
       "  1736.96,1424.63 1737.97,1424.46 1738.99,1424.28 1740,1424.1 1741.01,1423.93 1742.02,1423.76 1743.03,1423.59 1744.05,1423.42 1745.06,1423.25 1746.07,1423.08 \n",
       "  1747.08,1422.92 1748.09,1422.76 1749.11,1422.6 1750.12,1422.44 1751.13,1422.28 1752.14,1422.13 1753.16,1421.98 1754.17,1421.83 1755.18,1421.69 1756.19,1421.55 \n",
       "  1757.2,1421.41 1758.22,1421.27 1759.23,1421.14 1760.24,1421.01 1761.25,1420.88 1762.26,1420.76 1763.28,1420.64 1764.29,1420.53 1765.3,1420.42 1766.31,1420.31 \n",
       "  1767.33,1420.2 1768.34,1420.1 1769.35,1420.01 1770.36,1419.92 1771.37,1419.83 1772.39,1419.74 1773.4,1419.66 1774.41,1419.59 1775.42,1419.52 1776.43,1419.45 \n",
       "  1777.45,1419.39 1778.46,1419.33 1779.47,1419.28 1780.48,1419.23 1781.49,1419.18 1782.51,1419.14 1783.52,1419.1 1784.53,1419.07 1785.54,1419.04 1786.56,1419.02 \n",
       "  1787.57,1419 1788.58,1418.99 1789.59,1418.98 1790.6,1418.98 1791.62,1418.98 1792.63,1418.98 1793.64,1418.99 1794.65,1419 1795.66,1419.02 1796.68,1419.04 \n",
       "  1797.69,1419.07 1798.7,1419.1 1799.71,1419.13 1800.73,1419.17 1801.74,1419.21 1802.75,1419.26 1803.76,1419.31 1804.77,1419.36 1805.79,1419.42 1806.8,1419.48 \n",
       "  1807.81,1419.55 1808.82,1419.62 1809.83,1419.69 1810.85,1419.77 1811.86,1419.85 1812.87,1419.93 1813.88,1420.02 1814.9,1420.1 1815.91,1420.2 1816.92,1420.29 \n",
       "  1817.93,1420.39 1818.94,1420.49 1819.96,1420.6 1820.97,1420.7 1821.98,1420.81 1822.99,1420.92 1824,1421.03 1825.02,1421.15 1826.03,1421.27 1827.04,1421.39 \n",
       "  1828.05,1421.51 1829.07,1421.63 1830.08,1421.76 1831.09,1421.88 1832.1,1422.01 1833.11,1422.14 1834.13,1422.27 1835.14,1422.4 1836.15,1422.53 1837.16,1422.67 \n",
       "  1838.17,1422.8 1839.19,1422.93 1840.2,1423.07 1841.21,1423.2 1842.22,1423.34 1843.24,1423.48 1844.25,1423.61 1845.26,1423.75 1846.27,1423.89 1847.28,1424.02 \n",
       "  1848.3,1424.16 1849.31,1424.3 1850.32,1424.43 1851.33,1424.57 1852.34,1424.7 1853.36,1424.83 1854.37,1424.97 1855.38,1425.1 1856.39,1425.23 1857.41,1425.36 \n",
       "  1858.42,1425.49 1859.43,1425.62 1860.44,1425.75 1861.45,1425.87 1862.47,1426 1863.48,1426.12 1864.49,1426.24 1865.5,1426.37 1866.51,1426.48 1867.53,1426.6 \n",
       "  1868.54,1426.72 1869.55,1426.83 1870.56,1426.95 1871.58,1427.06 1872.59,1427.17 1873.6,1427.27 1874.61,1427.38 1875.62,1427.49 1876.64,1427.59 1877.65,1427.69 \n",
       "  1878.66,1427.79 1879.67,1427.88 1880.68,1427.98 1881.7,1428.07 1882.71,1428.17 1883.72,1428.26 1884.73,1428.34 1885.75,1428.43 1886.76,1428.51 1887.77,1428.6 \n",
       "  1888.78,1428.68 1889.79,1428.76 1890.81,1428.83 1891.82,1428.91 1892.83,1428.98 1893.84,1429.05 1894.85,1429.12 1895.87,1429.19 1896.88,1429.26 1897.89,1429.33 \n",
       "  1898.9,1429.39 1899.92,1429.45 1900.93,1429.51 1901.94,1429.57 1902.95,1429.63 1903.96,1429.69 1904.98,1429.75 1905.99,1429.8 1907,1429.86 1908.01,1429.91 \n",
       "  1909.02,1429.96 1910.04,1430.01 1911.05,1430.06 1912.06,1430.11 1913.07,1430.16 1914.09,1430.2 1915.1,1430.25 1916.11,1430.3 1917.12,1430.34 1918.13,1430.38 \n",
       "  1919.15,1430.43 1920.16,1430.47 1921.17,1430.52 1922.18,1430.56 1923.19,1430.6 1924.21,1430.64 1925.22,1430.68 1926.23,1430.73 1927.24,1430.77 1928.26,1430.81 \n",
       "  1929.27,1430.85 1930.28,1430.89 1931.29,1430.94 1932.3,1430.98 1933.32,1431.02 1934.33,1431.06 1935.34,1431.1 1936.35,1431.15 1937.36,1431.19 1938.38,1431.24 \n",
       "  1939.39,1431.28 1940.4,1431.32 1941.41,1431.37 1942.42,1431.42 1943.44,1431.46 1944.45,1431.51 1945.46,1431.56 1946.47,1431.61 1947.49,1431.66 1948.5,1431.71 \n",
       "  1949.51,1431.76 1950.52,1431.81 1951.53,1431.86 1952.55,1431.91 1953.56,1431.97 1954.57,1432.02 1955.58,1432.08 1956.59,1432.14 1957.61,1432.19 1958.62,1432.25 \n",
       "  1959.63,1432.31 1960.64,1432.37 1961.66,1432.43 1962.67,1432.5 1963.68,1432.56 1964.69,1432.62 1965.7,1432.69 1966.72,1432.75 1967.73,1432.82 1968.74,1432.89 \n",
       "  1969.75,1432.96 1970.76,1433.03 1971.78,1433.1 1972.79,1433.17 1973.8,1433.24 1974.81,1433.31 1975.83,1433.39 1976.84,1433.46 1977.85,1433.54 1978.86,1433.61 \n",
       "  1979.87,1433.69 1980.89,1433.77 1981.9,1433.84 1982.91,1433.92 1983.92,1434 1984.93,1434.08 1985.95,1434.16 1986.96,1434.25 1987.97,1434.33 1988.98,1434.41 \n",
       "  1990,1434.49 1991.01,1434.58 1992.02,1434.66 1993.03,1434.74 1994.04,1434.83 1995.06,1434.91 1996.07,1435 1997.08,1435.09 1998.09,1435.17 1999.1,1435.26 \n",
       "  2000.12,1435.35 2001.13,1435.43 2002.14,1435.52 2003.15,1435.61 2004.17,1435.7 2005.18,1435.78 2006.19,1435.87 2007.2,1435.96 2008.21,1436.05 2009.23,1436.14 \n",
       "  2010.24,1436.23 2011.25,1436.31 2012.26,1436.4 2013.27,1436.49 2014.29,1436.58 2015.3,1436.67 2016.31,1436.76 2017.32,1436.84 2018.34,1436.93 2019.35,1437.02 \n",
       "  2020.36,1437.11 2021.37,1437.19 2022.38,1437.28 2023.4,1437.37 2024.41,1437.46 2025.42,1437.54 2026.43,1437.63 2027.44,1437.71 2028.46,1437.8 2029.47,1437.89 \n",
       "  2030.48,1437.97 2031.49,1438.06 2032.51,1438.14 2033.52,1438.23 2034.53,1438.31 2035.54,1438.39 2036.55,1438.48 2037.57,1438.56 2038.58,1438.64 2039.59,1438.73 \n",
       "  2040.6,1438.81 2041.61,1438.89 2042.63,1438.97 2043.64,1439.05 2044.65,1439.13 2045.66,1439.21 2046.68,1439.29 2047.69,1439.37 2048.7,1439.45 2049.71,1439.53 \n",
       "  2050.72,1439.61 2051.74,1439.69 2052.75,1439.76 2053.76,1439.84 2054.77,1439.92 2055.78,1439.99 2056.8,1440.07 2057.81,1440.15 2058.82,1440.22 2059.83,1440.29 \n",
       "  2060.85,1440.37 2061.86,1440.44 2062.87,1440.52 2063.88,1440.59 2064.89,1440.66 2065.91,1440.73 2066.92,1440.8 2067.93,1440.87 2068.94,1440.94 2069.95,1441.01 \n",
       "  2070.97,1441.08 2071.98,1441.15 2072.99,1441.22 2074,1441.29 2075.02,1441.36 2076.03,1441.43 2077.04,1441.49 2078.05,1441.56 2079.06,1441.62 2080.08,1441.69 \n",
       "  2081.09,1441.75 2082.1,1441.82 2083.11,1441.88 2084.12,1441.95 2085.14,1442.01 2086.15,1442.07 2087.16,1442.13 2088.17,1442.2 2089.19,1442.26 2090.2,1442.32 \n",
       "  2091.21,1442.38 2092.22,1442.44 2093.23,1442.5 2094.25,1442.55 2095.26,1442.61 2096.27,1442.67 2097.28,1442.73 2098.29,1442.78 2099.31,1442.84 2100.32,1442.89 \n",
       "  2101.33,1442.95 2102.34,1443 2103.35,1443.06 2104.37,1443.11 2105.38,1443.16 2106.39,1443.21 2107.4,1443.26 2108.42,1443.31 2109.43,1443.36 2110.44,1443.41 \n",
       "  2111.45,1443.46 2112.46,1443.51 2113.48,1443.56 2114.49,1443.61 2115.5,1443.65 2116.51,1443.7 2117.52,1443.74 2118.54,1443.79 2119.55,1443.83 2120.56,1443.88 \n",
       "  2121.57,1443.92 2122.59,1443.96 2123.6,1444 2124.61,1444.04 2125.62,1444.08 2126.63,1444.12 2127.65,1444.16 2128.66,1444.2 2129.67,1444.24 2130.68,1444.28 \n",
       "  2131.69,1444.31 2132.71,1444.35 2133.72,1444.39 2134.73,1444.42 2135.74,1444.45 2136.76,1444.49 2137.77,1444.52 2138.78,1444.55 2139.79,1444.59 2140.8,1444.62 \n",
       "  2141.82,1444.65 2142.83,1444.68 2143.84,1444.71 2144.85,1444.74 2145.86,1444.77 2146.88,1444.79 2147.89,1444.82 2148.9,1444.85 2149.91,1444.87 2150.93,1444.9 \n",
       "  2151.94,1444.92 2152.95,1444.95 2153.96,1444.97 2154.97,1445 2155.99,1445.02 2157,1445.04 2158.01,1445.06 2159.02,1445.08 2160.03,1445.1 2161.05,1445.13 \n",
       "  2162.06,1445.15 2163.07,1445.16 2164.08,1445.18 2165.1,1445.2 2166.11,1445.22 2167.12,1445.24 2168.13,1445.25 2169.14,1445.27 2170.16,1445.29 2171.17,1445.3 \n",
       "  2172.18,1445.32 2173.19,1445.33 2174.2,1445.35 2175.22,1445.36 2176.23,1445.37 2177.24,1445.39 2178.25,1445.4 2179.27,1445.41 2180.28,1445.43 2181.29,1445.44 \n",
       "  2182.3,1445.45 2183.31,1445.46 2184.33,1445.47 2185.34,1445.48 2186.35,1445.49 2187.36,1445.5 2188.37,1445.51 2189.39,1445.52 2190.4,1445.53 2191.41,1445.54 \n",
       "  2192.42,1445.55 2193.44,1445.55 2194.45,1445.56 2195.46,1445.57 2196.47,1445.58 2197.48,1445.58 2198.5,1445.59 2199.51,1445.6 2200.52,1445.6 2201.53,1445.61 \n",
       "  2202.54,1445.61 2203.56,1445.62 2204.57,1445.62 2205.58,1445.63 2206.59,1445.64 2207.61,1445.64 2208.62,1445.64 2209.63,1445.65 2210.64,1445.65 2211.65,1445.66 \n",
       "  2212.67,1445.66 2213.68,1445.66 2214.69,1445.67 2215.7,1445.67 2216.71,1445.68 2217.73,1445.68 2218.74,1445.68 2219.75,1445.68 2220.76,1445.69 2221.78,1445.69 \n",
       "  2222.79,1445.69 2223.8,1445.69 2224.81,1445.7 2225.82,1445.7 2226.84,1445.7 2227.85,1445.7 2228.86,1445.7 2229.87,1445.71 2230.88,1445.71 2231.9,1445.71 \n",
       "  2232.91,1445.71 2233.92,1445.71 2234.93,1445.71 2235.95,1445.71 2236.96,1445.71 2237.97,1445.71 2238.98,1445.71 2239.99,1445.72 2241.01,1445.72 2242.02,1445.72 \n",
       "  2243.03,1445.72 2244.04,1445.72 2245.05,1445.72 2246.07,1445.72 2247.08,1445.71 2248.09,1445.71 2249.1,1445.71 2250.11,1445.71 2251.13,1445.71 2252.14,1445.71 \n",
       "  2253.15,1445.71 2254.16,1445.71 2255.18,1445.7 2256.19,1445.7 2257.2,1445.7 2258.21,1445.7 2259.22,1445.69 2260.24,1445.69 2261.25,1445.69 2262.26,1445.68 \n",
       "  2263.27,1445.68 2264.28,1445.68 2265.3,1445.67 2266.31,1445.67 2267.32,1445.66 2268.33,1445.65 2269.35,1445.65 2270.36,1445.64 2271.37,1445.63 2272.38,1445.63 \n",
       "  2273.39,1445.62 2274.41,1445.61 2275.42,1445.6 2276.43,1445.59 2277.44,1445.58 2278.45,1445.56 2279.47,1445.55 2280.48,1445.54 2281.49,1445.52 2282.5,1445.51 \n",
       "  2283.52,1445.49 2284.53,1445.47 2285.54,1445.45 2286.55,1445.43 2287.56,1445.41 2288.58,1445.39 2289.59,1445.36 2290.6,1445.34 \n",
       "  \"/>\n",
       "<polyline clip-path=\"url(#clip772)\" style=\"stroke:#e26f46; stroke-width:12; stroke-opacity:1; fill:none\" points=\"\n",
       "  218.754,1445.31 219.766,1445.28 220.778,1445.25 221.79,1445.21 222.802,1445.18 223.814,1445.14 224.826,1445.1 225.839,1445.05 226.851,1445.01 227.863,1444.96 \n",
       "  228.875,1444.91 229.887,1444.85 230.899,1444.8 231.911,1444.73 232.924,1444.67 233.936,1444.6 234.948,1444.53 235.96,1444.45 236.972,1444.37 237.984,1444.28 \n",
       "  238.996,1444.19 240.009,1444.09 241.021,1443.99 242.033,1443.88 243.045,1443.77 244.057,1443.65 245.069,1443.52 246.081,1443.39 247.094,1443.24 248.106,1443.1 \n",
       "  249.118,1442.94 250.13,1442.77 251.142,1442.59 252.154,1442.41 253.166,1442.22 254.178,1442.01 255.191,1441.79 256.203,1441.57 257.215,1441.33 258.227,1441.07 \n",
       "  259.239,1440.81 260.251,1440.53 261.263,1440.24 262.276,1439.93 263.288,1439.61 264.3,1439.27 265.312,1438.91 266.324,1438.54 267.336,1438.15 268.348,1437.74 \n",
       "  269.361,1437.31 270.373,1436.85 271.385,1436.38 272.397,1435.88 273.409,1435.36 274.421,1434.82 275.433,1434.25 276.446,1433.65 277.458,1433.03 278.47,1432.38 \n",
       "  279.482,1431.7 280.494,1430.99 281.506,1430.24 282.518,1429.46 283.53,1428.65 284.543,1427.81 285.555,1426.92 286.567,1426 287.579,1425.04 288.591,1424.04 \n",
       "  289.603,1422.99 290.615,1421.9 291.628,1420.77 292.64,1419.59 293.652,1418.36 294.664,1417.08 295.676,1415.75 296.688,1414.36 297.7,1412.92 298.713,1411.43 \n",
       "  299.725,1409.87 300.737,1408.26 301.749,1406.58 302.761,1404.84 303.773,1403.03 304.785,1401.16 305.798,1399.21 306.81,1397.2 307.822,1395.11 308.834,1392.94 \n",
       "  309.846,1390.7 310.858,1388.37 311.87,1385.97 312.882,1383.48 313.895,1380.9 314.907,1378.24 315.919,1375.49 316.931,1372.64 317.943,1369.7 318.955,1366.66 \n",
       "  319.967,1363.52 320.98,1360.28 321.992,1356.94 323.004,1353.49 324.016,1349.94 325.028,1346.27 326.04,1342.49 327.052,1338.6 328.065,1334.59 329.077,1330.46 \n",
       "  330.089,1326.21 331.101,1321.83 332.113,1317.33 333.125,1312.71 334.137,1307.95 335.15,1303.06 336.162,1298.04 337.174,1292.89 338.186,1287.59 339.198,1282.16 \n",
       "  340.21,1276.58 341.222,1270.87 342.234,1265.01 343.247,1259 344.259,1252.84 345.271,1246.54 346.283,1240.08 347.295,1233.48 348.307,1226.72 349.319,1219.8 \n",
       "  350.332,1212.73 351.344,1205.51 352.356,1198.12 353.368,1190.58 354.38,1182.88 355.392,1175.02 356.404,1167 357.417,1158.82 358.429,1150.48 359.441,1141.97 \n",
       "  360.453,1133.31 361.465,1124.49 362.477,1115.5 363.489,1106.36 364.502,1097.06 365.514,1087.6 366.526,1077.98 367.538,1068.2 368.55,1058.27 369.562,1048.19 \n",
       "  370.574,1037.95 371.587,1027.56 372.599,1017.02 373.611,1006.33 374.623,995.5 375.635,984.525 376.647,973.409 377.659,962.156 378.671,950.767 379.684,939.246 \n",
       "  380.696,927.596 381.708,915.821 382.72,903.923 383.732,891.906 384.744,879.776 385.756,867.534 386.769,855.186 387.781,842.736 388.793,830.189 389.805,817.549 \n",
       "  390.817,804.821 391.829,792.01 392.841,779.122 393.854,766.162 394.866,753.135 395.878,740.047 396.89,726.904 397.902,713.713 398.914,700.478 399.926,687.207 \n",
       "  400.939,673.906 401.951,660.581 402.963,647.239 403.975,633.888 404.987,620.533 405.999,607.182 407.011,593.843 408.023,580.522 409.036,567.226 410.048,553.964 \n",
       "  411.06,540.742 412.072,527.568 413.084,514.451 414.096,501.397 415.108,488.414 416.121,475.511 417.133,462.694 418.145,449.972 419.157,437.353 420.169,424.844 \n",
       "  421.181,412.454 422.193,400.19 423.206,388.06 424.218,376.072 425.23,364.234 426.242,352.553 427.254,341.037 428.266,329.694 429.278,318.531 430.291,307.556 \n",
       "  431.303,296.777 432.315,286.199 433.327,275.831 434.339,265.68 435.351,255.752 436.363,246.055 437.375,236.594 438.388,227.377 439.4,218.41 440.412,209.698 \n",
       "  441.424,201.249 442.436,193.068 443.448,185.159 444.46,177.53 445.473,170.184 446.485,163.128 447.497,156.365 448.509,149.901 449.521,143.739 450.533,137.884 \n",
       "  451.545,132.34 452.558,127.109 453.57,122.196 454.582,117.604 455.594,113.335 456.606,109.391 457.618,105.776 458.63,102.491 459.643,99.5384 460.655,96.9187 \n",
       "  461.667,94.6335 462.679,92.6837 463.691,91.0699 464.703,89.7923 465.715,88.8511 466.727,88.2459 467.74,87.9763 468.752,88.0413 469.764,88.44 470.776,89.1709 \n",
       "  471.788,90.2323 472.8,91.6223 473.812,93.3387 474.825,95.379 475.837,97.7405 476.849,100.42 477.861,103.414 478.873,106.72 479.885,110.333 480.897,114.25 \n",
       "  481.91,118.465 482.922,122.976 483.934,127.776 484.946,132.861 485.958,138.226 486.97,143.865 487.982,149.773 488.995,155.944 490.007,162.372 491.019,169.051 \n",
       "  492.031,175.974 493.043,183.135 494.055,190.528 495.067,198.145 496.08,205.979 497.092,214.024 498.104,222.273 499.116,230.717 500.128,239.351 501.14,248.165 \n",
       "  502.152,257.153 503.164,266.307 504.177,275.619 505.189,285.082 506.201,294.687 507.213,304.427 508.225,314.294 509.237,324.28 510.249,334.377 511.262,344.577 \n",
       "  512.274,354.872 513.286,365.255 514.298,375.717 515.31,386.251 516.322,396.849 517.334,407.503 518.347,418.206 519.359,428.949 520.371,439.726 521.383,450.529 \n",
       "  522.395,461.35 523.407,472.182 524.419,483.018 525.432,493.852 526.444,504.675 527.456,515.482 528.468,526.265 529.48,537.018 530.492,547.735 531.504,558.409 \n",
       "  532.516,569.034 533.529,579.605 534.541,590.114 535.553,600.558 536.565,610.929 537.577,621.224 538.589,631.436 539.601,641.561 540.614,651.593 541.626,661.529 \n",
       "  542.638,671.364 543.65,681.093 544.662,690.713 545.674,700.219 546.686,709.608 547.699,718.877 548.711,728.021 549.723,737.038 550.735,745.925 551.747,754.679 \n",
       "  552.759,763.297 553.771,771.777 554.784,780.117 555.796,788.315 556.808,796.368 557.82,804.275 558.832,812.035 559.844,819.646 560.856,827.107 561.868,834.417 \n",
       "  562.881,841.575 563.893,848.581 564.905,855.433 565.917,862.132 566.929,868.676 567.941,875.067 568.953,881.305 569.966,887.388 570.978,893.318 571.99,899.096 \n",
       "  573.002,904.721 574.014,910.194 575.026,915.517 576.038,920.691 577.051,925.715 578.063,930.593 579.075,935.324 580.087,939.91 581.099,944.353 582.111,948.654 \n",
       "  583.123,952.815 584.136,956.838 585.148,960.724 586.16,964.476 587.172,968.095 588.184,971.583 589.196,974.943 590.208,978.176 591.22,981.285 592.233,984.272 \n",
       "  593.245,987.139 594.257,989.889 595.269,992.524 596.281,995.046 597.293,997.458 598.305,999.762 599.318,1001.96 600.33,1004.06 601.342,1006.05 602.354,1007.95 \n",
       "  603.366,1009.75 604.378,1011.46 605.39,1013.08 606.403,1014.61 607.415,1016.06 608.427,1017.42 609.439,1018.71 610.451,1019.91 611.463,1021.04 612.475,1022.1 \n",
       "  613.488,1023.09 614.5,1024.01 615.512,1024.86 616.524,1025.65 617.536,1026.38 618.548,1027.05 619.56,1027.67 620.572,1028.23 621.585,1028.74 622.597,1029.2 \n",
       "  623.609,1029.61 624.621,1029.97 625.633,1030.3 626.645,1030.58 627.657,1030.82 628.67,1031.02 629.682,1031.19 630.694,1031.33 631.706,1031.43 632.718,1031.51 \n",
       "  633.73,1031.55 634.742,1031.57 635.755,1031.57 636.767,1031.54 637.779,1031.49 638.791,1031.41 639.803,1031.32 640.815,1031.22 641.827,1031.09 642.84,1030.96 \n",
       "  643.852,1030.81 644.864,1030.64 645.876,1030.47 646.888,1030.28 647.9,1030.09 648.912,1029.89 649.925,1029.69 650.937,1029.48 651.949,1029.26 652.961,1029.04 \n",
       "  653.973,1028.82 654.985,1028.6 655.997,1028.37 657.009,1028.15 658.022,1027.92 659.034,1027.7 660.046,1027.48 661.058,1027.26 662.07,1027.05 663.082,1026.84 \n",
       "  664.094,1026.63 665.107,1026.43 666.119,1026.24 667.131,1026.05 668.143,1025.87 669.155,1025.69 670.167,1025.52 671.179,1025.36 672.192,1025.21 673.204,1025.06 \n",
       "  674.216,1024.93 675.228,1024.8 676.24,1024.68 677.252,1024.57 678.264,1024.47 679.277,1024.38 680.289,1024.3 681.301,1024.23 682.313,1024.17 683.325,1024.13 \n",
       "  684.337,1024.09 685.349,1024.06 686.361,1024.04 687.374,1024.03 688.386,1024.04 689.398,1024.05 690.41,1024.08 691.422,1024.11 692.434,1024.16 693.446,1024.22 \n",
       "  694.459,1024.29 695.471,1024.37 696.483,1024.46 697.495,1024.56 698.507,1024.67 699.519,1024.79 700.531,1024.92 701.544,1025.07 702.556,1025.22 703.568,1025.39 \n",
       "  704.58,1025.56 705.592,1025.75 706.604,1025.94 707.616,1026.15 708.629,1026.36 709.641,1026.59 710.653,1026.82 711.665,1027.07 712.677,1027.32 713.689,1027.59 \n",
       "  714.701,1027.86 715.713,1028.14 716.726,1028.44 717.738,1028.74 718.75,1029.05 719.762,1029.37 720.774,1029.7 721.786,1030.04 722.798,1030.38 723.811,1030.74 \n",
       "  724.823,1031.1 725.835,1031.47 726.847,1031.85 727.859,1032.24 728.871,1032.63 729.883,1033.04 730.896,1033.45 731.908,1033.87 732.92,1034.3 733.932,1034.73 \n",
       "  734.944,1035.17 735.956,1035.62 736.968,1036.08 737.981,1036.55 738.993,1037.02 740.005,1037.49 741.017,1037.98 742.029,1038.47 743.041,1038.97 744.053,1039.48 \n",
       "  745.065,1039.99 746.078,1040.51 747.09,1041.03 748.102,1041.57 749.114,1042.1 750.126,1042.65 751.138,1043.2 752.15,1043.76 753.163,1044.32 754.175,1044.89 \n",
       "  755.187,1045.47 756.199,1046.05 757.211,1046.63 758.223,1047.23 759.235,1047.82 760.248,1048.43 761.26,1049.04 762.272,1049.65 763.284,1050.28 764.296,1050.9 \n",
       "  765.308,1051.53 766.32,1052.17 767.333,1052.81 768.345,1053.46 769.357,1054.12 770.369,1054.77 771.381,1055.44 772.393,1056.11 773.405,1056.78 774.418,1057.46 \n",
       "  775.43,1058.14 776.442,1058.83 777.454,1059.53 778.466,1060.22 779.478,1060.93 780.49,1061.64 781.502,1062.35 782.515,1063.07 783.527,1063.79 784.539,1064.51 \n",
       "  785.551,1065.24 786.563,1065.98 787.575,1066.72 788.587,1067.46 789.6,1068.21 790.612,1068.96 791.624,1069.72 792.636,1070.48 793.648,1071.25 794.66,1072.01 \n",
       "  795.672,1072.79 796.685,1073.56 797.697,1074.34 798.709,1075.13 799.721,1075.91 800.733,1076.7 801.745,1077.5 802.757,1078.29 803.77,1079.1 804.782,1079.9 \n",
       "  805.794,1080.71 806.806,1081.52 807.818,1082.33 808.83,1083.15 809.842,1083.96 810.854,1084.78 811.867,1085.61 812.879,1086.44 813.891,1087.26 814.903,1088.09 \n",
       "  815.915,1088.93 816.927,1089.76 817.939,1090.6 818.952,1091.44 819.964,1092.28 820.976,1093.12 821.988,1093.97 823,1094.81 824.012,1095.66 825.024,1096.51 \n",
       "  826.037,1097.36 827.049,1098.21 828.061,1099.06 829.073,1099.91 830.085,1100.76 831.097,1101.61 832.109,1102.46 833.122,1103.32 834.134,1104.17 835.146,1105.02 \n",
       "  836.158,1105.88 837.17,1106.73 838.182,1107.58 839.194,1108.43 840.206,1109.29 841.219,1110.14 842.231,1110.99 843.243,1111.83 844.255,1112.68 845.267,1113.53 \n",
       "  846.279,1114.37 847.291,1115.22 848.304,1116.06 849.316,1116.9 850.328,1117.74 851.34,1118.58 852.352,1119.41 853.364,1120.24 854.376,1121.08 855.389,1121.9 \n",
       "  856.401,1122.73 857.413,1123.55 858.425,1124.38 859.437,1125.19 860.449,1126.01 861.461,1126.82 862.474,1127.63 863.486,1128.44 864.498,1129.25 865.51,1130.05 \n",
       "  866.522,1130.85 867.534,1131.64 868.546,1132.44 869.558,1133.23 870.571,1134.01 871.583,1134.79 872.595,1135.57 873.607,1136.35 874.619,1137.12 875.631,1137.89 \n",
       "  876.643,1138.66 877.656,1139.42 878.668,1140.18 879.68,1140.94 880.692,1141.69 881.704,1142.44 882.716,1143.18 883.728,1143.93 884.741,1144.67 885.753,1145.4 \n",
       "  886.765,1146.14 887.777,1146.87 888.789,1147.59 889.801,1148.32 890.813,1149.04 891.826,1149.76 892.838,1150.47 893.85,1151.19 894.862,1151.9 895.874,1152.6 \n",
       "  896.886,1153.31 897.898,1154.01 898.91,1154.71 899.923,1155.41 900.935,1156.11 901.947,1156.8 902.959,1157.49 903.971,1158.18 904.983,1158.87 905.995,1159.56 \n",
       "  907.008,1160.24 908.02,1160.93 909.032,1161.61 910.044,1162.3 911.056,1162.98 912.068,1163.66 913.08,1164.34 914.093,1165.02 915.105,1165.7 916.117,1166.38 \n",
       "  917.129,1167.06 918.141,1167.74 919.153,1168.43 920.165,1169.11 921.178,1169.79 922.19,1170.47 923.202,1171.16 924.214,1171.84 925.226,1172.53 926.238,1173.22 \n",
       "  927.25,1173.91 928.263,1174.6 929.275,1175.3 930.287,1175.99 931.299,1176.69 932.311,1177.39 933.323,1178.1 934.335,1178.81 935.347,1179.52 936.36,1180.23 \n",
       "  937.372,1180.95 938.384,1181.66 939.396,1182.39 940.408,1183.12 941.42,1183.85 942.432,1184.58 943.445,1185.32 944.457,1186.06 945.469,1186.81 946.481,1187.56 \n",
       "  947.493,1188.32 948.505,1189.08 949.517,1189.85 950.53,1190.62 951.542,1191.4 952.554,1192.18 953.566,1192.97 954.578,1193.76 955.59,1194.56 956.602,1195.36 \n",
       "  957.615,1196.17 958.627,1196.99 959.639,1197.81 960.651,1198.63 961.663,1199.47 962.675,1200.3 963.687,1201.15 964.699,1202 965.712,1202.85 966.724,1203.72 \n",
       "  967.736,1204.59 968.748,1205.46 969.76,1206.34 970.772,1207.23 971.784,1208.12 972.797,1209.02 973.809,1209.93 974.821,1210.84 975.833,1211.76 976.845,1212.68 \n",
       "  977.857,1213.61 978.869,1214.55 979.882,1215.49 980.894,1216.44 981.906,1217.39 982.918,1218.35 983.93,1219.32 984.942,1220.29 985.954,1221.27 986.967,1222.25 \n",
       "  987.979,1223.24 988.991,1224.24 990.003,1225.24 991.015,1226.24 992.027,1227.25 993.039,1228.27 994.051,1229.29 995.064,1230.31 996.076,1231.34 997.088,1232.38 \n",
       "  998.1,1233.42 999.112,1234.46 1000.12,1235.51 1001.14,1236.57 1002.15,1237.62 1003.16,1238.68 1004.17,1239.75 1005.19,1240.82 1006.2,1241.89 1007.21,1242.97 \n",
       "  1008.22,1244.05 1009.23,1245.13 1010.25,1246.21 1011.26,1247.3 1012.27,1248.39 1013.28,1249.49 1014.29,1250.58 1015.31,1251.68 1016.32,1252.78 1017.33,1253.88 \n",
       "  1018.34,1254.99 1019.35,1256.09 1020.37,1257.2 1021.38,1258.31 1022.39,1259.41 1023.4,1260.52 1024.42,1261.64 1025.43,1262.75 1026.44,1263.86 1027.45,1264.97 \n",
       "  1028.46,1266.08 1029.48,1267.2 1030.49,1268.31 1031.5,1269.42 1032.51,1270.53 1033.52,1271.64 1034.54,1272.75 1035.55,1273.86 1036.56,1274.96 1037.57,1276.07 \n",
       "  1038.59,1277.17 1039.6,1278.27 1040.61,1279.37 1041.62,1280.47 1042.63,1281.57 1043.65,1282.66 1044.66,1283.75 1045.67,1284.84 1046.68,1285.92 1047.69,1287.01 \n",
       "  1048.71,1288.08 1049.72,1289.16 1050.73,1290.23 1051.74,1291.3 1052.76,1292.36 1053.77,1293.42 1054.78,1294.48 1055.79,1295.53 1056.8,1296.58 1057.82,1297.62 \n",
       "  1058.83,1298.66 1059.84,1299.69 1060.85,1300.71 1061.86,1301.74 1062.88,1302.75 1063.89,1303.76 1064.9,1304.77 1065.91,1305.77 1066.93,1306.76 1067.94,1307.75 \n",
       "  1068.95,1308.73 1069.96,1309.71 1070.97,1310.68 1071.99,1311.64 1073,1312.6 1074.01,1313.54 1075.02,1314.49 1076.03,1315.42 1077.05,1316.35 1078.06,1317.27 \n",
       "  1079.07,1318.18 1080.08,1319.09 1081.1,1319.98 1082.11,1320.87 1083.12,1321.76 1084.13,1322.63 1085.14,1323.5 1086.16,1324.36 1087.17,1325.2 1088.18,1326.05 \n",
       "  1089.19,1326.88 1090.2,1327.7 1091.22,1328.52 1092.23,1329.33 1093.24,1330.13 1094.25,1330.92 1095.27,1331.7 1096.28,1332.47 1097.29,1333.23 1098.3,1333.98 \n",
       "  1099.31,1334.73 1100.33,1335.46 1101.34,1336.19 1102.35,1336.91 1103.36,1337.61 1104.37,1338.31 1105.39,1339 1106.4,1339.68 1107.41,1340.34 1108.42,1341 \n",
       "  1109.44,1341.65 1110.45,1342.29 1111.46,1342.92 1112.47,1343.54 1113.48,1344.15 1114.5,1344.75 1115.51,1345.34 1116.52,1345.92 1117.53,1346.49 1118.54,1347.05 \n",
       "  1119.56,1347.6 1120.57,1348.14 1121.58,1348.68 1122.59,1349.2 1123.61,1349.71 1124.62,1350.21 1125.63,1350.7 1126.64,1351.18 1127.65,1351.66 1128.67,1352.12 \n",
       "  1129.68,1352.57 1130.69,1353.01 1131.7,1353.45 1132.71,1353.87 1133.73,1354.29 1134.74,1354.69 1135.75,1355.09 1136.76,1355.47 1137.78,1355.85 1138.79,1356.22 \n",
       "  1139.8,1356.58 1140.81,1356.93 1141.82,1357.27 1142.84,1357.6 1143.85,1357.92 1144.86,1358.24 1145.87,1358.54 1146.88,1358.84 1147.9,1359.13 1148.91,1359.41 \n",
       "  1149.92,1359.69 1150.93,1359.95 1151.95,1360.21 1152.96,1360.46 1153.97,1360.7 1154.98,1360.94 1155.99,1361.17 1157.01,1361.39 1158.02,1361.6 1159.03,1361.81 \n",
       "  1160.04,1362.01 1161.05,1362.2 1162.07,1362.39 1163.08,1362.57 1164.09,1362.75 1165.1,1362.92 1166.11,1363.08 1167.13,1363.24 1168.14,1363.39 1169.15,1363.54 \n",
       "  1170.16,1363.68 1171.18,1363.82 1172.19,1363.96 1173.2,1364.09 1174.21,1364.21 1175.22,1364.33 1176.24,1364.45 1177.25,1364.56 1178.26,1364.67 1179.27,1364.78 \n",
       "  1180.28,1364.88 1181.3,1364.98 1182.31,1365.08 1183.32,1365.17 1184.33,1365.26 1185.35,1365.35 1186.36,1365.44 1187.37,1365.53 1188.38,1365.61 1189.39,1365.69 \n",
       "  1190.41,1365.78 1191.42,1365.86 1192.43,1365.94 1193.44,1366.01 1194.45,1366.09 1195.47,1366.17 1196.48,1366.24 1197.49,1366.32 1198.5,1366.4 1199.52,1366.47 \n",
       "  1200.53,1366.55 1201.54,1366.62 1202.55,1366.7 1203.56,1366.78 1204.58,1366.86 1205.59,1366.94 1206.6,1367.02 1207.61,1367.1 1208.62,1367.18 1209.64,1367.27 \n",
       "  1210.65,1367.35 1211.66,1367.44 1212.67,1367.53 1213.69,1367.62 1214.7,1367.71 1215.71,1367.8 1216.72,1367.9 1217.73,1368 1218.75,1368.1 1219.76,1368.2 \n",
       "  1220.77,1368.31 1221.78,1368.41 1222.79,1368.52 1223.81,1368.63 1224.82,1368.75 1225.83,1368.87 1226.84,1368.99 1227.86,1369.11 1228.87,1369.23 1229.88,1369.36 \n",
       "  1230.89,1369.49 1231.9,1369.62 1232.92,1369.76 1233.93,1369.89 1234.94,1370.03 1235.95,1370.17 1236.96,1370.32 1237.98,1370.47 1238.99,1370.62 1240,1370.77 \n",
       "  1241.01,1370.92 1242.03,1371.08 1243.04,1371.24 1244.05,1371.4 1245.06,1371.57 1246.07,1371.74 1247.09,1371.9 1248.1,1372.08 1249.11,1372.25 1250.12,1372.42 \n",
       "  1251.13,1372.6 1252.15,1372.78 1253.16,1372.96 1254.17,1373.14 1255.18,1373.33 1256.2,1373.51 1257.21,1373.7 1258.22,1373.89 1259.23,1374.08 1260.24,1374.27 \n",
       "  1261.26,1374.47 1262.27,1374.66 1263.28,1374.86 1264.29,1375.05 1265.3,1375.25 1266.32,1375.45 1267.33,1375.65 1268.34,1375.85 1269.35,1376.05 1270.37,1376.26 \n",
       "  1271.38,1376.46 1272.39,1376.66 1273.4,1376.87 1274.41,1377.07 1275.43,1377.27 1276.44,1377.48 1277.45,1377.68 1278.46,1377.89 1279.47,1378.1 1280.49,1378.3 \n",
       "  1281.5,1378.51 1282.51,1378.71 1283.52,1378.92 1284.54,1379.13 1285.55,1379.33 1286.56,1379.54 1287.57,1379.74 1288.58,1379.95 1289.6,1380.15 1290.61,1380.36 \n",
       "  1291.62,1380.56 1292.63,1380.77 1293.64,1380.97 1294.66,1381.18 1295.67,1381.38 1296.68,1381.58 1297.69,1381.79 1298.71,1381.99 1299.72,1382.19 1300.73,1382.4 \n",
       "  1301.74,1382.6 1302.75,1382.8 1303.77,1383 1304.78,1383.21 1305.79,1383.41 1306.8,1383.61 1307.81,1383.81 1308.83,1384.02 1309.84,1384.22 1310.85,1384.42 \n",
       "  1311.86,1384.62 1312.88,1384.82 1313.89,1385.03 1314.9,1385.23 1315.91,1385.43 1316.92,1385.64 1317.94,1385.84 1318.95,1386.05 1319.96,1386.25 1320.97,1386.46 \n",
       "  1321.98,1386.66 1323,1386.87 1324.01,1387.08 1325.02,1387.29 1326.03,1387.5 1327.04,1387.71 1328.06,1387.92 1329.07,1388.13 1330.08,1388.34 1331.09,1388.56 \n",
       "  1332.11,1388.77 1333.12,1388.99 1334.13,1389.21 1335.14,1389.43 1336.15,1389.65 1337.17,1389.87 1338.18,1390.09 1339.19,1390.32 1340.2,1390.55 1341.21,1390.77 \n",
       "  1342.23,1391 1343.24,1391.24 1344.25,1391.47 1345.26,1391.71 1346.28,1391.94 1347.29,1392.18 1348.3,1392.42 1349.31,1392.67 1350.32,1392.91 1351.34,1393.16 \n",
       "  1352.35,1393.41 1353.36,1393.66 1354.37,1393.91 1355.38,1394.16 1356.4,1394.42 1357.41,1394.68 1358.42,1394.94 1359.43,1395.2 1360.45,1395.47 1361.46,1395.73 \n",
       "  1362.47,1396 1363.48,1396.27 1364.49,1396.54 1365.51,1396.81 1366.52,1397.09 1367.53,1397.37 1368.54,1397.64 1369.55,1397.92 1370.57,1398.21 1371.58,1398.49 \n",
       "  1372.59,1398.77 1373.6,1399.06 1374.62,1399.35 1375.63,1399.64 1376.64,1399.93 1377.65,1400.22 1378.66,1400.51 1379.68,1400.8 1380.69,1401.1 1381.7,1401.39 \n",
       "  1382.71,1401.69 1383.72,1401.98 1384.74,1402.28 1385.75,1402.58 1386.76,1402.88 1387.77,1403.17 1388.79,1403.47 1389.8,1403.77 1390.81,1404.07 1391.82,1404.37 \n",
       "  1392.83,1404.67 1393.85,1404.96 1394.86,1405.26 1395.87,1405.56 1396.88,1405.86 1397.89,1406.15 1398.91,1406.45 1399.92,1406.74 1400.93,1407.04 1401.94,1407.33 \n",
       "  1402.96,1407.62 1403.97,1407.91 1404.98,1408.2 1405.99,1408.49 1407,1408.77 1408.02,1409.06 1409.03,1409.34 1410.04,1409.62 1411.05,1409.9 1412.06,1410.18 \n",
       "  1413.08,1410.45 1414.09,1410.73 1415.1,1411 1416.11,1411.26 1417.13,1411.53 1418.14,1411.79 1419.15,1412.05 1420.16,1412.31 1421.17,1412.57 1422.19,1412.82 \n",
       "  1423.2,1413.07 1424.21,1413.32 1425.22,1413.56 1426.23,1413.8 1427.25,1414.04 1428.26,1414.28 1429.27,1414.51 1430.28,1414.74 1431.3,1414.96 1432.31,1415.19 \n",
       "  1433.32,1415.41 1434.33,1415.62 1435.34,1415.83 1436.36,1416.04 1437.37,1416.25 1438.38,1416.45 1439.39,1416.65 1440.4,1416.85 1441.42,1417.04 1442.43,1417.23 \n",
       "  1443.44,1417.41 1444.45,1417.6 1445.47,1417.77 1446.48,1417.95 1447.49,1418.12 1448.5,1418.29 1449.51,1418.46 1450.53,1418.62 1451.54,1418.78 1452.55,1418.93 \n",
       "  1453.56,1419.08 1454.57,1419.23 1455.59,1419.38 1456.6,1419.52 1457.61,1419.66 1458.62,1419.8 1459.64,1419.93 1460.65,1420.06 1461.66,1420.19 1462.67,1420.31 \n",
       "  1463.68,1420.43 1464.7,1420.55 1465.71,1420.67 1466.72,1420.78 1467.73,1420.89 1468.74,1421 1469.76,1421.11 1470.77,1421.21 1471.78,1421.31 1472.79,1421.41 \n",
       "  1473.8,1421.51 1474.82,1421.6 1475.83,1421.7 1476.84,1421.79 1477.85,1421.88 1478.87,1421.96 1479.88,1422.05 1480.89,1422.13 1481.9,1422.21 1482.91,1422.29 \n",
       "  1483.93,1422.37 1484.94,1422.45 1485.95,1422.52 1486.96,1422.6 1487.97,1422.67 1488.99,1422.74 1490,1422.81 1491.01,1422.88 1492.02,1422.95 1493.04,1423.02 \n",
       "  1494.05,1423.08 1495.06,1423.15 1496.07,1423.22 1497.08,1423.28 1498.1,1423.34 1499.11,1423.41 1500.12,1423.47 1501.13,1423.53 1502.14,1423.6 1503.16,1423.66 \n",
       "  1504.17,1423.72 1505.18,1423.78 1506.19,1423.84 1507.21,1423.91 1508.22,1423.97 1509.23,1424.03 1510.24,1424.09 1511.25,1424.15 1512.27,1424.22 1513.28,1424.28 \n",
       "  1514.29,1424.34 1515.3,1424.4 1516.31,1424.47 1517.33,1424.53 1518.34,1424.59 1519.35,1424.66 1520.36,1424.72 1521.38,1424.79 1522.39,1424.86 1523.4,1424.92 \n",
       "  1524.41,1424.99 1525.42,1425.06 1526.44,1425.13 1527.45,1425.2 1528.46,1425.27 1529.47,1425.34 1530.48,1425.41 1531.5,1425.48 1532.51,1425.56 1533.52,1425.63 \n",
       "  1534.53,1425.71 1535.55,1425.78 1536.56,1425.86 1537.57,1425.94 1538.58,1426.02 1539.59,1426.1 1540.61,1426.18 1541.62,1426.26 1542.63,1426.34 1543.64,1426.42 \n",
       "  1544.65,1426.51 1545.67,1426.59 1546.68,1426.67 1547.69,1426.76 1548.7,1426.85 1549.72,1426.94 1550.73,1427.02 1551.74,1427.11 1552.75,1427.2 1553.76,1427.29 \n",
       "  1554.78,1427.39 1555.79,1427.48 1556.8,1427.57 1557.81,1427.66 1558.82,1427.76 1559.84,1427.85 1560.85,1427.95 1561.86,1428.04 1562.87,1428.14 1563.89,1428.24 \n",
       "  1564.9,1428.33 1565.91,1428.43 1566.92,1428.53 1567.93,1428.63 1568.95,1428.73 1569.96,1428.83 1570.97,1428.93 1571.98,1429.03 1572.99,1429.13 1574.01,1429.23 \n",
       "  1575.02,1429.33 1576.03,1429.43 1577.04,1429.53 1578.06,1429.63 1579.07,1429.73 1580.08,1429.84 1581.09,1429.94 1582.1,1430.04 1583.12,1430.14 1584.13,1430.24 \n",
       "  1585.14,1430.34 1586.15,1430.44 1587.16,1430.54 1588.18,1430.64 1589.19,1430.74 1590.2,1430.84 1591.21,1430.94 1592.23,1431.04 1593.24,1431.13 1594.25,1431.23 \n",
       "  1595.26,1431.33 1596.27,1431.42 1597.29,1431.52 1598.3,1431.61 1599.31,1431.71 1600.32,1431.8 1601.33,1431.89 1602.35,1431.98 1603.36,1432.07 1604.37,1432.16 \n",
       "  1605.38,1432.25 1606.4,1432.34 1607.41,1432.42 1608.42,1432.51 1609.43,1432.59 1610.44,1432.67 1611.46,1432.76 1612.47,1432.84 1613.48,1432.91 1614.49,1432.99 \n",
       "  1615.5,1433.07 1616.52,1433.14 1617.53,1433.21 1618.54,1433.28 1619.55,1433.35 1620.57,1433.42 1621.58,1433.49 1622.59,1433.55 1623.6,1433.62 1624.61,1433.68 \n",
       "  1625.63,1433.73 1626.64,1433.79 1627.65,1433.85 1628.66,1433.9 1629.67,1433.95 1630.69,1434 1631.7,1434.05 1632.71,1434.09 1633.72,1434.14 1634.73,1434.18 \n",
       "  1635.75,1434.21 1636.76,1434.25 1637.77,1434.28 1638.78,1434.31 1639.8,1434.34 1640.81,1434.37 1641.82,1434.39 1642.83,1434.42 1643.84,1434.43 1644.86,1434.45 \n",
       "  1645.87,1434.46 1646.88,1434.48 1647.89,1434.48 1648.9,1434.49 1649.92,1434.49 1650.93,1434.49 1651.94,1434.49 1652.95,1434.49 1653.97,1434.48 1654.98,1434.47 \n",
       "  1655.99,1434.45 1657,1434.44 1658.01,1434.42 1659.03,1434.39 1660.04,1434.37 1661.05,1434.34 1662.06,1434.31 1663.07,1434.27 1664.09,1434.24 1665.1,1434.19 \n",
       "  1666.11,1434.15 1667.12,1434.1 1668.14,1434.05 1669.15,1434 1670.16,1433.94 1671.17,1433.88 1672.18,1433.82 1673.2,1433.76 1674.21,1433.69 1675.22,1433.62 \n",
       "  1676.23,1433.54 1677.24,1433.46 1678.26,1433.38 1679.27,1433.3 1680.28,1433.21 1681.29,1433.12 1682.31,1433.02 1683.32,1432.93 1684.33,1432.83 1685.34,1432.72 \n",
       "  1686.35,1432.62 1687.37,1432.51 1688.38,1432.4 1689.39,1432.28 1690.4,1432.16 1691.41,1432.04 1692.43,1431.92 1693.44,1431.79 1694.45,1431.66 1695.46,1431.53 \n",
       "  1696.48,1431.4 1697.49,1431.26 1698.5,1431.12 1699.51,1430.98 1700.52,1430.84 1701.54,1430.69 1702.55,1430.54 1703.56,1430.39 1704.57,1430.23 1705.58,1430.08 \n",
       "  1706.6,1429.92 1707.61,1429.76 1708.62,1429.6 1709.63,1429.43 1710.65,1429.27 1711.66,1429.1 1712.67,1428.93 1713.68,1428.76 1714.69,1428.59 1715.71,1428.42 \n",
       "  1716.72,1428.24 1717.73,1428.07 1718.74,1427.89 1719.75,1427.71 1720.77,1427.53 1721.78,1427.35 1722.79,1427.17 1723.8,1426.99 1724.82,1426.81 1725.83,1426.63 \n",
       "  1726.84,1426.45 1727.85,1426.26 1728.86,1426.08 1729.88,1425.9 1730.89,1425.72 1731.9,1425.54 1732.91,1425.35 1733.92,1425.17 1734.94,1424.99 1735.95,1424.81 \n",
       "  1736.96,1424.63 1737.97,1424.46 1738.99,1424.28 1740,1424.1 1741.01,1423.93 1742.02,1423.76 1743.03,1423.59 1744.05,1423.42 1745.06,1423.25 1746.07,1423.08 \n",
       "  1747.08,1422.92 1748.09,1422.76 1749.11,1422.6 1750.12,1422.44 1751.13,1422.28 1752.14,1422.13 1753.16,1421.98 1754.17,1421.83 1755.18,1421.69 1756.19,1421.55 \n",
       "  1757.2,1421.41 1758.22,1421.27 1759.23,1421.14 1760.24,1421.01 1761.25,1420.88 1762.26,1420.76 1763.28,1420.64 1764.29,1420.53 1765.3,1420.42 1766.31,1420.31 \n",
       "  1767.33,1420.2 1768.34,1420.1 1769.35,1420.01 1770.36,1419.92 1771.37,1419.83 1772.39,1419.74 1773.4,1419.66 1774.41,1419.59 1775.42,1419.52 1776.43,1419.45 \n",
       "  1777.45,1419.39 1778.46,1419.33 1779.47,1419.28 1780.48,1419.23 1781.49,1419.18 1782.51,1419.14 1783.52,1419.1 1784.53,1419.07 1785.54,1419.04 1786.56,1419.02 \n",
       "  1787.57,1419 1788.58,1418.99 1789.59,1418.98 1790.6,1418.98 1791.62,1418.98 1792.63,1418.98 1793.64,1418.99 1794.65,1419 1795.66,1419.02 1796.68,1419.04 \n",
       "  1797.69,1419.07 1798.7,1419.1 1799.71,1419.13 1800.73,1419.17 1801.74,1419.21 1802.75,1419.26 1803.76,1419.31 1804.77,1419.36 1805.79,1419.42 1806.8,1419.48 \n",
       "  1807.81,1419.55 1808.82,1419.62 1809.83,1419.69 1810.85,1419.77 1811.86,1419.85 1812.87,1419.93 1813.88,1420.02 1814.9,1420.1 1815.91,1420.2 1816.92,1420.29 \n",
       "  1817.93,1420.39 1818.94,1420.49 1819.96,1420.6 1820.97,1420.7 1821.98,1420.81 1822.99,1420.92 1824,1421.03 1825.02,1421.15 1826.03,1421.27 1827.04,1421.39 \n",
       "  1828.05,1421.51 1829.07,1421.63 1830.08,1421.76 1831.09,1421.88 1832.1,1422.01 1833.11,1422.14 1834.13,1422.27 1835.14,1422.4 1836.15,1422.53 1837.16,1422.67 \n",
       "  1838.17,1422.8 1839.19,1422.93 1840.2,1423.07 1841.21,1423.2 1842.22,1423.34 1843.24,1423.48 1844.25,1423.61 1845.26,1423.75 1846.27,1423.89 1847.28,1424.02 \n",
       "  1848.3,1424.16 1849.31,1424.3 1850.32,1424.43 1851.33,1424.57 1852.34,1424.7 1853.36,1424.83 1854.37,1424.97 1855.38,1425.1 1856.39,1425.23 1857.41,1425.36 \n",
       "  1858.42,1425.49 1859.43,1425.62 1860.44,1425.75 1861.45,1425.87 1862.47,1426 1863.48,1426.12 1864.49,1426.24 1865.5,1426.37 1866.51,1426.48 1867.53,1426.6 \n",
       "  1868.54,1426.72 1869.55,1426.83 1870.56,1426.95 1871.58,1427.06 1872.59,1427.17 1873.6,1427.27 1874.61,1427.38 1875.62,1427.49 1876.64,1427.59 1877.65,1427.69 \n",
       "  1878.66,1427.79 1879.67,1427.88 1880.68,1427.98 1881.7,1428.07 1882.71,1428.17 1883.72,1428.26 1884.73,1428.34 1885.75,1428.43 1886.76,1428.51 1887.77,1428.6 \n",
       "  1888.78,1428.68 1889.79,1428.76 1890.81,1428.83 1891.82,1428.91 1892.83,1428.98 1893.84,1429.05 1894.85,1429.12 1895.87,1429.19 1896.88,1429.26 1897.89,1429.33 \n",
       "  1898.9,1429.39 1899.92,1429.45 1900.93,1429.51 1901.94,1429.57 1902.95,1429.63 1903.96,1429.69 1904.98,1429.75 1905.99,1429.8 1907,1429.86 1908.01,1429.91 \n",
       "  1909.02,1429.96 1910.04,1430.01 1911.05,1430.06 1912.06,1430.11 1913.07,1430.16 1914.09,1430.2 1915.1,1430.25 1916.11,1430.3 1917.12,1430.34 1918.13,1430.38 \n",
       "  1919.15,1430.43 1920.16,1430.47 1921.17,1430.52 1922.18,1430.56 1923.19,1430.6 1924.21,1430.64 1925.22,1430.68 1926.23,1430.73 1927.24,1430.77 1928.26,1430.81 \n",
       "  1929.27,1430.85 1930.28,1430.89 1931.29,1430.94 1932.3,1430.98 1933.32,1431.02 1934.33,1431.06 1935.34,1431.1 1936.35,1431.15 1937.36,1431.19 1938.38,1431.24 \n",
       "  1939.39,1431.28 1940.4,1431.32 1941.41,1431.37 1942.42,1431.42 1943.44,1431.46 1944.45,1431.51 1945.46,1431.56 1946.47,1431.61 1947.49,1431.66 1948.5,1431.71 \n",
       "  1949.51,1431.76 1950.52,1431.81 1951.53,1431.86 1952.55,1431.91 1953.56,1431.97 1954.57,1432.02 1955.58,1432.08 1956.59,1432.14 1957.61,1432.19 1958.62,1432.25 \n",
       "  1959.63,1432.31 1960.64,1432.37 1961.66,1432.43 1962.67,1432.5 1963.68,1432.56 1964.69,1432.62 1965.7,1432.69 1966.72,1432.75 1967.73,1432.82 1968.74,1432.89 \n",
       "  1969.75,1432.96 1970.76,1433.03 1971.78,1433.1 1972.79,1433.17 1973.8,1433.24 1974.81,1433.31 1975.83,1433.39 1976.84,1433.46 1977.85,1433.54 1978.86,1433.61 \n",
       "  1979.87,1433.69 1980.89,1433.77 1981.9,1433.84 1982.91,1433.92 1983.92,1434 1984.93,1434.08 1985.95,1434.16 1986.96,1434.25 1987.97,1434.33 1988.98,1434.41 \n",
       "  1990,1434.49 1991.01,1434.58 1992.02,1434.66 1993.03,1434.74 1994.04,1434.83 1995.06,1434.91 1996.07,1435 1997.08,1435.09 1998.09,1435.17 1999.1,1435.26 \n",
       "  2000.12,1435.35 2001.13,1435.43 2002.14,1435.52 2003.15,1435.61 2004.17,1435.7 2005.18,1435.78 2006.19,1435.87 2007.2,1435.96 2008.21,1436.05 2009.23,1436.14 \n",
       "  2010.24,1436.23 2011.25,1436.31 2012.26,1436.4 2013.27,1436.49 2014.29,1436.58 2015.3,1436.67 2016.31,1436.76 2017.32,1436.84 2018.34,1436.93 2019.35,1437.02 \n",
       "  2020.36,1437.11 2021.37,1437.19 2022.38,1437.28 2023.4,1437.37 2024.41,1437.46 2025.42,1437.54 2026.43,1437.63 2027.44,1437.71 2028.46,1437.8 2029.47,1437.89 \n",
       "  2030.48,1437.97 2031.49,1438.06 2032.51,1438.14 2033.52,1438.23 2034.53,1438.31 2035.54,1438.39 2036.55,1438.48 2037.57,1438.56 2038.58,1438.64 2039.59,1438.73 \n",
       "  2040.6,1438.81 2041.61,1438.89 2042.63,1438.97 2043.64,1439.05 2044.65,1439.13 2045.66,1439.21 2046.68,1439.29 2047.69,1439.37 2048.7,1439.45 2049.71,1439.53 \n",
       "  2050.72,1439.61 2051.74,1439.69 2052.75,1439.76 2053.76,1439.84 2054.77,1439.92 2055.78,1439.99 2056.8,1440.07 2057.81,1440.15 2058.82,1440.22 2059.83,1440.29 \n",
       "  2060.85,1440.37 2061.86,1440.44 2062.87,1440.52 2063.88,1440.59 2064.89,1440.66 2065.91,1440.73 2066.92,1440.8 2067.93,1440.87 2068.94,1440.94 2069.95,1441.01 \n",
       "  2070.97,1441.08 2071.98,1441.15 2072.99,1441.22 2074,1441.29 2075.02,1441.36 2076.03,1441.43 2077.04,1441.49 2078.05,1441.56 2079.06,1441.62 2080.08,1441.69 \n",
       "  2081.09,1441.75 2082.1,1441.82 2083.11,1441.88 2084.12,1441.95 2085.14,1442.01 2086.15,1442.07 2087.16,1442.13 2088.17,1442.2 2089.19,1442.26 2090.2,1442.32 \n",
       "  2091.21,1442.38 2092.22,1442.44 2093.23,1442.5 2094.25,1442.55 2095.26,1442.61 2096.27,1442.67 2097.28,1442.73 2098.29,1442.78 2099.31,1442.84 2100.32,1442.89 \n",
       "  2101.33,1442.95 2102.34,1443 2103.35,1443.06 2104.37,1443.11 2105.38,1443.16 2106.39,1443.21 2107.4,1443.26 2108.42,1443.31 2109.43,1443.36 2110.44,1443.41 \n",
       "  2111.45,1443.46 2112.46,1443.51 2113.48,1443.56 2114.49,1443.61 2115.5,1443.65 2116.51,1443.7 2117.52,1443.74 2118.54,1443.79 2119.55,1443.83 2120.56,1443.88 \n",
       "  2121.57,1443.92 2122.59,1443.96 2123.6,1444 2124.61,1444.04 2125.62,1444.08 2126.63,1444.12 2127.65,1444.16 2128.66,1444.2 2129.67,1444.24 2130.68,1444.28 \n",
       "  2131.69,1444.31 2132.71,1444.35 2133.72,1444.39 2134.73,1444.42 2135.74,1444.45 2136.76,1444.49 2137.77,1444.52 2138.78,1444.55 2139.79,1444.59 2140.8,1444.62 \n",
       "  2141.82,1444.65 2142.83,1444.68 2143.84,1444.71 2144.85,1444.74 2145.86,1444.77 2146.88,1444.79 2147.89,1444.82 2148.9,1444.85 2149.91,1444.87 2150.93,1444.9 \n",
       "  2151.94,1444.92 2152.95,1444.95 2153.96,1444.97 2154.97,1445 2155.99,1445.02 2157,1445.04 2158.01,1445.06 2159.02,1445.08 2160.03,1445.1 2161.05,1445.13 \n",
       "  2162.06,1445.15 2163.07,1445.16 2164.08,1445.18 2165.1,1445.2 2166.11,1445.22 2167.12,1445.24 2168.13,1445.25 2169.14,1445.27 2170.16,1445.29 2171.17,1445.3 \n",
       "  2172.18,1445.32 2173.19,1445.33 2174.2,1445.35 2175.22,1445.36 2176.23,1445.37 2177.24,1445.39 2178.25,1445.4 2179.27,1445.41 2180.28,1445.43 2181.29,1445.44 \n",
       "  2182.3,1445.45 2183.31,1445.46 2184.33,1445.47 2185.34,1445.48 2186.35,1445.49 2187.36,1445.5 2188.37,1445.51 2189.39,1445.52 2190.4,1445.53 2191.41,1445.54 \n",
       "  2192.42,1445.55 2193.44,1445.55 2194.45,1445.56 2195.46,1445.57 2196.47,1445.58 2197.48,1445.58 2198.5,1445.59 2199.51,1445.6 2200.52,1445.6 2201.53,1445.61 \n",
       "  2202.54,1445.61 2203.56,1445.62 2204.57,1445.62 2205.58,1445.63 2206.59,1445.64 2207.61,1445.64 2208.62,1445.64 2209.63,1445.65 2210.64,1445.65 2211.65,1445.66 \n",
       "  2212.67,1445.66 2213.68,1445.66 2214.69,1445.67 2215.7,1445.67 2216.71,1445.68 2217.73,1445.68 2218.74,1445.68 2219.75,1445.68 2220.76,1445.69 2221.78,1445.69 \n",
       "  2222.79,1445.69 2223.8,1445.69 2224.81,1445.7 2225.82,1445.7 2226.84,1445.7 2227.85,1445.7 2228.86,1445.7 2229.87,1445.71 2230.88,1445.71 2231.9,1445.71 \n",
       "  2232.91,1445.71 2233.92,1445.71 2234.93,1445.71 2235.95,1445.71 2236.96,1445.71 2237.97,1445.71 2238.98,1445.71 2239.99,1445.72 2241.01,1445.72 2242.02,1445.72 \n",
       "  2243.03,1445.72 2244.04,1445.72 2245.05,1445.72 2246.07,1445.72 2247.08,1445.71 2248.09,1445.71 2249.1,1445.71 2250.11,1445.71 2251.13,1445.71 2252.14,1445.71 \n",
       "  2253.15,1445.71 2254.16,1445.71 2255.18,1445.7 2256.19,1445.7 2257.2,1445.7 2258.21,1445.7 2259.22,1445.69 2260.24,1445.69 2261.25,1445.69 2262.26,1445.68 \n",
       "  2263.27,1445.68 2264.28,1445.68 2265.3,1445.67 2266.31,1445.67 2267.32,1445.66 2268.33,1445.65 2269.35,1445.65 2270.36,1445.64 2271.37,1445.63 2272.38,1445.63 \n",
       "  2273.39,1445.62 2274.41,1445.61 2275.42,1445.6 2276.43,1445.59 2277.44,1445.58 2278.45,1445.56 2279.47,1445.55 2280.48,1445.54 2281.49,1445.52 2282.5,1445.51 \n",
       "  2283.52,1445.49 2284.53,1445.47 2285.54,1445.45 2286.55,1445.43 2287.56,1445.41 2288.58,1445.39 2289.59,1445.36 2290.6,1445.34 \n",
       "  \"/>\n",
       "<path clip-path=\"url(#clip770)\" d=\"\n",
       "M1890.74 276.658 L2279.55 276.658 L2279.55 95.2176 L1890.74 95.2176  Z\n",
       "  \" fill=\"#ffffff\" fill-rule=\"evenodd\" fill-opacity=\"1\"/>\n",
       "<polyline clip-path=\"url(#clip770)\" style=\"stroke:#000000; stroke-width:4; stroke-opacity:1; fill:none\" points=\"\n",
       "  1890.74,276.658 2279.55,276.658 2279.55,95.2176 1890.74,95.2176 1890.74,276.658 \n",
       "  \"/>\n",
       "<polyline clip-path=\"url(#clip770)\" style=\"stroke:#e26f46; stroke-width:4; stroke-opacity:1; fill:none\" points=\"\n",
       "  1915.14,155.698 2061.55,155.698 \n",
       "  \"/>\n",
       "<path clip-path=\"url(#clip770)\" d=\"M 0 0 M2085.96 136.959 L2090.24 136.959 L2090.24 158.232 L2102.95 147.052 L2108.39 147.052 L2094.64 159.181 L2108.97 172.978 L2103.41 172.978 L2090.24 160.316 L2090.24 172.978 L2085.96 172.978 L2085.96 136.959 Z\" fill=\"#000000\" fill-rule=\"evenodd\" fill-opacity=\"1\" /><path clip-path=\"url(#clip770)\" d=\"M 0 0 M2130.63 150.987 L2130.63 136.959 L2134.89 136.959 L2134.89 172.978 L2130.63 172.978 L2130.63 169.089 Q2129.29 171.403 2127.23 172.538 Q2125.19 173.649 2122.32 173.649 Q2117.62 173.649 2114.66 169.899 Q2111.72 166.149 2111.72 160.038 Q2111.72 153.927 2114.66 150.177 Q2117.62 146.427 2122.32 146.427 Q2125.19 146.427 2127.23 147.561 Q2129.29 148.672 2130.63 150.987 M2116.12 160.038 Q2116.12 164.737 2118.04 167.422 Q2119.98 170.084 2123.36 170.084 Q2126.74 170.084 2128.69 167.422 Q2130.63 164.737 2130.63 160.038 Q2130.63 155.339 2128.69 152.677 Q2126.74 149.992 2123.36 149.992 Q2119.98 149.992 2118.04 152.677 Q2116.12 155.339 2116.12 160.038 Z\" fill=\"#000000\" fill-rule=\"evenodd\" fill-opacity=\"1\" /><path clip-path=\"url(#clip770)\" d=\"M 0 0 M2165.84 158.95 L2165.84 161.033 L2146.26 161.033 Q2146.53 165.431 2148.9 167.746 Q2151.28 170.038 2155.52 170.038 Q2157.97 170.038 2160.26 169.436 Q2162.58 168.834 2164.84 167.63 L2164.84 171.658 Q2162.55 172.63 2160.15 173.14 Q2157.74 173.649 2155.26 173.649 Q2149.06 173.649 2145.42 170.038 Q2141.81 166.427 2141.81 160.269 Q2141.81 153.904 2145.24 150.177 Q2148.69 146.427 2154.52 146.427 Q2159.75 146.427 2162.78 149.806 Q2165.84 153.163 2165.84 158.95 M2161.58 157.7 Q2161.53 154.205 2159.61 152.121 Q2157.72 150.038 2154.57 150.038 Q2151 150.038 2148.85 152.052 Q2146.72 154.066 2146.4 157.723 L2161.58 157.7 Z\" fill=\"#000000\" fill-rule=\"evenodd\" fill-opacity=\"1\" /><path clip-path=\"url(#clip770)\" d=\"M 0 0 M2201.03 136.959 L2201.03 140.501 L2196.95 140.501 Q2194.66 140.501 2193.76 141.427 Q2192.88 142.353 2192.88 144.76 L2192.88 147.052 L2199.89 147.052 L2199.89 150.362 L2192.88 150.362 L2192.88 172.978 L2188.59 172.978 L2188.59 150.362 L2184.52 150.362 L2184.52 147.052 L2188.59 147.052 L2188.59 145.246 Q2188.59 140.918 2190.61 138.95 Q2192.62 136.959 2197 136.959 L2201.03 136.959 Z\" fill=\"#000000\" fill-rule=\"evenodd\" fill-opacity=\"1\" /><path clip-path=\"url(#clip770)\" d=\"M 0 0 M2204.59 147.052 L2208.85 147.052 L2208.85 172.978 L2204.59 172.978 L2204.59 147.052 M2204.59 136.959 L2208.85 136.959 L2208.85 142.353 L2204.59 142.353 L2204.59 136.959 Z\" fill=\"#000000\" fill-rule=\"evenodd\" fill-opacity=\"1\" /><path clip-path=\"url(#clip770)\" d=\"M 0 0 M2221.97 139.691 L2221.97 147.052 L2230.75 147.052 L2230.75 150.362 L2221.97 150.362 L2221.97 164.436 Q2221.97 167.607 2222.83 168.51 Q2223.71 169.413 2226.37 169.413 L2230.75 169.413 L2230.75 172.978 L2226.37 172.978 Q2221.44 172.978 2219.57 171.149 Q2217.69 169.297 2217.69 164.436 L2217.69 150.362 L2214.57 150.362 L2214.57 147.052 L2217.69 147.052 L2217.69 139.691 L2221.97 139.691 Z\" fill=\"#000000\" fill-rule=\"evenodd\" fill-opacity=\"1\" /><polyline clip-path=\"url(#clip770)\" style=\"stroke:#e26f46; stroke-width:4; stroke-opacity:1; fill:none\" points=\"\n",
       "  1915.14,216.178 2061.55,216.178 \n",
       "  \"/>\n",
       "<path clip-path=\"url(#clip770)\" d=\"M 0 0 M2085.96 197.439 L2090.24 197.439 L2090.24 218.712 L2102.95 207.532 L2108.39 207.532 L2094.64 219.661 L2108.97 233.458 L2103.41 233.458 L2090.24 220.796 L2090.24 233.458 L2085.96 233.458 L2085.96 197.439 Z\" fill=\"#000000\" fill-rule=\"evenodd\" fill-opacity=\"1\" /><path clip-path=\"url(#clip770)\" d=\"M 0 0 M2130.63 211.467 L2130.63 197.439 L2134.89 197.439 L2134.89 233.458 L2130.63 233.458 L2130.63 229.569 Q2129.29 231.883 2127.23 233.018 Q2125.19 234.129 2122.32 234.129 Q2117.62 234.129 2114.66 230.379 Q2111.72 226.629 2111.72 220.518 Q2111.72 214.407 2114.66 210.657 Q2117.62 206.907 2122.32 206.907 Q2125.19 206.907 2127.23 208.041 Q2129.29 209.152 2130.63 211.467 M2116.12 220.518 Q2116.12 225.217 2118.04 227.902 Q2119.98 230.564 2123.36 230.564 Q2126.74 230.564 2128.69 227.902 Q2130.63 225.217 2130.63 220.518 Q2130.63 215.819 2128.69 213.157 Q2126.74 210.472 2123.36 210.472 Q2119.98 210.472 2118.04 213.157 Q2116.12 215.819 2116.12 220.518 Z\" fill=\"#000000\" fill-rule=\"evenodd\" fill-opacity=\"1\" /><path clip-path=\"url(#clip770)\" d=\"M 0 0 M2165.84 219.43 L2165.84 221.513 L2146.26 221.513 Q2146.53 225.911 2148.9 228.226 Q2151.28 230.518 2155.52 230.518 Q2157.97 230.518 2160.26 229.916 Q2162.58 229.314 2164.84 228.11 L2164.84 232.138 Q2162.55 233.11 2160.15 233.62 Q2157.74 234.129 2155.26 234.129 Q2149.06 234.129 2145.42 230.518 Q2141.81 226.907 2141.81 220.749 Q2141.81 214.384 2145.24 210.657 Q2148.69 206.907 2154.52 206.907 Q2159.75 206.907 2162.78 210.286 Q2165.84 213.643 2165.84 219.43 M2161.58 218.18 Q2161.53 214.685 2159.61 212.601 Q2157.72 210.518 2154.57 210.518 Q2151 210.518 2148.85 212.532 Q2146.72 214.546 2146.4 218.203 L2161.58 218.18 Z\" fill=\"#000000\" fill-rule=\"evenodd\" fill-opacity=\"1\" /><path clip-path=\"url(#clip770)\" d=\"M 0 0 M2201.03 197.439 L2201.03 200.981 L2196.95 200.981 Q2194.66 200.981 2193.76 201.907 Q2192.88 202.833 2192.88 205.24 L2192.88 207.532 L2199.89 207.532 L2199.89 210.842 L2192.88 210.842 L2192.88 233.458 L2188.59 233.458 L2188.59 210.842 L2184.52 210.842 L2184.52 207.532 L2188.59 207.532 L2188.59 205.726 Q2188.59 201.398 2190.61 199.43 Q2192.62 197.439 2197 197.439 L2201.03 197.439 Z\" fill=\"#000000\" fill-rule=\"evenodd\" fill-opacity=\"1\" /><path clip-path=\"url(#clip770)\" d=\"M 0 0 M2204.59 207.532 L2208.85 207.532 L2208.85 233.458 L2204.59 233.458 L2204.59 207.532 M2204.59 197.439 L2208.85 197.439 L2208.85 202.833 L2204.59 202.833 L2204.59 197.439 Z\" fill=\"#000000\" fill-rule=\"evenodd\" fill-opacity=\"1\" /><path clip-path=\"url(#clip770)\" d=\"M 0 0 M2221.97 200.171 L2221.97 207.532 L2230.75 207.532 L2230.75 210.842 L2221.97 210.842 L2221.97 224.916 Q2221.97 228.087 2222.83 228.99 Q2223.71 229.893 2226.37 229.893 L2230.75 229.893 L2230.75 233.458 L2226.37 233.458 Q2221.44 233.458 2219.57 231.629 Q2217.69 229.777 2217.69 224.916 L2217.69 210.842 L2214.57 210.842 L2214.57 207.532 L2217.69 207.532 L2217.69 200.171 L2221.97 200.171 Z\" fill=\"#000000\" fill-rule=\"evenodd\" fill-opacity=\"1\" /></svg>\n"
      ]
     },
     "execution_count": 34,
     "metadata": {},
     "output_type": "execute_result"
    }
   ],
   "source": [
    "# visualizing the column using KDE\n",
    "using StatsBase, KernelDensity\n",
    "\n",
    "p = kde(df1.Insulin)\n",
    "plot!(p.x, p.density .* length(df1.Insulin) .* 0.1,\n",
    "\tlinewidth=3, color=2, label=\"kde fit\")"
   ]
  },
  {
   "cell_type": "code",
   "execution_count": 35,
   "id": "5c3583bc",
   "metadata": {},
   "outputs": [],
   "source": [
    "# Remove Skewness by passing the column values through the log function\n",
    "Ins=[]\n",
    "function remove_skew(x)\n",
    "    for i in x\n",
    "        if i>0||i!=0\n",
    "            v = log(i)\n",
    "            append!(Ins, v)\n",
    "        else\n",
    "            v = 0\n",
    "            append!(Ins, v)\n",
    "        end\n",
    "    end \n",
    "end\n",
    "\n",
    "\n",
    "remove_skew(df1[!, :Insulin])\n",
    "df1[!, :Insulin] = Float64.(Ins);\n"
   ]
  },
  {
   "cell_type": "markdown",
   "id": "5f5ab367",
   "metadata": {},
   "source": [
    "Feature scaling"
   ]
  },
  {
   "cell_type": "code",
   "execution_count": 36,
   "id": "022911fa",
   "metadata": {},
   "outputs": [],
   "source": [
    "using StatsBase\n",
    "new_columns = names(df1)\n",
    "n = length(names(df1))\n",
    "c_names = names(df1)\n",
    "for x in range(1, stop=n, length=n)\n",
    "    x = Int64.(x)\n",
    "    col = Float64.(df1[:, x])\n",
    "    s = fit(ZScoreTransform, col)\n",
    "    colm = (c_names[x]*\"_\"*(string(x)))\n",
    "    df1[:, colm] = StatsBase.transform!(s, col)\n",
    "end"
   ]
  },
  {
   "cell_type": "code",
   "execution_count": 37,
   "id": "989878af",
   "metadata": {},
   "outputs": [
    {
     "data": {
      "text/plain": [
       "18-element Vector{String}:\n",
       " \"Pregnancies\"\n",
       " \"Glucose\"\n",
       " \"BloodPressure\"\n",
       " \"SkinThickness\"\n",
       " \"Insulin\"\n",
       " \"BMI\"\n",
       " \"DiabetesPedigreeFunction\"\n",
       " \"Age\"\n",
       " \"Outcome\"\n",
       " \"Pregnancies_1\"\n",
       " \"Glucose_2\"\n",
       " \"BloodPressure_3\"\n",
       " \"SkinThickness_4\"\n",
       " \"Insulin_5\"\n",
       " \"BMI_6\"\n",
       " \"DiabetesPedigreeFunction_7\"\n",
       " \"Age_8\"\n",
       " \"Outcome_9\""
      ]
     },
     "execution_count": 37,
     "metadata": {},
     "output_type": "execute_result"
    }
   ],
   "source": [
    "# newly created columns\n",
    "names(df1)"
   ]
  },
  {
   "cell_type": "code",
   "execution_count": 38,
   "id": "2444d823",
   "metadata": {},
   "outputs": [
    {
     "data": {
      "text/html": [
       "<table class=\"data-frame\"><thead><tr><th></th><th>Pregnancies_1</th><th>Glucose_2</th><th>BloodPressure_3</th><th>SkinThickness_4</th><th>Insulin_5</th><th>BMI_6</th></tr><tr><th></th><th>Float64</th><th>Float64</th><th>Float64</th><th>Float64</th><th>Float64</th><th>Float64</th></tr></thead><tbody><p>743 rows × 8 columns (omitted printing of 2 columns)</p><tr><th>1</th><td>0.663306</td><td>0.891053</td><td>0.153597</td><td>0.950759</td><td>-1.00012</td><td>0.235497</td></tr><tr><th>2</th><td>-0.855919</td><td>-1.20163</td><td>-0.159211</td><td>0.567082</td><td>-1.00012</td><td>-0.681766</td></tr><tr><th>3</th><td>1.271</td><td>2.05366</td><td>-0.26348</td><td>-1.28736</td><td>-1.00012</td><td>-1.11419</td></tr><tr><th>4</th><td>-0.855919</td><td>-1.06876</td><td>-0.159211</td><td>0.183404</td><td>0.857555</td><td>-0.485209</td></tr><tr><th>5</th><td>0.359461</td><td>-0.171898</td><td>0.257867</td><td>-1.28736</td><td>-1.00012</td><td>-0.812803</td></tr><tr><th>6</th><td>-0.248229</td><td>-1.43415</td><td>-0.993367</td><td>0.75892</td><td>0.830586</td><td>-0.1052</td></tr><tr><th>7</th><td>1.87869</td><td>-0.205115</td><td>-3.6001</td><td>-1.28736</td><td>-1.00012</td><td>0.458261</td></tr><tr><th>8</th><td>-0.552074</td><td>2.5187</td><td>0.049328</td><td>1.59022</td><td>1.57466</td><td>-0.170719</td></tr><tr><th>9</th><td>1.271</td><td>0.127057</td><td>1.40483</td><td>-1.28736</td><td>-1.00012</td><td>-4.16737</td></tr><tr><th>10</th><td>0.0556163</td><td>-0.371201</td><td>1.19629</td><td>-1.28736</td><td>-1.00012</td><td>0.759648</td></tr><tr><th>11</th><td>1.87869</td><td>1.5554</td><td>0.257867</td><td>-1.28736</td><td>-1.00012</td><td>0.812063</td></tr><tr><th>12</th><td>1.87869</td><td>0.592098</td><td>0.570675</td><td>-1.28736</td><td>-1.00012</td><td>-0.616247</td></tr><tr><th>13</th><td>0.359461</td><td>1.48896</td><td>0.153597</td><td>-0.0723806</td><td>1.11167</td><td>-0.786596</td></tr><tr><th>14</th><td>0.967151</td><td>-0.703373</td><td>-3.6001</td><td>-1.28736</td><td>-1.00012</td><td>-0.236238</td></tr><tr><th>15</th><td>-1.15976</td><td>-0.105464</td><td>0.779214</td><td>1.71811</td><td>1.22342</td><td>1.83416</td></tr><tr><th>16</th><td>0.967151</td><td>-0.470853</td><td>0.257867</td><td>-1.28736</td><td>-1.00012</td><td>-0.288653</td></tr><tr><th>17</th><td>-0.855919</td><td>-0.603722</td><td>-2.03606</td><td>1.1426</td><td>0.806668</td><td>1.50656</td></tr><tr><th>18</th><td>-0.855919</td><td>-0.205115</td><td>0.049328</td><td>0.631028</td><td>0.866163</td><td>0.366535</td></tr><tr><th>19</th><td>-0.248229</td><td>0.160274</td><td>0.987753</td><td>1.33444</td><td>1.23221</td><td>0.982412</td></tr><tr><th>20</th><td>1.271</td><td>-0.736591</td><td>0.779214</td><td>-1.28736</td><td>-1.00012</td><td>0.471365</td></tr><tr><th>21</th><td>0.967151</td><td>2.48548</td><td>1.09202</td><td>-1.28736</td><td>-1.00012</td><td>1.04793</td></tr><tr><th>22</th><td>1.57484</td><td>-0.0722463</td><td>0.570675</td><td>0.950759</td><td>-1.00012</td><td>-0.367276</td></tr><tr><th>23</th><td>2.18253</td><td>0.724967</td><td>1.30056</td><td>0.822867</td><td>1.03759</td><td>0.62861</td></tr><tr><th>24</th><td>1.87869</td><td>0.127057</td><td>0.049328</td><td>0.375243</td><td>0.940001</td><td>-0.0920967</td></tr><tr><th>25</th><td>0.967151</td><td>0.857836</td><td>0.362136</td><td>-1.28736</td><td>-1.00012</td><td>0.995515</td></tr><tr><th>26</th><td>-0.855919</td><td>-0.803025</td><td>-0.159211</td><td>-0.328166</td><td>1.02043</td><td>-1.12729</td></tr><tr><th>27</th><td>2.79022</td><td>0.791401</td><td>0.674945</td><td>-0.0723806</td><td>0.921825</td><td>-1.25833</td></tr><tr><th>28</th><td>0.359461</td><td>-0.138681</td><td>1.19629</td><td>-1.28736</td><td>-1.00012</td><td>0.301016</td></tr><tr><th>29</th><td>0.359461</td><td>-0.404418</td><td>0.310002</td><td>0.375243</td><td>-1.00012</td><td>0.549988</td></tr><tr><th>30</th><td>-0.248229</td><td>1.22322</td><td>0.362136</td><td>1.01471</td><td>1.24925</td><td>-0.0265779</td></tr><tr><th>&vellip;</th><td>&vellip;</td><td>&vellip;</td><td>&vellip;</td><td>&vellip;</td><td>&vellip;</td><td>&vellip;</td></tr></tbody></table>"
      ],
      "text/latex": [
       "\\begin{tabular}{r|ccccccc}\n",
       "\t& Pregnancies\\_1 & Glucose\\_2 & BloodPressure\\_3 & SkinThickness\\_4 & Insulin\\_5 & BMI\\_6 & \\\\\n",
       "\t\\hline\n",
       "\t& Float64 & Float64 & Float64 & Float64 & Float64 & Float64 & \\\\\n",
       "\t\\hline\n",
       "\t1 & 0.663306 & 0.891053 & 0.153597 & 0.950759 & -1.00012 & 0.235497 & $\\dots$ \\\\\n",
       "\t2 & -0.855919 & -1.20163 & -0.159211 & 0.567082 & -1.00012 & -0.681766 & $\\dots$ \\\\\n",
       "\t3 & 1.271 & 2.05366 & -0.26348 & -1.28736 & -1.00012 & -1.11419 & $\\dots$ \\\\\n",
       "\t4 & -0.855919 & -1.06876 & -0.159211 & 0.183404 & 0.857555 & -0.485209 & $\\dots$ \\\\\n",
       "\t5 & 0.359461 & -0.171898 & 0.257867 & -1.28736 & -1.00012 & -0.812803 & $\\dots$ \\\\\n",
       "\t6 & -0.248229 & -1.43415 & -0.993367 & 0.75892 & 0.830586 & -0.1052 & $\\dots$ \\\\\n",
       "\t7 & 1.87869 & -0.205115 & -3.6001 & -1.28736 & -1.00012 & 0.458261 & $\\dots$ \\\\\n",
       "\t8 & -0.552074 & 2.5187 & 0.049328 & 1.59022 & 1.57466 & -0.170719 & $\\dots$ \\\\\n",
       "\t9 & 1.271 & 0.127057 & 1.40483 & -1.28736 & -1.00012 & -4.16737 & $\\dots$ \\\\\n",
       "\t10 & 0.0556163 & -0.371201 & 1.19629 & -1.28736 & -1.00012 & 0.759648 & $\\dots$ \\\\\n",
       "\t11 & 1.87869 & 1.5554 & 0.257867 & -1.28736 & -1.00012 & 0.812063 & $\\dots$ \\\\\n",
       "\t12 & 1.87869 & 0.592098 & 0.570675 & -1.28736 & -1.00012 & -0.616247 & $\\dots$ \\\\\n",
       "\t13 & 0.359461 & 1.48896 & 0.153597 & -0.0723806 & 1.11167 & -0.786596 & $\\dots$ \\\\\n",
       "\t14 & 0.967151 & -0.703373 & -3.6001 & -1.28736 & -1.00012 & -0.236238 & $\\dots$ \\\\\n",
       "\t15 & -1.15976 & -0.105464 & 0.779214 & 1.71811 & 1.22342 & 1.83416 & $\\dots$ \\\\\n",
       "\t16 & 0.967151 & -0.470853 & 0.257867 & -1.28736 & -1.00012 & -0.288653 & $\\dots$ \\\\\n",
       "\t17 & -0.855919 & -0.603722 & -2.03606 & 1.1426 & 0.806668 & 1.50656 & $\\dots$ \\\\\n",
       "\t18 & -0.855919 & -0.205115 & 0.049328 & 0.631028 & 0.866163 & 0.366535 & $\\dots$ \\\\\n",
       "\t19 & -0.248229 & 0.160274 & 0.987753 & 1.33444 & 1.23221 & 0.982412 & $\\dots$ \\\\\n",
       "\t20 & 1.271 & -0.736591 & 0.779214 & -1.28736 & -1.00012 & 0.471365 & $\\dots$ \\\\\n",
       "\t21 & 0.967151 & 2.48548 & 1.09202 & -1.28736 & -1.00012 & 1.04793 & $\\dots$ \\\\\n",
       "\t22 & 1.57484 & -0.0722463 & 0.570675 & 0.950759 & -1.00012 & -0.367276 & $\\dots$ \\\\\n",
       "\t23 & 2.18253 & 0.724967 & 1.30056 & 0.822867 & 1.03759 & 0.62861 & $\\dots$ \\\\\n",
       "\t24 & 1.87869 & 0.127057 & 0.049328 & 0.375243 & 0.940001 & -0.0920967 & $\\dots$ \\\\\n",
       "\t25 & 0.967151 & 0.857836 & 0.362136 & -1.28736 & -1.00012 & 0.995515 & $\\dots$ \\\\\n",
       "\t26 & -0.855919 & -0.803025 & -0.159211 & -0.328166 & 1.02043 & -1.12729 & $\\dots$ \\\\\n",
       "\t27 & 2.79022 & 0.791401 & 0.674945 & -0.0723806 & 0.921825 & -1.25833 & $\\dots$ \\\\\n",
       "\t28 & 0.359461 & -0.138681 & 1.19629 & -1.28736 & -1.00012 & 0.301016 & $\\dots$ \\\\\n",
       "\t29 & 0.359461 & -0.404418 & 0.310002 & 0.375243 & -1.00012 & 0.549988 & $\\dots$ \\\\\n",
       "\t30 & -0.248229 & 1.22322 & 0.362136 & 1.01471 & 1.24925 & -0.0265779 & $\\dots$ \\\\\n",
       "\t$\\dots$ & $\\dots$ & $\\dots$ & $\\dots$ & $\\dots$ & $\\dots$ & $\\dots$ &  \\\\\n",
       "\\end{tabular}\n"
      ],
      "text/plain": [
       "\u001b[1m743×8 DataFrame\u001b[0m\n",
       "\u001b[1m Row \u001b[0m│\u001b[1m Pregnancies_1 \u001b[0m\u001b[1m Glucose_2   \u001b[0m\u001b[1m BloodPressure_3 \u001b[0m\u001b[1m SkinThickness_4 \u001b[0m\u001b[1m Insulin_5\u001b[0m ⋯\n",
       "\u001b[1m     \u001b[0m│\u001b[90m Float64       \u001b[0m\u001b[90m Float64     \u001b[0m\u001b[90m Float64         \u001b[0m\u001b[90m Float64         \u001b[0m\u001b[90m Float64  \u001b[0m ⋯\n",
       "─────┼──────────────────────────────────────────────────────────────────────────\n",
       "   1 │     0.663306    0.891053           0.153597        0.950759   -1.00012  ⋯\n",
       "   2 │    -0.855919   -1.20163           -0.159211        0.567082   -1.00012\n",
       "   3 │     1.271       2.05366           -0.26348        -1.28736    -1.00012\n",
       "   4 │    -0.855919   -1.06876           -0.159211        0.183404    0.857555\n",
       "   5 │     0.359461   -0.171898           0.257867       -1.28736    -1.00012  ⋯\n",
       "   6 │    -0.248229   -1.43415           -0.993367        0.75892     0.830586\n",
       "   7 │     1.87869    -0.205115          -3.6001         -1.28736    -1.00012\n",
       "   8 │    -0.552074    2.5187             0.049328        1.59022     1.57466\n",
       "   9 │     1.271       0.127057           1.40483        -1.28736    -1.00012  ⋯\n",
       "  10 │     0.0556163  -0.371201           1.19629        -1.28736    -1.00012\n",
       "  11 │     1.87869     1.5554             0.257867       -1.28736    -1.00012\n",
       "  ⋮  │       ⋮             ⋮              ⋮                ⋮             ⋮     ⋱\n",
       " 734 │    -0.855919   -0.50407            0.362136       -1.28736    -1.00012\n",
       " 735 │     0.663306    2.28618            1.19629        -1.28736    -1.00012  ⋯\n",
       " 736 │    -0.552074   -1.10198           -0.576289        0.375243    0.133543\n",
       " 737 │     1.57484     1.62183            0.257867        0.694974   -1.00012\n",
       " 738 │     1.57484    -1.06876           -0.36775        -1.28736    -1.00012\n",
       " 739 │     1.87869    -0.670156           0.362136        1.78206     1.12319  ⋯\n",
       " 740 │    -0.552074    0.0274053          0.049328        0.439189   -1.00012\n",
       " 741 │     0.359461   -0.00581189         0.153597        0.183404    0.929193\n",
       " 742 │    -0.855919    0.160274          -0.472019       -1.28736    -1.00012\n",
       " 743 │    -0.855919   -0.935894           0.049328        0.694974   -1.00012  ⋯\n",
       "\u001b[36m                                                  3 columns and 722 rows omitted\u001b[0m"
      ]
     },
     "execution_count": 38,
     "metadata": {},
     "output_type": "execute_result"
    }
   ],
   "source": [
    "# select features\n",
    "features = select(df1, Between(:Pregnancies_1, :Age_8))"
   ]
  },
  {
   "cell_type": "code",
   "execution_count": 39,
   "id": "7fd77548",
   "metadata": {},
   "outputs": [],
   "source": [
    "# select label\n",
    "target = df1[!, :Outcome];"
   ]
  },
  {
   "cell_type": "code",
   "execution_count": 40,
   "id": "1d0c0272",
   "metadata": {},
   "outputs": [
    {
     "data": {
      "text/plain": [
       "4-element Vector{Array}:\n",
       " [0.05561631245797307 0.2599257863797831 … -0.7548825492618569 -0.8746275643356131; 0.6633063147561201 2.0536551295393384 … 3.2561387125402703 1.0436150448995851; … ; -1.159763692138321 -1.0023281958436079 … -0.2657336148957439 -0.7002418725869587; -0.24822868869110046 -1.26806587631169 … -0.41247829520557777 -0.7002418725869587]\n",
       " [-0.552073689840174 -0.33798399467340207 … -0.3896513449351591 -0.8746275643356131; 0.6633063147561201 0.12705694614574192 … -1.1135917677970064 1.8283506577685298; … ; -1.159763692138321 0.2599257863797831 … 0.7843060975435119 -0.35147048908964995; -0.8559186909892474 0.8246183573744579 … 0.3310280850309138 -0.35147048908964995]\n",
       " [0, 0, 1, 1, 1, 0, 0, 0, 0, 0  …  0, 1, 0, 1, 0, 0, 0, 0, 0, 0]\n",
       " [0, 1, 0, 0, 0, 0, 0, 1, 0, 0  …  1, 0, 0, 0, 1, 0, 1, 0, 0, 0]"
      ]
     },
     "execution_count": 40,
     "metadata": {},
     "output_type": "execute_result"
    }
   ],
   "source": [
    "@pyimport sklearn.model_selection as ms\n",
    "# split data into train|test data\n",
    "X_train, X_test, y_train, y_test = ms.train_test_split(Array(features),Array(target), test_size = 0.2, random_state=42)\n"
   ]
  },
  {
   "cell_type": "code",
   "execution_count": 41,
   "id": "015d8dfc",
   "metadata": {},
   "outputs": [
    {
     "data": {
      "text/plain": [
       "((594, 8), (149, 8), (594,), (149,))"
      ]
     },
     "execution_count": 41,
     "metadata": {},
     "output_type": "execute_result"
    }
   ],
   "source": [
    "# visuaize the data size\n",
    "size(X_train), size(X_test), size(y_train), size(y_test)"
   ]
  },
  {
   "cell_type": "markdown",
   "id": "7bae29ca",
   "metadata": {},
   "source": [
    "Model Creation "
   ]
  },
  {
   "cell_type": "code",
   "execution_count": 42,
   "id": "ce24999b",
   "metadata": {},
   "outputs": [
    {
     "data": {
      "text/plain": [
       "PyObject <module 'sklearn.ensemble' from '/home/lucifer/.local/lib/python3.8/site-packages/sklearn/ensemble/__init__.py'>"
      ]
     },
     "execution_count": 42,
     "metadata": {},
     "output_type": "execute_result"
    }
   ],
   "source": [
    "@pyimport sklearn\n",
    "# import sklearn\n",
    "svm = pyimport(\"sklearn.svm\") #for SVC\n",
    "tree = pyimport(\"sklearn.tree\") #for decision tree\n",
    "neighbors = pyimport(\"sklearn.neighbors\") #for kn\n",
    "linear_model = pyimport(\"sklearn.linear_model\") # for logistic regression\n",
    "ensemble = pyimport(\"sklearn.ensemble\") #for ensemble methods (ex. Randomforest, \n",
    "                                        #AdaBoost, GradientBoosting)\n"
   ]
  },
  {
   "cell_type": "code",
   "execution_count": 43,
   "id": "ee6e3be8",
   "metadata": {},
   "outputs": [
    {
     "data": {
      "text/plain": [
       "7-element Vector{PyObject}:\n",
       " PyObject SVC()\n",
       " PyObject DecisionTreeClassifier()\n",
       " PyObject KNeighborsClassifier()\n",
       " PyObject LogisticRegression()\n",
       " PyObject RandomForestClassifier()\n",
       " PyObject AdaBoostClassifier()\n",
       " PyObject GradientBoostingClassifier()"
      ]
     },
     "execution_count": 43,
     "metadata": {},
     "output_type": "execute_result"
    }
   ],
   "source": [
    "# list of models we are going to use for classification task \n",
    "models = [svm.SVC(),tree.DecisionTreeClassifier(),neighbors.KNeighborsClassifier(),linear_model.LogisticRegression(),ensemble.RandomForestClassifier(),ensemble.AdaBoostClassifier(),ensemble.GradientBoostingClassifier()]"
   ]
  },
  {
   "cell_type": "code",
   "execution_count": 44,
   "id": "98bb3436",
   "metadata": {},
   "outputs": [
    {
     "name": "stdout",
     "output_type": "stream",
     "text": [
      "PyObject SVC()0.7919463087248322\n",
      "PyObject DecisionTreeClassifier()0.738255033557047\n",
      "PyObject KNeighborsClassifier()0.785234899328859\n",
      "PyObject LogisticRegression()0.825503355704698\n",
      "PyObject RandomForestClassifier()0.8187919463087249\n",
      "PyObject AdaBoostClassifier()0.7785234899328859\n",
      "PyObject GradientBoostingClassifier()0.8053691275167785\n"
     ]
    }
   ],
   "source": [
    "metrics = pyimport(\"sklearn.metrics\")\n",
    "# import metrics(acc. score)\n",
    "for model in models\n",
    "    #fit train & test data to every model and print the accuracy\n",
    "    model.fit(X_train, y_train)\n",
    "    y_pred = model.predict(X_test)\n",
    "    print(model, metrics.accuracy_score(y_test,y_pred),\"\\n\")\n",
    "end\n"
   ]
  },
  {
   "cell_type": "code",
   "execution_count": 45,
   "id": "a6e97f00",
   "metadata": {},
   "outputs": [],
   "source": [
    "#Logistic Regression has played pretty well"
   ]
  },
  {
   "cell_type": "code",
   "execution_count": 46,
   "id": "37d53811",
   "metadata": {},
   "outputs": [
    {
     "ename": "LoadError",
     "evalue": "syntax: incomplete: premature end of input",
     "output_type": "error",
     "traceback": [
      "syntax: incomplete: premature end of input",
      "",
      "Stacktrace:",
      " [1] top-level scope",
      "   @ In[46]:1",
      " [2] eval",
      "   @ ./boot.jl:360 [inlined]",
      " [3] include_string(mapexpr::typeof(REPL.softscope), mod::Module, code::String, filename::String)",
      "   @ Base ./loading.jl:1094"
     ]
    }
   ],
   "source": [
    "model."
   ]
  }
 ],
 "metadata": {
  "kernelspec": {
   "display_name": "Julia 1.6.0",
   "language": "julia",
   "name": "julia-1.6"
  },
  "language_info": {
   "file_extension": ".jl",
   "mimetype": "application/julia",
   "name": "julia",
   "version": "1.6.0"
  }
 },
 "nbformat": 4,
 "nbformat_minor": 5
}
